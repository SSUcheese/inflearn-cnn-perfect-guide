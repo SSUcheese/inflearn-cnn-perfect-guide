{
 "cells": [
  {
   "cell_type": "code",
   "execution_count": 1,
   "id": "f985339d",
   "metadata": {
    "_cell_guid": "b1076dfc-b9ad-4769-8c92-a6c4dae69d19",
    "_uuid": "8f2839f25d086af736a60e9eeb907d3b93b6e0e5",
    "execution": {
     "iopub.execute_input": "2024-02-05T12:14:35.087355Z",
     "iopub.status.busy": "2024-02-05T12:14:35.086986Z",
     "iopub.status.idle": "2024-02-05T12:14:35.967736Z",
     "shell.execute_reply": "2024-02-05T12:14:35.966892Z"
    },
    "papermill": {
     "duration": 0.896278,
     "end_time": "2024-02-05T12:14:35.970128",
     "exception": false,
     "start_time": "2024-02-05T12:14:35.073850",
     "status": "completed"
    },
    "tags": []
   },
   "outputs": [],
   "source": [
    "# This Python 3 environment comes with many helpful analytics libraries installed\n",
    "# It is defined by the kaggle/python Docker image: https://github.com/kaggle/docker-python\n",
    "# For example, here's several helpful packages to load\n",
    "\n",
    "import numpy as np # linear algebra\n",
    "import pandas as pd # data processing, CSV file I/O (e.g. pd.read_csv)\n",
    "\n",
    "# Input data files are available in the read-only \"../input/\" directory\n",
    "# For example, running this (by clicking run or pressing Shift+Enter) will list all files under the input directory\n",
    "\n",
    "import os\n",
    "for dirname, _, filenames in os.walk('/kaggle/input'):\n",
    "    for filename in filenames:\n",
    "        print(os.path.join(dirname, filename))\n",
    "\n",
    "# You can write up to 20GB to the current directory (/kaggle/working/) that gets preserved as output when you create a version using \"Save & Run All\" \n",
    "# You can also write temporary files to /kaggle/temp/, but they won't be saved outside of the current session"
   ]
  },
  {
   "cell_type": "markdown",
   "id": "9023a23d",
   "metadata": {
    "papermill": {
     "duration": 0.010994,
     "end_time": "2024-02-05T12:14:35.992916",
     "exception": false,
     "start_time": "2024-02-05T12:14:35.981922",
     "status": "completed"
    },
    "tags": []
   },
   "source": [
    "# fashion mnist dataset을 통한 딥러닝 학습 실습을 정리하기 위한 공간임\n",
    "\n",
    "* 일반적으로 로직은\n",
    "* functional api 모델 생성 후 pixel 값 조정 및 type 조정\n",
    "* one hot encoding 적용\n",
    "* 이후 학습 검증 테스트 데이터로 나눈다\n",
    "* 마지막으로 complie, 학습/예측/평가"
   ]
  },
  {
   "cell_type": "raw",
   "id": "37bbb35b",
   "metadata": {
    "papermill": {
     "duration": 0.010969,
     "end_time": "2024-02-05T12:14:36.015001",
     "exception": false,
     "start_time": "2024-02-05T12:14:36.004032",
     "status": "completed"
    },
    "tags": []
   },
   "source": [
    "%config Completer.use_jedi = False"
   ]
  },
  {
   "cell_type": "markdown",
   "id": "9226f7ad",
   "metadata": {
    "papermill": {
     "duration": 0.011694,
     "end_time": "2024-02-05T12:14:36.037961",
     "exception": false,
     "start_time": "2024-02-05T12:14:36.026267",
     "status": "completed"
    },
    "tags": []
   },
   "source": [
    "## 데이터 전처리 수행\n",
    "\n",
    "* 0에서 255 사이의 픽셀값을 0에서 1 사이로 변환. 이 과정을 거쳐야 성능 향상\n",
    "* array type은 float32. tensorflow도 데이터를 끌어올 떄 자동적으로 float32로 바꾼다\n",
    "* 전처리를 수행하기 전에 train_labels를 보면 type이 unit8로 되어 있음"
   ]
  },
  {
   "cell_type": "code",
   "execution_count": 2,
   "id": "c42da9e3",
   "metadata": {
    "execution": {
     "iopub.execute_input": "2024-02-05T12:14:36.062570Z",
     "iopub.status.busy": "2024-02-05T12:14:36.061714Z",
     "iopub.status.idle": "2024-02-05T12:14:52.119928Z",
     "shell.execute_reply": "2024-02-05T12:14:52.118717Z"
    },
    "papermill": {
     "duration": 16.073276,
     "end_time": "2024-02-05T12:14:52.122317",
     "exception": false,
     "start_time": "2024-02-05T12:14:36.049041",
     "status": "completed"
    },
    "tags": []
   },
   "outputs": [
    {
     "name": "stderr",
     "output_type": "stream",
     "text": [
      "2024-02-05 12:14:38.375899: E external/local_xla/xla/stream_executor/cuda/cuda_dnn.cc:9261] Unable to register cuDNN factory: Attempting to register factory for plugin cuDNN when one has already been registered\n",
      "2024-02-05 12:14:38.376030: E external/local_xla/xla/stream_executor/cuda/cuda_fft.cc:607] Unable to register cuFFT factory: Attempting to register factory for plugin cuFFT when one has already been registered\n",
      "2024-02-05 12:14:38.534644: E external/local_xla/xla/stream_executor/cuda/cuda_blas.cc:1515] Unable to register cuBLAS factory: Attempting to register factory for plugin cuBLAS when one has already been registered\n"
     ]
    },
    {
     "name": "stdout",
     "output_type": "stream",
     "text": [
      "Downloading data from https://storage.googleapis.com/tensorflow/tf-keras-datasets/train-labels-idx1-ubyte.gz\n",
      "29515/29515 [==============================] - 0s 0us/step\n",
      "Downloading data from https://storage.googleapis.com/tensorflow/tf-keras-datasets/train-images-idx3-ubyte.gz\n",
      "26421880/26421880 [==============================] - 0s 0us/step\n",
      "Downloading data from https://storage.googleapis.com/tensorflow/tf-keras-datasets/t10k-labels-idx1-ubyte.gz\n",
      "5148/5148 [==============================] - 0s 0us/step\n",
      "Downloading data from https://storage.googleapis.com/tensorflow/tf-keras-datasets/t10k-images-idx3-ubyte.gz\n",
      "4422102/4422102 [==============================] - 0s 0us/step\n",
      "<class 'numpy.uint8'>\n",
      "(60000, 28, 28)\n"
     ]
    }
   ],
   "source": [
    "from tensorflow.keras.datasets import fashion_mnist\n",
    "\n",
    "(train_images, train_labels), (test_images, test_labels) = fashion_mnist.load_data()\n",
    "\n",
    "# 전처리를 수행하기 전 데이터들을 보면 type이 unit8임\n",
    "print(type(train_images[0][0][0]))\n",
    "print(train_images.shape)"
   ]
  },
  {
   "cell_type": "code",
   "execution_count": 3,
   "id": "3ae3d377",
   "metadata": {
    "execution": {
     "iopub.execute_input": "2024-02-05T12:14:52.149373Z",
     "iopub.status.busy": "2024-02-05T12:14:52.148829Z",
     "iopub.status.idle": "2024-02-05T12:14:52.153736Z",
     "shell.execute_reply": "2024-02-05T12:14:52.152869Z"
    },
    "papermill": {
     "duration": 0.02034,
     "end_time": "2024-02-05T12:14:52.156013",
     "exception": false,
     "start_time": "2024-02-05T12:14:52.135673",
     "status": "completed"
    },
    "tags": []
   },
   "outputs": [
    {
     "name": "stdout",
     "output_type": "stream",
     "text": [
      "(10000, 28, 28)\n"
     ]
    }
   ],
   "source": [
    "print(test_images.shape)"
   ]
  },
  {
   "cell_type": "code",
   "execution_count": 4,
   "id": "5412d805",
   "metadata": {
    "execution": {
     "iopub.execute_input": "2024-02-05T12:14:52.182366Z",
     "iopub.status.busy": "2024-02-05T12:14:52.181949Z",
     "iopub.status.idle": "2024-02-05T12:14:52.470468Z",
     "shell.execute_reply": "2024-02-05T12:14:52.469445Z"
    },
    "papermill": {
     "duration": 0.304494,
     "end_time": "2024-02-05T12:14:52.472536",
     "exception": false,
     "start_time": "2024-02-05T12:14:52.168042",
     "status": "completed"
    },
    "tags": []
   },
   "outputs": [
    {
     "data": {
      "text/plain": [
       "Text(0.5, 1.0, '9')"
      ]
     },
     "execution_count": 4,
     "metadata": {},
     "output_type": "execute_result"
    },
    {
     "data": {
      "image/png": "[encoded data removed]",
      "text/plain": [
       "<Figure size 640x480 with 1 Axes>"
      ]
     },
     "metadata": {},
     "output_type": "display_data"
    }
   ],
   "source": [
    "# fashion mnist 데이터 샘플 출력\n",
    "\n",
    "import matplotlib.pyplot as plt\n",
    "%matplotlib inline\n",
    "\n",
    "plt.imshow(train_images[0], cmap='gray')\n",
    "plt.title(train_labels[0])"
   ]
  },
  {
   "cell_type": "code",
   "execution_count": 5,
   "id": "0b84fd35",
   "metadata": {
    "execution": {
     "iopub.execute_input": "2024-02-05T12:14:52.500861Z",
     "iopub.status.busy": "2024-02-05T12:14:52.500052Z",
     "iopub.status.idle": "2024-02-05T12:14:53.533036Z",
     "shell.execute_reply": "2024-02-05T12:14:53.531953Z"
    },
    "papermill": {
     "duration": 1.054004,
     "end_time": "2024-02-05T12:14:53.539907",
     "exception": false,
     "start_time": "2024-02-05T12:14:52.485903",
     "status": "completed"
    },
    "tags": []
   },
   "outputs": [
    {
     "name": "stdout",
     "output_type": "stream",
     "text": [
      "Model: \"model\"\n",
      "_________________________________________________________________\n",
      " Layer (type)                Output Shape              Param #   \n",
      "=================================================================\n",
      " input_1 (InputLayer)        [(None, 28, 28)]          0         \n",
      "                                                                 \n",
      " flatten (Flatten)           (None, 784)               0         \n",
      "                                                                 \n",
      " dense (Dense)               (None, 100)               78500     \n",
      "                                                                 \n",
      " dense_1 (Dense)             (None, 30)                3030      \n",
      "                                                                 \n",
      " dense_2 (Dense)             (None, 10)                310       \n",
      "                                                                 \n",
      "=================================================================\n",
      "Total params: 81840 (319.69 KB)\n",
      "Trainable params: 81840 (319.69 KB)\n",
      "Non-trainable params: 0 (0.00 Byte)\n",
      "_________________________________________________________________\n"
     ]
    }
   ],
   "source": [
    "# functional api를 이용한 model 생성\n",
    "\n",
    "from tensorflow.keras.layers import  Layer, Input, Dense, Flatten\n",
    "from tensorflow.keras.models import Model\n",
    "import tensorflow as tf\n",
    "\n",
    "INPUT_SIZE = 28\n",
    "\n",
    "def create_model():\n",
    "    input_tensor = Input(shape=(INPUT_SIZE, INPUT_SIZE))\n",
    "    x = Flatten()(input_tensor)\n",
    "    x = Dense(100, activation='relu')(x)\n",
    "    x = Dense(30, activation='relu')(x)\n",
    "    output = Dense(10, activation='softmax')(x)\n",
    "    \n",
    "    # functional api의 경우 multi input output을 지원하는데 sequentail은 불가능\n",
    "    model = Model(inputs=input_tensor, outputs=output)\n",
    "    \n",
    "    return model\n",
    "\n",
    "model = create_model()\n",
    "model.summary()"
   ]
  },
  {
   "cell_type": "code",
   "execution_count": 6,
   "id": "980d58e0",
   "metadata": {
    "execution": {
     "iopub.execute_input": "2024-02-05T12:14:53.572602Z",
     "iopub.status.busy": "2024-02-05T12:14:53.572240Z",
     "iopub.status.idle": "2024-02-05T12:14:54.686615Z",
     "shell.execute_reply": "2024-02-05T12:14:54.685616Z"
    },
    "papermill": {
     "duration": 1.134026,
     "end_time": "2024-02-05T12:14:54.689339",
     "exception": false,
     "start_time": "2024-02-05T12:14:53.555313",
     "status": "completed"
    },
    "tags": []
   },
   "outputs": [],
   "source": [
    "# 데이터 전처리 함수\n",
    "\n",
    "from tensorflow.keras.utils import to_categorical\n",
    "from sklearn.model_selection import train_test_split\n",
    "\n",
    "# 0~1 사잇값의 float32로 전처리\n",
    "\n",
    "def get_preprocessed_data(images, labels):\n",
    "    images = np.array(images/255.0, dtype=np.float32)\n",
    "    labels = np.array(labels, dtype=np.float32)\n",
    "    \n",
    "    return images, labels\n",
    "\n",
    "# 0~1 사잇값 float32로 변경하는 함수 호출 후 one hot encoding 적용\n",
    "\n",
    "def get_preprocessed_ohe(images, labels):\n",
    "    images, labels = get_preprocessed_data(images, labels)\n",
    "    \n",
    "    # labels 데이터를 one hot encoding\n",
    "    oh_labels = to_categorical(labels)\n",
    "    \n",
    "    return images, oh_labels\n",
    "\n",
    "# 학습/검증/테스트 데이터 세트에 전처리 및 one hot encoding 적용\n",
    "# 여기서 전처리 및 one hot encoding 과정을 거친 후 학습과 검증 데이터를 분리하면 효율적\n",
    "\n",
    "def get_train_valid_test_split(train_images, train_labels, test_images, test_labels, valid_size=0.15, random_state=42):\n",
    "    \n",
    "    # 학습과 테스트 데이터의 전처리 후 학습이랑 검증 데이터 분리\n",
    "    train_images, train_oh_labels = get_preprocessed_ohe(train_images, train_labels)\n",
    "    test_images, test_oh_labels = get_preprocessed_ohe(test_images, test_labels)\n",
    "    \n",
    "    # 학습과 검증 데이터 분리\n",
    "    train_images, valid_images, train_oh_images, valid_oh_labels = train_test_split(train_images, train_oh_labels, test_size=valid_size, random_state=random_state)\n",
    "    \n",
    "    return (train_images, train_oh_images), (valid_images, valid_oh_labels), (test_images, test_oh_labels)"
   ]
  },
  {
   "cell_type": "code",
   "execution_count": 7,
   "id": "b57a80e2",
   "metadata": {
    "execution": {
     "iopub.execute_input": "2024-02-05T12:14:54.722645Z",
     "iopub.status.busy": "2024-02-05T12:14:54.721861Z",
     "iopub.status.idle": "2024-02-05T12:14:55.446785Z",
     "shell.execute_reply": "2024-02-05T12:14:55.445768Z"
    },
    "papermill": {
     "duration": 0.743747,
     "end_time": "2024-02-05T12:14:55.448981",
     "exception": false,
     "start_time": "2024-02-05T12:14:54.705234",
     "status": "completed"
    },
    "tags": []
   },
   "outputs": [
    {
     "name": "stdout",
     "output_type": "stream",
     "text": [
      "<class 'numpy.ndarray'>\n",
      "((51000, 28, 28), (51000, 10))\n"
     ]
    }
   ],
   "source": [
    "# 데이터 전처리 함수를 활용한 실제 데이터 전처리\n",
    "\n",
    "from tensorflow.keras.datasets import fashion_mnist\n",
    "\n",
    "# fashion mnist 데이터 재 로딩 및 전처리 적용해서 학습/검증/테스트 데이터 세트 결정\n",
    "# 데이터 받아오기 / 처음 받아오는 데이터 타입은 numpy.ndarray이다\n",
    "\n",
    "(train_images, train_labels), (test_images, test_labels) = fashion_mnist.load_data()\n",
    "print(type(train_labels))\n",
    "\n",
    "(tr_images, tr_oh_labels), (val_images, val_oh_labels), (test_images, test_oh_labels) = \\\n",
    "    get_train_valid_test_split(train_images, train_labels, test_images, test_labels, valid_size=0.15, random_state=42)\n",
    "\n",
    "print((tr_images.shape, tr_oh_labels.shape))  # labels를 보면 one hot encoding이 되어 있다"
   ]
  },
  {
   "cell_type": "markdown",
   "id": "3d9ee038",
   "metadata": {
    "papermill": {
     "duration": 0.015169,
     "end_time": "2024-02-05T12:14:55.479774",
     "exception": false,
     "start_time": "2024-02-05T12:14:55.464605",
     "status": "completed"
    },
    "tags": []
   },
   "source": [
    "# loss와 optimizer 설정을 통한 학습 수행\n",
    "* loss는 categorical_crossentropy로, optimizer는 Adam으로 설정\n",
    "* categorical crossentropy를 위해서 Label을 one hot encoding으로 변경(keras의 to_categorical을 통해)"
   ]
  },
  {
   "cell_type": "code",
   "execution_count": 8,
   "id": "a0e98339",
   "metadata": {
    "execution": {
     "iopub.execute_input": "2024-02-05T12:14:55.510906Z",
     "iopub.status.busy": "2024-02-05T12:14:55.510251Z",
     "iopub.status.idle": "2024-02-05T12:14:55.594085Z",
     "shell.execute_reply": "2024-02-05T12:14:55.593284Z"
    },
    "papermill": {
     "duration": 0.101661,
     "end_time": "2024-02-05T12:14:55.596302",
     "exception": false,
     "start_time": "2024-02-05T12:14:55.494641",
     "status": "completed"
    },
    "tags": []
   },
   "outputs": [
    {
     "name": "stdout",
     "output_type": "stream",
     "text": [
      "Model: \"model_1\"\n",
      "_________________________________________________________________\n",
      " Layer (type)                Output Shape              Param #   \n",
      "=================================================================\n",
      " input_2 (InputLayer)        [(None, 28, 28)]          0         \n",
      "                                                                 \n",
      " flatten_1 (Flatten)         (None, 784)               0         \n",
      "                                                                 \n",
      " dense_3 (Dense)             (None, 100)               78500     \n",
      "                                                                 \n",
      " dense_4 (Dense)             (None, 30)                3030      \n",
      "                                                                 \n",
      " dense_5 (Dense)             (None, 10)                310       \n",
      "                                                                 \n",
      "=================================================================\n",
      "Total params: 81840 (319.69 KB)\n",
      "Trainable params: 81840 (319.69 KB)\n",
      "Non-trainable params: 0 (0.00 Byte)\n",
      "_________________________________________________________________\n"
     ]
    }
   ],
   "source": [
    "from tensorflow.keras.optimizers import Adam\n",
    "\n",
    "# model 생성 및 optimizer, loss, metric 적용\n",
    "\n",
    "model = create_model()\n",
    "model.summary()\n",
    "\n",
    "# compile을 통해 loss 함수와 optimizer 설정\n",
    "# one hot encoding이 되었으면 categorical, 아닌 경우 sparse categorical\n",
    "model.compile(optimizer='Adam', loss='categorical_crossentropy', metrics=['accuracy'])\n"
   ]
  },
  {
   "cell_type": "code",
   "execution_count": 9,
   "id": "e188d696",
   "metadata": {
    "execution": {
     "iopub.execute_input": "2024-02-05T12:14:55.630768Z",
     "iopub.status.busy": "2024-02-05T12:14:55.629992Z",
     "iopub.status.idle": "2024-02-05T12:15:27.275047Z",
     "shell.execute_reply": "2024-02-05T12:15:27.274234Z"
    },
    "papermill": {
     "duration": 31.664653,
     "end_time": "2024-02-05T12:15:27.277420",
     "exception": false,
     "start_time": "2024-02-05T12:14:55.612767",
     "status": "completed"
    },
    "tags": []
   },
   "outputs": [
    {
     "name": "stdout",
     "output_type": "stream",
     "text": [
      "Epoch 1/20\n"
     ]
    },
    {
     "name": "stderr",
     "output_type": "stream",
     "text": [
      "WARNING: All log messages before absl::InitializeLog() is called are written to STDERR\n",
      "I0000 00:00:1707135297.819906      72 device_compiler.h:186] Compiled cluster using XLA!  This line is logged at most once for the lifetime of the process.\n"
     ]
    },
    {
     "name": "stdout",
     "output_type": "stream",
     "text": [
      "399/399 [==============================] - 4s 4ms/step - loss: 0.6067 - accuracy: 0.7928 - val_loss: 0.5000 - val_accuracy: 0.8300\n",
      "Epoch 2/20\n",
      "399/399 [==============================] - 1s 4ms/step - loss: 0.4133 - accuracy: 0.8531 - val_loss: 0.4310 - val_accuracy: 0.8484\n",
      "Epoch 3/20\n",
      "399/399 [==============================] - 1s 3ms/step - loss: 0.3704 - accuracy: 0.8673 - val_loss: 0.3671 - val_accuracy: 0.8697\n",
      "Epoch 4/20\n",
      "399/399 [==============================] - 1s 4ms/step - loss: 0.3439 - accuracy: 0.8767 - val_loss: 0.3708 - val_accuracy: 0.8681\n",
      "Epoch 5/20\n",
      "399/399 [==============================] - 1s 3ms/step - loss: 0.3245 - accuracy: 0.8829 - val_loss: 0.3645 - val_accuracy: 0.8657\n",
      "Epoch 6/20\n",
      "399/399 [==============================] - 1s 3ms/step - loss: 0.3080 - accuracy: 0.8890 - val_loss: 0.3508 - val_accuracy: 0.8740\n",
      "Epoch 7/20\n",
      "399/399 [==============================] - 2s 4ms/step - loss: 0.2965 - accuracy: 0.8923 - val_loss: 0.3382 - val_accuracy: 0.8790\n",
      "Epoch 8/20\n",
      "399/399 [==============================] - 1s 4ms/step - loss: 0.2845 - accuracy: 0.8971 - val_loss: 0.3295 - val_accuracy: 0.8818\n",
      "Epoch 9/20\n",
      "399/399 [==============================] - 1s 4ms/step - loss: 0.2755 - accuracy: 0.8987 - val_loss: 0.3412 - val_accuracy: 0.8807\n",
      "Epoch 10/20\n",
      "399/399 [==============================] - 1s 4ms/step - loss: 0.2653 - accuracy: 0.9035 - val_loss: 0.3227 - val_accuracy: 0.8856\n",
      "Epoch 11/20\n",
      "399/399 [==============================] - 1s 4ms/step - loss: 0.2573 - accuracy: 0.9056 - val_loss: 0.3469 - val_accuracy: 0.8803\n",
      "Epoch 12/20\n",
      "399/399 [==============================] - 1s 4ms/step - loss: 0.2488 - accuracy: 0.9094 - val_loss: 0.3245 - val_accuracy: 0.8871\n",
      "Epoch 13/20\n",
      "399/399 [==============================] - 1s 4ms/step - loss: 0.2431 - accuracy: 0.9119 - val_loss: 0.3209 - val_accuracy: 0.8827\n",
      "Epoch 14/20\n",
      "399/399 [==============================] - 1s 4ms/step - loss: 0.2355 - accuracy: 0.9131 - val_loss: 0.3366 - val_accuracy: 0.8803\n",
      "Epoch 15/20\n",
      "399/399 [==============================] - 1s 4ms/step - loss: 0.2330 - accuracy: 0.9149 - val_loss: 0.3346 - val_accuracy: 0.8841\n",
      "Epoch 16/20\n",
      "399/399 [==============================] - 1s 3ms/step - loss: 0.2264 - accuracy: 0.9169 - val_loss: 0.3247 - val_accuracy: 0.8866\n",
      "Epoch 17/20\n",
      "399/399 [==============================] - 1s 4ms/step - loss: 0.2193 - accuracy: 0.9193 - val_loss: 0.3339 - val_accuracy: 0.8839\n",
      "Epoch 18/20\n",
      "399/399 [==============================] - 1s 3ms/step - loss: 0.2178 - accuracy: 0.9188 - val_loss: 0.3225 - val_accuracy: 0.8887\n",
      "Epoch 19/20\n",
      "399/399 [==============================] - 1s 3ms/step - loss: 0.2108 - accuracy: 0.9220 - val_loss: 0.3282 - val_accuracy: 0.8874\n",
      "Epoch 20/20\n",
      "399/399 [==============================] - 1s 3ms/step - loss: 0.2031 - accuracy: 0.9244 - val_loss: 0.3294 - val_accuracy: 0.8888\n"
     ]
    }
   ],
   "source": [
    "# 학습 수행의 경우 model의 fit을 통해 진행\n",
    "# history를 통해 결과를 받는다. loss와 accuracy metrics를 받는다\n",
    "# epoch를 통해 6만개를 batch 수만큼 쪼개서 학습하는데 이걸 epoch 횟수만큼 반복\n",
    "\n",
    "history = model.fit(x=tr_images, y=tr_oh_labels, batch_size=128, epochs=20, validation_data=(val_images, val_oh_labels))"
   ]
  },
  {
   "cell_type": "code",
   "execution_count": 10,
   "id": "6d08e03a",
   "metadata": {
    "execution": {
     "iopub.execute_input": "2024-02-05T12:15:27.403690Z",
     "iopub.status.busy": "2024-02-05T12:15:27.403328Z",
     "iopub.status.idle": "2024-02-05T12:15:27.410479Z",
     "shell.execute_reply": "2024-02-05T12:15:27.409556Z"
    },
    "papermill": {
     "duration": 0.070817,
     "end_time": "2024-02-05T12:15:27.412665",
     "exception": false,
     "start_time": "2024-02-05T12:15:27.341848",
     "status": "completed"
    },
    "tags": []
   },
   "outputs": [
    {
     "data": {
      "text/plain": [
       "{'loss': [0.6066997647285461,\n",
       "  0.4132612347602844,\n",
       "  0.3703814446926117,\n",
       "  0.34393566846847534,\n",
       "  0.3245497941970825,\n",
       "  0.30797460675239563,\n",
       "  0.29651784896850586,\n",
       "  0.2844993770122528,\n",
       "  0.2754538953304291,\n",
       "  0.2652904689311981,\n",
       "  0.2572615146636963,\n",
       "  0.248806893825531,\n",
       "  0.24312393367290497,\n",
       "  0.23547670245170593,\n",
       "  0.23301392793655396,\n",
       "  0.22635948657989502,\n",
       "  0.21934938430786133,\n",
       "  0.21777939796447754,\n",
       "  0.21084721386432648,\n",
       "  0.2030973881483078],\n",
       " 'accuracy': [0.7927843332290649,\n",
       "  0.8531372547149658,\n",
       "  0.867254912853241,\n",
       "  0.8767451047897339,\n",
       "  0.8828823566436768,\n",
       "  0.8890196084976196,\n",
       "  0.8922744989395142,\n",
       "  0.8970588445663452,\n",
       "  0.8986862897872925,\n",
       "  0.9034509658813477,\n",
       "  0.9056470394134521,\n",
       "  0.9093921780586243,\n",
       "  0.9119411706924438,\n",
       "  0.9130980372428894,\n",
       "  0.9148823618888855,\n",
       "  0.9169019460678101,\n",
       "  0.9193333387374878,\n",
       "  0.9187647104263306,\n",
       "  0.921999990940094,\n",
       "  0.9244117736816406],\n",
       " 'val_loss': [0.49998849630355835,\n",
       "  0.4310189187526703,\n",
       "  0.3671124577522278,\n",
       "  0.37084728479385376,\n",
       "  0.36446964740753174,\n",
       "  0.35081151127815247,\n",
       "  0.33819490671157837,\n",
       "  0.3295440375804901,\n",
       "  0.34117141366004944,\n",
       "  0.3226846158504486,\n",
       "  0.3469027876853943,\n",
       "  0.3245243728160858,\n",
       "  0.3208882212638855,\n",
       "  0.33664941787719727,\n",
       "  0.3346460163593292,\n",
       "  0.3246542811393738,\n",
       "  0.3339219391345978,\n",
       "  0.32245272397994995,\n",
       "  0.32821229100227356,\n",
       "  0.3294386863708496],\n",
       " 'val_accuracy': [0.8299999833106995,\n",
       "  0.8484444618225098,\n",
       "  0.8696666955947876,\n",
       "  0.8681111335754395,\n",
       "  0.8656666874885559,\n",
       "  0.8740000128746033,\n",
       "  0.8790000081062317,\n",
       "  0.8817777633666992,\n",
       "  0.8806666731834412,\n",
       "  0.8855555653572083,\n",
       "  0.8803333044052124,\n",
       "  0.8871111273765564,\n",
       "  0.8826666474342346,\n",
       "  0.8803333044052124,\n",
       "  0.8841111063957214,\n",
       "  0.886555552482605,\n",
       "  0.8838889002799988,\n",
       "  0.8886666893959045,\n",
       "  0.8874444365501404,\n",
       "  0.8887777924537659]}"
      ]
     },
     "execution_count": 10,
     "metadata": {},
     "output_type": "execute_result"
    }
   ],
   "source": [
    "history.history"
   ]
  },
  {
   "cell_type": "code",
   "execution_count": 11,
   "id": "3b62f5cc",
   "metadata": {
    "execution": {
     "iopub.execute_input": "2024-02-05T12:15:27.539003Z",
     "iopub.status.busy": "2024-02-05T12:15:27.538030Z",
     "iopub.status.idle": "2024-02-05T12:15:27.806741Z",
     "shell.execute_reply": "2024-02-05T12:15:27.805677Z"
    },
    "papermill": {
     "duration": 0.332131,
     "end_time": "2024-02-05T12:15:27.808897",
     "exception": false,
     "start_time": "2024-02-05T12:15:27.476766",
     "status": "completed"
    },
    "tags": []
   },
   "outputs": [
    {
     "data": {
      "image/png": "[encoded data removed]",
      "text/plain": [
       "<Figure size 640x480 with 1 Axes>"
      ]
     },
     "metadata": {},
     "output_type": "display_data"
    }
   ],
   "source": [
    "import matplotlib.pyplot as plt\n",
    "%matplotlib inline\n",
    "\n",
    "def show_history(hisotry):\n",
    "    plt.plot(history.history['accuracy'], label='train')\n",
    "    plt.plot(history.history['val_accuracy'], label='valid')\n",
    "    plt.legend()\n",
    "    \n",
    "show_history(history)"
   ]
  },
  {
   "cell_type": "code",
   "execution_count": 12,
   "id": "32d39f79",
   "metadata": {
    "execution": {
     "iopub.execute_input": "2024-02-05T12:15:27.976339Z",
     "iopub.status.busy": "2024-02-05T12:15:27.975463Z",
     "iopub.status.idle": "2024-02-05T12:15:28.265681Z",
     "shell.execute_reply": "2024-02-05T12:15:28.264513Z"
    },
    "papermill": {
     "duration": 0.3973,
     "end_time": "2024-02-05T12:15:28.268009",
     "exception": false,
     "start_time": "2024-02-05T12:15:27.870709",
     "status": "completed"
    },
    "tags": []
   },
   "outputs": [
    {
     "name": "stdout",
     "output_type": "stream",
     "text": [
      "40/40 [==============================] - 0s 3ms/step - loss: 0.3453 - accuracy: 0.8838\n"
     ]
    },
    {
     "data": {
      "text/plain": [
       "[0.3452639579772949, 0.8838000297546387]"
      ]
     },
     "execution_count": 12,
     "metadata": {},
     "output_type": "execute_result"
    }
   ],
   "source": [
    "# 테스트 세트로 모델 성능 검증\n",
    "\n",
    "model.evaluate(x=test_images, y=test_oh_labels, batch_size=256, verbose=1)"
   ]
  },
  {
   "cell_type": "markdown",
   "id": "4ffd2a96",
   "metadata": {
    "papermill": {
     "duration": 0.062125,
     "end_time": "2024-02-05T12:15:28.397968",
     "exception": false,
     "start_time": "2024-02-05T12:15:28.335843",
     "status": "completed"
    },
    "tags": []
   },
   "source": [
    "## callback\n",
    "* 학습 iteration을 수행할 때 특정 event가 발생하는 경우 호출하는 기능들\n",
    "* 대표적으로 ModelCheckpoint(), ReduceLROnPlateau(), LearningRateScheduler(), EarlyStopping(), TensorBoard 등이 있음"
   ]
  },
  {
   "cell_type": "markdown",
   "id": "15fbd88d",
   "metadata": {
    "papermill": {
     "duration": 0.06351,
     "end_time": "2024-02-05T12:15:28.524100",
     "exception": false,
     "start_time": "2024-02-05T12:15:28.460590",
     "status": "completed"
    },
    "tags": []
   },
   "source": [
    "### ModelCheckpoint(filepath, monitor='val_loss', verbose=0, save_best_only=False, save_weights_only=False, mode='auto', period=1)\n",
    "\n",
    "* 특정 조건에 맞춰서 모델을 파일에 저장\n",
    "* filepath: filepath의 경우 on epoch end에서 전달되는 epoch 값과 logs의 키로 채워진 이름 형식 옵션을 가질 수 있다. 예를 들어 filepath가 weights.{epoch:02d}-{val_loss:.2f}.hdf5d인 경우, 파일 이름에 세대 번호와 검증 손실을 넣어 모델의 체크포인트가 저장된다\n",
    "* monitor: 모니터할 지표(loss 또는 평가 지표) / 대표적으론 val_loss, val_accuracy\n",
    "* save_best_only: 가장 좋은 성능을 나타내는 모델만 저장할 여부\n",
    "* save_weights_only: weights만 저장여부 / 성능 및 버그 감소를 위해 True로 두는 것이 좋고, save weights를 통해 저장된 값은 load weights를 통해 다시 불러오면 된다\n",
    "* mode: {auto, min, max} 중 하나. monitor 지표가 감소해야 좋을 경우, 증가해야 좋은 경우를 구분해서 입력하면 된다. auto로 두면 알아서 분류해주긴 하는데 간혹 틀린 경우가 있어 직접 명시적으로 지정해주는 것이 좋다.\n",
    "* periods를 길게 설정하면 save weights 같은 작업 반복 주기를 늘릴 수 있다."
   ]
  },
  {
   "cell_type": "code",
   "execution_count": 13,
   "id": "e20bf117",
   "metadata": {
    "execution": {
     "iopub.execute_input": "2024-02-05T12:15:28.654056Z",
     "iopub.status.busy": "2024-02-05T12:15:28.653210Z",
     "iopub.status.idle": "2024-02-05T12:15:29.713196Z",
     "shell.execute_reply": "2024-02-05T12:15:29.712051Z"
    },
    "papermill": {
     "duration": 1.126651,
     "end_time": "2024-02-05T12:15:29.715922",
     "exception": false,
     "start_time": "2024-02-05T12:15:28.589271",
     "status": "completed"
    },
    "tags": []
   },
   "outputs": [
    {
     "name": "stdout",
     "output_type": "stream",
     "text": [
      "/kaggle/working\r\n"
     ]
    }
   ],
   "source": [
    "# 현재 dir 위치\n",
    "!pwd"
   ]
  },
  {
   "cell_type": "code",
   "execution_count": 14,
   "id": "63da64c3",
   "metadata": {
    "execution": {
     "iopub.execute_input": "2024-02-05T12:15:29.849721Z",
     "iopub.status.busy": "2024-02-05T12:15:29.848716Z",
     "iopub.status.idle": "2024-02-05T12:15:46.057304Z",
     "shell.execute_reply": "2024-02-05T12:15:46.056314Z"
    },
    "papermill": {
     "duration": 16.277423,
     "end_time": "2024-02-05T12:15:46.059485",
     "exception": false,
     "start_time": "2024-02-05T12:15:29.782062",
     "status": "completed"
    },
    "tags": []
   },
   "outputs": [
    {
     "name": "stdout",
     "output_type": "stream",
     "text": [
      "Epoch 1/10\n",
      "388/399 [============================>.] - ETA: 0s - loss: 0.5583 - accuracy: 0.7993\n",
      "Epoch 1: val_loss improved from inf to 0.47894, saving model to /kaggle/working/weights.01-0.48.hdf5\n",
      "399/399 [==============================] - 3s 4ms/step - loss: 0.5547 - accuracy: 0.8009 - val_loss: 0.4789 - val_accuracy: 0.8284\n",
      "Epoch 2/10\n",
      "394/399 [============================>.] - ETA: 0s - loss: 0.4043 - accuracy: 0.8535\n",
      "Epoch 2: val_loss improved from 0.47894 to 0.43666, saving model to /kaggle/working/weights.02-0.44.hdf5\n",
      "399/399 [==============================] - 1s 4ms/step - loss: 0.4038 - accuracy: 0.8537 - val_loss: 0.4367 - val_accuracy: 0.8460\n",
      "Epoch 3/10\n",
      "395/399 [============================>.] - ETA: 0s - loss: 0.3750 - accuracy: 0.8634\n",
      "Epoch 3: val_loss improved from 0.43666 to 0.38733, saving model to /kaggle/working/weights.03-0.39.hdf5\n",
      "399/399 [==============================] - 1s 4ms/step - loss: 0.3747 - accuracy: 0.8634 - val_loss: 0.3873 - val_accuracy: 0.8658\n",
      "Epoch 4/10\n",
      "398/399 [============================>.] - ETA: 0s - loss: 0.3531 - accuracy: 0.8708\n",
      "Epoch 4: val_loss improved from 0.38733 to 0.37665, saving model to /kaggle/working/weights.04-0.38.hdf5\n",
      "399/399 [==============================] - 1s 4ms/step - loss: 0.3531 - accuracy: 0.8709 - val_loss: 0.3766 - val_accuracy: 0.8632\n",
      "Epoch 5/10\n",
      "397/399 [============================>.] - ETA: 0s - loss: 0.3421 - accuracy: 0.8747\n",
      "Epoch 5: val_loss did not improve from 0.37665\n",
      "399/399 [==============================] - 1s 4ms/step - loss: 0.3423 - accuracy: 0.8746 - val_loss: 0.3893 - val_accuracy: 0.8669\n",
      "Epoch 6/10\n",
      "392/399 [============================>.] - ETA: 0s - loss: 0.3328 - accuracy: 0.8793\n",
      "Epoch 6: val_loss improved from 0.37665 to 0.36028, saving model to /kaggle/working/weights.06-0.36.hdf5\n",
      "399/399 [==============================] - 2s 4ms/step - loss: 0.3321 - accuracy: 0.8795 - val_loss: 0.3603 - val_accuracy: 0.8709\n",
      "Epoch 7/10\n",
      "395/399 [============================>.] - ETA: 0s - loss: 0.3221 - accuracy: 0.8832\n",
      "Epoch 7: val_loss did not improve from 0.36028\n",
      "399/399 [==============================] - 1s 4ms/step - loss: 0.3213 - accuracy: 0.8836 - val_loss: 0.3873 - val_accuracy: 0.8653\n",
      "Epoch 8/10\n",
      "389/399 [============================>.] - ETA: 0s - loss: 0.3139 - accuracy: 0.8857\n",
      "Epoch 8: val_loss did not improve from 0.36028\n",
      "399/399 [==============================] - 1s 3ms/step - loss: 0.3143 - accuracy: 0.8861 - val_loss: 0.3821 - val_accuracy: 0.8680\n",
      "Epoch 9/10\n",
      "383/399 [===========================>..] - ETA: 0s - loss: 0.3094 - accuracy: 0.8839\n",
      "Epoch 9: val_loss did not improve from 0.36028\n",
      "399/399 [==============================] - 1s 4ms/step - loss: 0.3078 - accuracy: 0.8844 - val_loss: 0.3691 - val_accuracy: 0.8698\n",
      "Epoch 10/10\n",
      "388/399 [============================>.] - ETA: 0s - loss: 0.3000 - accuracy: 0.8891\n",
      "Epoch 10: val_loss did not improve from 0.36028\n",
      "399/399 [==============================] - 1s 4ms/step - loss: 0.3007 - accuracy: 0.8887 - val_loss: 0.4056 - val_accuracy: 0.8628\n"
     ]
    }
   ],
   "source": [
    "# 참고로 keras의 metrics(메트릭이라고 부르기도 함)은 평가지표를 의미한다\n",
    "\n",
    "from tensorflow.keras.callbacks import ModelCheckpoint\n",
    "\n",
    "model = create_model()\n",
    "model.compile(optimizer=Adam(0.01), loss='categorical_crossentropy', metrics=['accuracy'])\n",
    "\n",
    "mcp_ob = ModelCheckpoint(filepath='/kaggle/working/weights.{epoch:02d}-{val_loss:.2f}.hdf5', monitor='val_loss',\n",
    "                        save_best_only=True, save_weights_only=True, mode='min', periods=3, verbose=1)\n",
    "history = model.fit(x=tr_images, y=tr_oh_labels, batch_size=128, epochs=10, validation_data=(val_images, val_oh_labels),\n",
    "                   callbacks=[mcp_ob])"
   ]
  },
  {
   "cell_type": "code",
   "execution_count": 15,
   "id": "054739c3",
   "metadata": {
    "execution": {
     "iopub.execute_input": "2024-02-05T12:15:46.232491Z",
     "iopub.status.busy": "2024-02-05T12:15:46.232083Z",
     "iopub.status.idle": "2024-02-05T12:15:49.333498Z",
     "shell.execute_reply": "2024-02-05T12:15:49.332475Z"
    },
    "papermill": {
     "duration": 3.190836,
     "end_time": "2024-02-05T12:15:49.335711",
     "exception": false,
     "start_time": "2024-02-05T12:15:46.144875",
     "status": "completed"
    },
    "tags": []
   },
   "outputs": [
    {
     "name": "stdout",
     "output_type": "stream",
     "text": [
      "total 2084\r\n",
      "  1048584 drwxr-xr-x 2 root root   4096 Feb  5 12:15 .\r\n",
      "268744977 drwxr-xr-x 6 root root   4096 Feb  5 12:14 ..\r\n",
      "  1048585 ---------- 1 root root 384649 Feb  5 12:15 __notebook__.ipynb\r\n",
      "  1048586 -rw-r--r-- 1 root root 344080 Feb  5 12:15 weights.01-0.48.hdf5\r\n",
      "  1048587 -rw-r--r-- 1 root root 344080 Feb  5 12:15 weights.02-0.44.hdf5\r\n",
      "  1048588 -rw-r--r-- 1 root root 344080 Feb  5 12:15 weights.03-0.39.hdf5\r\n",
      "  1048589 -rw-r--r-- 1 root root 344080 Feb  5 12:15 weights.04-0.38.hdf5\r\n",
      "  1048590 -rw-r--r-- 1 root root 344080 Feb  5 12:15 weights.06-0.36.hdf5\r\n",
      "total 384\r\n",
      "  1048584 drwxr-xr-x 2 root root   4096 Feb  5 12:15 .\r\n",
      "268744977 drwxr-xr-x 6 root root   4096 Feb  5 12:14 ..\r\n",
      "  1048585 ---------- 1 root root 384649 Feb  5 12:15 __notebook__.ipynb\r\n"
     ]
    }
   ],
   "source": [
    "# 위 과정을 통해 save best only option으로 인해 여러개의 파이이 만들어진다\n",
    "\n",
    "!ls -lia\n",
    "\n",
    "!rm -rf weight*\n",
    "!ls -lia"
   ]
  },
  {
   "cell_type": "markdown",
   "id": "de9d8bf1",
   "metadata": {
    "papermill": {
     "duration": 0.089713,
     "end_time": "2024-02-05T12:15:49.514880",
     "exception": false,
     "start_time": "2024-02-05T12:15:49.425167",
     "status": "completed"
    },
    "tags": []
   },
   "source": [
    "### ReduceLROnPlateau(monitor='val_loss', factor=0.1, patience=10, verbose=0, mode='auto', min_delta=0.0001, cooldown=0, min_lr=0\n",
    "* 특정 epoch 횟수 동안 성능이 개선되지 않을 시 learning rate를 동적으로 감소시킨다\n",
    "* monitor: 모니터할 지표로, loss 또는 여러 평가 지표\n",
    "* factor: 학습 속도를 줄일 인수, new_lr = lr(기존 learning rate) * factor\n",
    "* patience: Learning rate를 줄이기 전에 monitor할 epochs 횟수\n",
    "* mode: auto, min, max 중 하나"
   ]
  },
  {
   "cell_type": "code",
   "execution_count": 16,
   "id": "0925e7a4",
   "metadata": {
    "execution": {
     "iopub.execute_input": "2024-02-05T12:15:49.697776Z",
     "iopub.status.busy": "2024-02-05T12:15:49.697345Z",
     "iopub.status.idle": "2024-02-05T12:16:34.280819Z",
     "shell.execute_reply": "2024-02-05T12:16:34.279721Z"
    },
    "papermill": {
     "duration": 44.679274,
     "end_time": "2024-02-05T12:16:34.283332",
     "exception": false,
     "start_time": "2024-02-05T12:15:49.604058",
     "status": "completed"
    },
    "tags": []
   },
   "outputs": [
    {
     "name": "stdout",
     "output_type": "stream",
     "text": [
      "Epoch 1/30\n",
      "399/399 [==============================] - 3s 4ms/step - loss: 0.5896 - accuracy: 0.7983 - val_loss: 0.4395 - val_accuracy: 0.8460 - lr: 0.0010\n",
      "Epoch 2/30\n",
      "399/399 [==============================] - 1s 4ms/step - loss: 0.4144 - accuracy: 0.8527 - val_loss: 0.4016 - val_accuracy: 0.8570 - lr: 0.0010\n",
      "Epoch 3/30\n",
      "399/399 [==============================] - 1s 4ms/step - loss: 0.3671 - accuracy: 0.8701 - val_loss: 0.3792 - val_accuracy: 0.8642 - lr: 0.0010\n",
      "Epoch 4/30\n",
      "399/399 [==============================] - 1s 4ms/step - loss: 0.3424 - accuracy: 0.8756 - val_loss: 0.3607 - val_accuracy: 0.8709 - lr: 0.0010\n",
      "Epoch 5/30\n",
      "399/399 [==============================] - 1s 4ms/step - loss: 0.3230 - accuracy: 0.8826 - val_loss: 0.3521 - val_accuracy: 0.8741 - lr: 0.0010\n",
      "Epoch 6/30\n",
      "399/399 [==============================] - 1s 4ms/step - loss: 0.3018 - accuracy: 0.8895 - val_loss: 0.3530 - val_accuracy: 0.8726 - lr: 0.0010\n",
      "Epoch 7/30\n",
      "399/399 [==============================] - 1s 3ms/step - loss: 0.2944 - accuracy: 0.8929 - val_loss: 0.3459 - val_accuracy: 0.8760 - lr: 0.0010\n",
      "Epoch 8/30\n",
      "399/399 [==============================] - 1s 4ms/step - loss: 0.2806 - accuracy: 0.8970 - val_loss: 0.3390 - val_accuracy: 0.8818 - lr: 0.0010\n",
      "Epoch 9/30\n",
      "399/399 [==============================] - 1s 4ms/step - loss: 0.2715 - accuracy: 0.8998 - val_loss: 0.3206 - val_accuracy: 0.8827 - lr: 0.0010\n",
      "Epoch 10/30\n",
      "399/399 [==============================] - 1s 3ms/step - loss: 0.2628 - accuracy: 0.9039 - val_loss: 0.3331 - val_accuracy: 0.8808 - lr: 0.0010\n",
      "Epoch 11/30\n",
      "399/399 [==============================] - 1s 3ms/step - loss: 0.2534 - accuracy: 0.9061 - val_loss: 0.3363 - val_accuracy: 0.8800 - lr: 0.0010\n",
      "Epoch 12/30\n",
      "396/399 [============================>.] - ETA: 0s - loss: 0.2485 - accuracy: 0.9078\n",
      "Epoch 12: ReduceLROnPlateau reducing learning rate to 0.0003000000142492354.\n",
      "399/399 [==============================] - 1s 4ms/step - loss: 0.2487 - accuracy: 0.9078 - val_loss: 0.3272 - val_accuracy: 0.8837 - lr: 0.0010\n",
      "Epoch 13/30\n",
      "399/399 [==============================] - 1s 4ms/step - loss: 0.2164 - accuracy: 0.9198 - val_loss: 0.3101 - val_accuracy: 0.8883 - lr: 3.0000e-04\n",
      "Epoch 14/30\n",
      "399/399 [==============================] - 1s 4ms/step - loss: 0.2127 - accuracy: 0.9221 - val_loss: 0.3112 - val_accuracy: 0.8900 - lr: 3.0000e-04\n",
      "Epoch 15/30\n",
      "399/399 [==============================] - 2s 4ms/step - loss: 0.2084 - accuracy: 0.9243 - val_loss: 0.3096 - val_accuracy: 0.8894 - lr: 3.0000e-04\n",
      "Epoch 16/30\n",
      "399/399 [==============================] - 1s 4ms/step - loss: 0.2052 - accuracy: 0.9252 - val_loss: 0.3137 - val_accuracy: 0.8887 - lr: 3.0000e-04\n",
      "Epoch 17/30\n",
      "399/399 [==============================] - 1s 4ms/step - loss: 0.2027 - accuracy: 0.9258 - val_loss: 0.3137 - val_accuracy: 0.8891 - lr: 3.0000e-04\n",
      "Epoch 18/30\n",
      "384/399 [===========================>..] - ETA: 0s - loss: 0.2005 - accuracy: 0.9265\n",
      "Epoch 18: ReduceLROnPlateau reducing learning rate to 9.000000427477062e-05.\n",
      "399/399 [==============================] - 1s 4ms/step - loss: 0.2000 - accuracy: 0.9265 - val_loss: 0.3190 - val_accuracy: 0.8886 - lr: 3.0000e-04\n",
      "Epoch 19/30\n",
      "399/399 [==============================] - 1s 4ms/step - loss: 0.1890 - accuracy: 0.9317 - val_loss: 0.3074 - val_accuracy: 0.8919 - lr: 9.0000e-05\n",
      "Epoch 20/30\n",
      "399/399 [==============================] - 1s 4ms/step - loss: 0.1879 - accuracy: 0.9324 - val_loss: 0.3075 - val_accuracy: 0.8910 - lr: 9.0000e-05\n",
      "Epoch 21/30\n",
      "399/399 [==============================] - 1s 4ms/step - loss: 0.1861 - accuracy: 0.9328 - val_loss: 0.3080 - val_accuracy: 0.8892 - lr: 9.0000e-05\n",
      "Epoch 22/30\n",
      "390/399 [============================>.] - ETA: 0s - loss: 0.1858 - accuracy: 0.9332\n",
      "Epoch 22: ReduceLROnPlateau reducing learning rate to 2.700000040931627e-05.\n",
      "399/399 [==============================] - 1s 4ms/step - loss: 0.1855 - accuracy: 0.9334 - val_loss: 0.3085 - val_accuracy: 0.8913 - lr: 9.0000e-05\n",
      "Epoch 23/30\n",
      "399/399 [==============================] - 1s 4ms/step - loss: 0.1820 - accuracy: 0.9348 - val_loss: 0.3069 - val_accuracy: 0.8911 - lr: 2.7000e-05\n",
      "Epoch 24/30\n",
      "399/399 [==============================] - 1s 3ms/step - loss: 0.1815 - accuracy: 0.9351 - val_loss: 0.3069 - val_accuracy: 0.8906 - lr: 2.7000e-05\n",
      "Epoch 25/30\n",
      "399/399 [==============================] - 1s 3ms/step - loss: 0.1811 - accuracy: 0.9352 - val_loss: 0.3077 - val_accuracy: 0.8917 - lr: 2.7000e-05\n",
      "Epoch 26/30\n",
      "397/399 [============================>.] - ETA: 0s - loss: 0.1807 - accuracy: 0.9357\n",
      "Epoch 26: ReduceLROnPlateau reducing learning rate to 8.100000013655517e-06.\n",
      "399/399 [==============================] - 1s 4ms/step - loss: 0.1807 - accuracy: 0.9356 - val_loss: 0.3075 - val_accuracy: 0.8903 - lr: 2.7000e-05\n",
      "Epoch 27/30\n",
      "399/399 [==============================] - 1s 4ms/step - loss: 0.1795 - accuracy: 0.9357 - val_loss: 0.3073 - val_accuracy: 0.8907 - lr: 8.1000e-06\n",
      "Epoch 28/30\n",
      "399/399 [==============================] - 1s 4ms/step - loss: 0.1794 - accuracy: 0.9361 - val_loss: 0.3073 - val_accuracy: 0.8907 - lr: 8.1000e-06\n",
      "Epoch 29/30\n",
      "398/399 [============================>.] - ETA: 0s - loss: 0.1793 - accuracy: 0.9359\n",
      "Epoch 29: ReduceLROnPlateau reducing learning rate to 2.429999949526973e-06.\n",
      "399/399 [==============================] - 1s 4ms/step - loss: 0.1792 - accuracy: 0.9360 - val_loss: 0.3074 - val_accuracy: 0.8908 - lr: 8.1000e-06\n",
      "Epoch 30/30\n",
      "399/399 [==============================] - 1s 4ms/step - loss: 0.1789 - accuracy: 0.9359 - val_loss: 0.3072 - val_accuracy: 0.8917 - lr: 2.4300e-06\n"
     ]
    }
   ],
   "source": [
    "from tensorflow.keras.callbacks import ReduceLROnPlateau\n",
    "\n",
    "model = create_model()\n",
    "model.compile(optimizer=Adam(0.001), loss='categorical_crossentropy', metrics=['accuracy'])\n",
    "\n",
    "rlr_cb = ReduceLROnPlateau(monitors='val_loss', factor=0.3, patience=3, mode='min', verbose=1)\n",
    "\n",
    "history = model.fit(x=tr_images, y=tr_oh_labels, batch_size=128, epochs=30, validation_data=(val_images, val_oh_labels),\n",
    "                   callbacks=[rlr_cb])"
   ]
  },
  {
   "cell_type": "markdown",
   "id": "4e266c16",
   "metadata": {
    "papermill": {
     "duration": 0.159638,
     "end_time": "2024-02-05T12:16:34.617651",
     "exception": false,
     "start_time": "2024-02-05T12:16:34.458013",
     "status": "completed"
    },
    "tags": []
   },
   "source": [
    "### EarlyStopping(monitor='val_loss', min_delta=0, patience=0, verbose=0, mode='auto', baseline=None, restore_best_weights=False)\n",
    "* 특정 epochs 동안 성능이 개선되지 않을 시 학습을 조기에 중단\n",
    "* monitor: 모니터할 지표\n",
    "* patience: early stopping 적용 전에 monitor할 epochs 횟수\n",
    "* mode: auto min max 중 선택"
   ]
  },
  {
   "cell_type": "code",
   "execution_count": 17,
   "id": "1fccdc84",
   "metadata": {
    "execution": {
     "iopub.execute_input": "2024-02-05T12:16:34.924810Z",
     "iopub.status.busy": "2024-02-05T12:16:34.924027Z",
     "iopub.status.idle": "2024-02-05T12:16:57.885486Z",
     "shell.execute_reply": "2024-02-05T12:16:57.884265Z"
    },
    "papermill": {
     "duration": 23.119607,
     "end_time": "2024-02-05T12:16:57.888083",
     "exception": false,
     "start_time": "2024-02-05T12:16:34.768476",
     "status": "completed"
    },
    "tags": []
   },
   "outputs": [
    {
     "name": "stdout",
     "output_type": "stream",
     "text": [
      "Epoch 1/30\n",
      "399/399 [==============================] - 3s 4ms/step - loss: 0.5862 - accuracy: 0.7990 - val_loss: 0.4540 - val_accuracy: 0.8413\n",
      "Epoch 2/30\n",
      "399/399 [==============================] - 1s 4ms/step - loss: 0.4077 - accuracy: 0.8562 - val_loss: 0.4179 - val_accuracy: 0.8526\n",
      "Epoch 3/30\n",
      "399/399 [==============================] - 1s 4ms/step - loss: 0.3692 - accuracy: 0.8681 - val_loss: 0.3764 - val_accuracy: 0.8660\n",
      "Epoch 4/30\n",
      "399/399 [==============================] - 1s 4ms/step - loss: 0.3465 - accuracy: 0.8755 - val_loss: 0.3672 - val_accuracy: 0.8660\n",
      "Epoch 5/30\n",
      "399/399 [==============================] - 2s 4ms/step - loss: 0.3217 - accuracy: 0.8832 - val_loss: 0.3567 - val_accuracy: 0.8731\n",
      "Epoch 6/30\n",
      "399/399 [==============================] - 1s 4ms/step - loss: 0.3059 - accuracy: 0.8893 - val_loss: 0.3517 - val_accuracy: 0.8718\n",
      "Epoch 7/30\n",
      "399/399 [==============================] - 1s 3ms/step - loss: 0.2967 - accuracy: 0.8914 - val_loss: 0.3502 - val_accuracy: 0.8796\n",
      "Epoch 8/30\n",
      "399/399 [==============================] - 1s 3ms/step - loss: 0.2846 - accuracy: 0.8958 - val_loss: 0.3343 - val_accuracy: 0.8789\n",
      "Epoch 9/30\n",
      "399/399 [==============================] - 1s 4ms/step - loss: 0.2774 - accuracy: 0.8986 - val_loss: 0.3248 - val_accuracy: 0.8824\n",
      "Epoch 10/30\n",
      "399/399 [==============================] - 1s 3ms/step - loss: 0.2698 - accuracy: 0.9004 - val_loss: 0.3302 - val_accuracy: 0.8802\n",
      "Epoch 11/30\n",
      "399/399 [==============================] - 1s 3ms/step - loss: 0.2619 - accuracy: 0.9031 - val_loss: 0.3332 - val_accuracy: 0.8817\n",
      "Epoch 12/30\n",
      "399/399 [==============================] - 1s 3ms/step - loss: 0.2533 - accuracy: 0.9060 - val_loss: 0.3100 - val_accuracy: 0.8900\n",
      "Epoch 13/30\n",
      "399/399 [==============================] - 1s 4ms/step - loss: 0.2428 - accuracy: 0.9095 - val_loss: 0.3184 - val_accuracy: 0.8863\n",
      "Epoch 14/30\n",
      "399/399 [==============================] - 1s 3ms/step - loss: 0.2383 - accuracy: 0.9115 - val_loss: 0.3481 - val_accuracy: 0.8762\n",
      "Epoch 15/30\n",
      "399/399 [==============================] - 1s 3ms/step - loss: 0.2317 - accuracy: 0.9142 - val_loss: 0.3275 - val_accuracy: 0.8810\n",
      "Epoch 15: early stopping\n"
     ]
    }
   ],
   "source": [
    "from tensorflow.keras.callbacks import EarlyStopping\n",
    "\n",
    "model = create_model()\n",
    "model.compile(optimizer=Adam(0.001), loss='categorical_crossentropy', metrics=['accuracy'])\n",
    "\n",
    "ely_cb = EarlyStopping(monitor='val_loss', patience=3, mode='min', verbose=1)\n",
    "history = model.fit(x=tr_images, y=tr_oh_labels, batch_size=128, epochs=30, validation_data=(val_images, val_oh_labels),\n",
    "                   callbacks=[ely_cb])"
   ]
  },
  {
   "cell_type": "code",
   "execution_count": 18,
   "id": "68b2b2f8",
   "metadata": {
    "execution": {
     "iopub.execute_input": "2024-02-05T12:16:58.297799Z",
     "iopub.status.busy": "2024-02-05T12:16:58.297434Z",
     "iopub.status.idle": "2024-02-05T12:16:59.338076Z",
     "shell.execute_reply": "2024-02-05T12:16:59.336928Z"
    },
    "papermill": {
     "duration": 1.250392,
     "end_time": "2024-02-05T12:16:59.340586",
     "exception": false,
     "start_time": "2024-02-05T12:16:58.090194",
     "status": "completed"
    },
    "tags": []
   },
   "outputs": [
    {
     "name": "stdout",
     "output_type": "stream",
     "text": [
      "rm: cannot remove 'weigh*': No such file or directory\r\n"
     ]
    }
   ],
   "source": [
    "!rm weigh*"
   ]
  },
  {
   "cell_type": "code",
   "execution_count": 19,
   "id": "4d6bcfc1",
   "metadata": {
    "execution": {
     "iopub.execute_input": "2024-02-05T12:16:59.762611Z",
     "iopub.status.busy": "2024-02-05T12:16:59.762155Z",
     "iopub.status.idle": "2024-02-05T12:17:41.768072Z",
     "shell.execute_reply": "2024-02-05T12:17:41.767017Z"
    },
    "papermill": {
     "duration": 42.219661,
     "end_time": "2024-02-05T12:17:41.770585",
     "exception": false,
     "start_time": "2024-02-05T12:16:59.550924",
     "status": "completed"
    },
    "tags": []
   },
   "outputs": [
    {
     "name": "stdout",
     "output_type": "stream",
     "text": [
      "Epoch 1/40\n",
      "399/399 [==============================] - 3s 4ms/step - loss: 0.6100 - accuracy: 0.7931 - val_loss: 0.4632 - val_accuracy: 0.8421 - lr: 0.0010\n",
      "Epoch 2/40\n",
      "399/399 [==============================] - 1s 4ms/step - loss: 0.4176 - accuracy: 0.8520 - val_loss: 0.4007 - val_accuracy: 0.8589 - lr: 0.0010\n",
      "Epoch 3/40\n",
      "399/399 [==============================] - 1s 4ms/step - loss: 0.3740 - accuracy: 0.8675 - val_loss: 0.4108 - val_accuracy: 0.8589 - lr: 0.0010\n",
      "Epoch 4/40\n",
      "399/399 [==============================] - 1s 4ms/step - loss: 0.3481 - accuracy: 0.8747 - val_loss: 0.3799 - val_accuracy: 0.8653 - lr: 0.0010\n",
      "Epoch 5/40\n",
      "399/399 [==============================] - 1s 4ms/step - loss: 0.3273 - accuracy: 0.8822 - val_loss: 0.3587 - val_accuracy: 0.8709 - lr: 0.0010\n",
      "Epoch 6/40\n",
      "399/399 [==============================] - 1s 4ms/step - loss: 0.3118 - accuracy: 0.8860 - val_loss: 0.3535 - val_accuracy: 0.8721 - lr: 0.0010\n",
      "Epoch 7/40\n",
      "399/399 [==============================] - 1s 4ms/step - loss: 0.3011 - accuracy: 0.8909 - val_loss: 0.3341 - val_accuracy: 0.8792 - lr: 0.0010\n",
      "Epoch 8/40\n",
      "399/399 [==============================] - 1s 4ms/step - loss: 0.2876 - accuracy: 0.8945 - val_loss: 0.3314 - val_accuracy: 0.8816 - lr: 0.0010\n",
      "Epoch 9/40\n",
      "399/399 [==============================] - 1s 4ms/step - loss: 0.2817 - accuracy: 0.8958 - val_loss: 0.3439 - val_accuracy: 0.8783 - lr: 0.0010\n",
      "Epoch 10/40\n",
      "399/399 [==============================] - 2s 4ms/step - loss: 0.2676 - accuracy: 0.9022 - val_loss: 0.3248 - val_accuracy: 0.8848 - lr: 0.0010\n",
      "Epoch 11/40\n",
      "399/399 [==============================] - 1s 4ms/step - loss: 0.2594 - accuracy: 0.9044 - val_loss: 0.3302 - val_accuracy: 0.8846 - lr: 0.0010\n",
      "Epoch 12/40\n",
      "399/399 [==============================] - 1s 4ms/step - loss: 0.2542 - accuracy: 0.9055 - val_loss: 0.3311 - val_accuracy: 0.8811 - lr: 0.0010\n",
      "Epoch 13/40\n",
      "399/399 [==============================] - 1s 4ms/step - loss: 0.2471 - accuracy: 0.9080 - val_loss: 0.3209 - val_accuracy: 0.8823 - lr: 0.0010\n",
      "Epoch 14/40\n",
      "399/399 [==============================] - 1s 4ms/step - loss: 0.2391 - accuracy: 0.9127 - val_loss: 0.3523 - val_accuracy: 0.8738 - lr: 0.0010\n",
      "Epoch 15/40\n",
      "399/399 [==============================] - 1s 4ms/step - loss: 0.2378 - accuracy: 0.9108 - val_loss: 0.3191 - val_accuracy: 0.8857 - lr: 0.0010\n",
      "Epoch 16/40\n",
      "399/399 [==============================] - 1s 4ms/step - loss: 0.2268 - accuracy: 0.9157 - val_loss: 0.3287 - val_accuracy: 0.8846 - lr: 0.0010\n",
      "Epoch 17/40\n",
      "399/399 [==============================] - 1s 3ms/step - loss: 0.2225 - accuracy: 0.9180 - val_loss: 0.3376 - val_accuracy: 0.8824 - lr: 0.0010\n",
      "Epoch 18/40\n",
      "399/399 [==============================] - 1s 4ms/step - loss: 0.2152 - accuracy: 0.9204 - val_loss: 0.3362 - val_accuracy: 0.8824 - lr: 0.0010\n",
      "Epoch 19/40\n",
      "399/399 [==============================] - 1s 4ms/step - loss: 0.2106 - accuracy: 0.9222 - val_loss: 0.3266 - val_accuracy: 0.8850 - lr: 0.0010\n",
      "Epoch 20/40\n",
      "399/399 [==============================] - ETA: 0s - loss: 0.2077 - accuracy: 0.9224\n",
      "Epoch 20: ReduceLROnPlateau reducing learning rate to 0.0003000000142492354.\n",
      "399/399 [==============================] - 1s 4ms/step - loss: 0.2077 - accuracy: 0.9224 - val_loss: 0.3359 - val_accuracy: 0.8873 - lr: 0.0010\n",
      "Epoch 21/40\n",
      "399/399 [==============================] - 1s 4ms/step - loss: 0.1772 - accuracy: 0.9356 - val_loss: 0.3117 - val_accuracy: 0.8919 - lr: 3.0000e-04\n",
      "Epoch 22/40\n",
      "399/399 [==============================] - 1s 4ms/step - loss: 0.1725 - accuracy: 0.9369 - val_loss: 0.3147 - val_accuracy: 0.8909 - lr: 3.0000e-04\n",
      "Epoch 23/40\n",
      "399/399 [==============================] - 1s 4ms/step - loss: 0.1693 - accuracy: 0.9390 - val_loss: 0.3144 - val_accuracy: 0.8924 - lr: 3.0000e-04\n",
      "Epoch 24/40\n",
      "399/399 [==============================] - 1s 4ms/step - loss: 0.1678 - accuracy: 0.9386 - val_loss: 0.3173 - val_accuracy: 0.8892 - lr: 3.0000e-04\n",
      "Epoch 25/40\n",
      "399/399 [==============================] - 1s 4ms/step - loss: 0.1652 - accuracy: 0.9408 - val_loss: 0.3170 - val_accuracy: 0.8897 - lr: 3.0000e-04\n",
      "Epoch 26/40\n",
      "389/399 [============================>.] - ETA: 0s - loss: 0.1630 - accuracy: 0.9408\n",
      "Epoch 26: ReduceLROnPlateau reducing learning rate to 9.000000427477062e-05.\n",
      "399/399 [==============================] - 1s 4ms/step - loss: 0.1629 - accuracy: 0.9408 - val_loss: 0.3121 - val_accuracy: 0.8897 - lr: 3.0000e-04\n",
      "Epoch 27/40\n",
      "399/399 [==============================] - 1s 4ms/step - loss: 0.1532 - accuracy: 0.9460 - val_loss: 0.3139 - val_accuracy: 0.8909 - lr: 9.0000e-05\n",
      "Epoch 28/40\n",
      "399/399 [==============================] - 1s 4ms/step - loss: 0.1520 - accuracy: 0.9457 - val_loss: 0.3143 - val_accuracy: 0.8912 - lr: 9.0000e-05\n",
      "Epoch 28: early stopping\n"
     ]
    }
   ],
   "source": [
    "# 보통은 위 callback들을 따로 쓰지 않고 한번에 다같이 쓴다\n",
    "\n",
    "from tensorflow.keras.callbacks import ModelCheckpoint, ReduceLROnPlateau, EarlyStopping\n",
    "\n",
    "model = create_model()\n",
    "model.compile(optimizer=Adam(0.001), loss='categorical_crossentropy', metrics=['accuracy'])\n",
    "\n",
    "mcp_cb = ModelCheckpoint(filepath='/kaggle/working/weights.{epoch:02d}-{val_loss:.2f}.hdf5', monitor='val_loss', \n",
    "                         save_best_only=True, save_weights_only=True, mode='min', period=1, verbose=0)\n",
    "rlr_cb = ReduceLROnPlateau(monitor='val_loss', factor=0.3, patience=5, mode='min', verbose=1)\n",
    "ely_cb = EarlyStopping(monitor='val_loss', patience=7, mode='min', verbose=1)\n",
    "\n",
    "history = model.fit(x=tr_images, y=tr_oh_labels, batch_size=128, epochs=40, validation_data=(val_images, val_oh_labels),\n",
    "                   callbacks=[mcp_cb, rlr_cb, ely_cb])"
   ]
  },
  {
   "cell_type": "markdown",
   "id": "297839e1",
   "metadata": {
    "papermill": {
     "duration": 0.253277,
     "end_time": "2024-02-05T12:17:42.291131",
     "exception": false,
     "start_time": "2024-02-05T12:17:42.037854",
     "status": "completed"
    },
    "tags": []
   },
   "source": [
    "# Convolutional Neural Network를 통한 feature extraction"
   ]
  },
  {
   "cell_type": "markdown",
   "id": "eb87652e",
   "metadata": {
    "papermill": {
     "duration": 0.319329,
     "end_time": "2024-02-05T12:17:42.861815",
     "exception": false,
     "start_time": "2024-02-05T12:17:42.542486",
     "status": "completed"
    },
    "tags": []
   },
   "source": [
    "### Conv2D를 통한 구현\n",
    "* 위에서 구현한 일반 dense layer만을 이용한 이미지 classification시에 생기는 문제가 2가지가 있다\n",
    "* 먼저 분류 대상이 이미지의 어디에 있을지 알 수 없다\n",
    "* 이미지의 크기가 클수록 이를 위한 너무 많은 weight가 필요하다\n",
    "* 이를 위해 고안된 방식이 convolutional neural network를 통한 feature extracting 방식이고, keras에선 이를 layers의 Conv2D를 통해 구현한다."
   ]
  },
  {
   "cell_type": "code",
   "execution_count": 20,
   "id": "8106f1d5",
   "metadata": {
    "execution": {
     "iopub.execute_input": "2024-02-05T12:17:43.362928Z",
     "iopub.status.busy": "2024-02-05T12:17:43.362545Z",
     "iopub.status.idle": "2024-02-05T12:17:43.403396Z",
     "shell.execute_reply": "2024-02-05T12:17:43.402398Z"
    },
    "papermill": {
     "duration": 0.292638,
     "end_time": "2024-02-05T12:17:43.408555",
     "exception": false,
     "start_time": "2024-02-05T12:17:43.115917",
     "status": "completed"
    },
    "tags": []
   },
   "outputs": [
    {
     "name": "stdout",
     "output_type": "stream",
     "text": [
      "Model: \"model_6\"\n",
      "_________________________________________________________________\n",
      " Layer (type)                Output Shape              Param #   \n",
      "=================================================================\n",
      " input_7 (InputLayer)        [(None, 28, 28, 1)]       0         \n",
      "                                                                 \n",
      " conv2d (Conv2D)             (None, 28, 28, 4)         40        \n",
      "                                                                 \n",
      "=================================================================\n",
      "Total params: 40 (160.00 Byte)\n",
      "Trainable params: 40 (160.00 Byte)\n",
      "Non-trainable params: 0 (0.00 Byte)\n",
      "_________________________________________________________________\n"
     ]
    }
   ],
   "source": [
    "# Conv2D 구현 예시\n",
    "\n",
    "from tensorflow.keras.layers import Input, Conv2D\n",
    "from tensorflow.keras.models import Model\n",
    "\n",
    "# 이전에 만들었던 model의 input tensor에서 봤듯이 keras에서 모델 생성 시 batch를 고려하지 않았다.\n",
    "# 그래서 우리도 2차원 배열을 shape로 넣어줬다\n",
    "# 그러나 keras layer의 conv2d는 batch를 제외하고도 3차운을 받는다. 이는 shape에서 channel의 공간을 고려했기 때문이다.\n",
    "# 해당 channel의 경우 tensorflow는 channel 정보를 무조건 뒤에서 받기 때문이다.\n",
    "input_tensor = Input(shape=(28,28,1))\n",
    "\n",
    "# padding 옵션의 경우, same이면 con2d 연산 전후 사이즈가 28*28로 갖게 맞춰진다.\n",
    "x = Conv2D(filters=4, kernel_size=3, strides=1, padding='same', activation='relu')(input_tensor)\n",
    "\n",
    "conv2d_model = Model(inputs=input_tensor, outputs=x)\n",
    "conv2d_model.summary()"
   ]
  },
  {
   "cell_type": "markdown",
   "id": "944489a2",
   "metadata": {
    "papermill": {
     "duration": 0.253551,
     "end_time": "2024-02-05T12:17:43.923521",
     "exception": false,
     "start_time": "2024-02-05T12:17:43.669970",
     "status": "completed"
    },
    "tags": []
   },
   "source": [
    "### Pooling 적용하기\n",
    "* pooling이란, 앞서서 conv2d layer의 계산 결과인 feature maps를 일종의 subsampling하는 과정이다.\n",
    "\n",
    "#### Pooling의 목적은 아래와 같다\n",
    "1. input size를 줄여 텐서의 크기를 줄여 계산 속도를 높이기.\n",
    "2. input size 감소를 통한 불필요한 parameter 제거로 overfitting 조절"
   ]
  },
  {
   "cell_type": "code",
   "execution_count": 21,
   "id": "ee0aee46",
   "metadata": {
    "execution": {
     "iopub.execute_input": "2024-02-05T12:17:44.428367Z",
     "iopub.status.busy": "2024-02-05T12:17:44.427602Z",
     "iopub.status.idle": "2024-02-05T12:17:44.486574Z",
     "shell.execute_reply": "2024-02-05T12:17:44.485543Z"
    },
    "papermill": {
     "duration": 0.32089,
     "end_time": "2024-02-05T12:17:44.495616",
     "exception": false,
     "start_time": "2024-02-05T12:17:44.174726",
     "status": "completed"
    },
    "tags": []
   },
   "outputs": [
    {
     "name": "stdout",
     "output_type": "stream",
     "text": [
      "KerasTensor(type_spec=TensorSpec(shape=(None, 13, 13, 32), dtype=tf.float32, name=None), name='max_pooling2d/MaxPool:0', description=\"created by layer 'max_pooling2d'\")\n",
      "Model: \"model_7\"\n",
      "_________________________________________________________________\n",
      " Layer (type)                Output Shape              Param #   \n",
      "=================================================================\n",
      " input_8 (InputLayer)        [(None, 28, 28, 1)]       0         \n",
      "                                                                 \n",
      " conv2d_1 (Conv2D)           (None, 28, 28, 16)        160       \n",
      "                                                                 \n",
      " conv2d_2 (Conv2D)           (None, 26, 26, 32)        4640      \n",
      "                                                                 \n",
      " max_pooling2d (MaxPooling2  (None, 13, 13, 32)        0         \n",
      " D)                                                              \n",
      "                                                                 \n",
      "=================================================================\n",
      "Total params: 4800 (18.75 KB)\n",
      "Trainable params: 4800 (18.75 KB)\n",
      "Non-trainable params: 0 (0.00 Byte)\n",
      "_________________________________________________________________\n"
     ]
    }
   ],
   "source": [
    "# pooling을 적용한 모델 구현 예시\n",
    "\n",
    "from tensorflow.keras.layers import Input, Conv2D, MaxPooling2D\n",
    "from tensorflow.keras.models import Model\n",
    "\n",
    "# maxpooling2d를 통해 channel의 수는 변하지 않고 평면적인 사이즈는 28*28에서 14*!4로 축소\n",
    "\n",
    "input_tensor = Input(shape=(28,28,1))\n",
    "x = Conv2D(filters=16, kernel_size=3, padding='same', activation='relu')(input_tensor)\n",
    "x = Conv2D(filters=32, kernel_size=3, activation='relu')(x)\n",
    "x = MaxPooling2D(2)(x)\n",
    "print(x)\n",
    "\n",
    "pooling_model = Model(inputs=input_tensor, outputs=x)\n",
    "# summary에서 maxpooling의 경우 기존에 있는 feature map에 연산을 통해 shape를 줄이는 역할을 수행했기에 parameter는 따로 없다\n",
    "# 첫 번째 conv2d에서 param수가 160인 이유는 kernel_size 3*3이 16개가 있고, 거기에 bias가 filter 개수만큼 붙어서 (3*3)*16 + 16 = 160이다.\n",
    "# 두 번째 conv2d의 pararm수는 한 filter에 3*3으로 구성된 kernel이 16개가 있다. 그렇게 구성된 filter가 32개가 있고 여기에 bias 32개가 붙어서 (3*3*16)*32 + 32 = 4640이다.\n",
    "# 결국 위처럼 구성된 cnn의 연산을 거쳐서 최적 feature 추출을 위한 필터 weight 값이 계산된다.\n",
    "pooling_model.summary()"
   ]
  },
  {
   "cell_type": "markdown",
   "id": "c3c34ad2",
   "metadata": {
    "papermill": {
     "duration": 0.256336,
     "end_time": "2024-02-05T12:17:45.006813",
     "exception": false,
     "start_time": "2024-02-05T12:17:44.750477",
     "status": "completed"
    },
    "tags": []
   },
   "source": [
    "# feature extractor와 classifier를 합친 model 생성"
   ]
  },
  {
   "cell_type": "code",
   "execution_count": 22,
   "id": "1548e2fc",
   "metadata": {
    "execution": {
     "iopub.execute_input": "2024-02-05T12:17:45.569819Z",
     "iopub.status.busy": "2024-02-05T12:17:45.569007Z",
     "iopub.status.idle": "2024-02-05T12:17:45.663576Z",
     "shell.execute_reply": "2024-02-05T12:17:45.662253Z"
    },
    "papermill": {
     "duration": 0.417767,
     "end_time": "2024-02-05T12:17:45.675465",
     "exception": false,
     "start_time": "2024-02-05T12:17:45.257698",
     "status": "completed"
    },
    "tags": []
   },
   "outputs": [
    {
     "name": "stdout",
     "output_type": "stream",
     "text": [
      "Model: \"model_8\"\n",
      "_________________________________________________________________\n",
      " Layer (type)                Output Shape              Param #   \n",
      "=================================================================\n",
      " input_9 (InputLayer)        [(None, 28, 28, 1)]       0         \n",
      "                                                                 \n",
      " conv2d_3 (Conv2D)           (None, 28, 28, 32)        320       \n",
      "                                                                 \n",
      " conv2d_4 (Conv2D)           (None, 26, 26, 64)        18496     \n",
      "                                                                 \n",
      " max_pooling2d_1 (MaxPoolin  (None, 13, 13, 64)        0         \n",
      " g2D)                                                            \n",
      "                                                                 \n",
      " flatten_6 (Flatten)         (None, 10816)             0         \n",
      "                                                                 \n",
      " dense_18 (Dense)            (None, 100)               1081700   \n",
      "                                                                 \n",
      " dense_19 (Dense)            (None, 10)                1010      \n",
      "                                                                 \n",
      "=================================================================\n",
      "Total params: 1101526 (4.20 MB)\n",
      "Trainable params: 1101526 (4.20 MB)\n",
      "Non-trainable params: 0 (0.00 Byte)\n",
      "_________________________________________________________________\n"
     ]
    }
   ],
   "source": [
    "from tensorflow.keras.layers import  Input,Dense, Flatten, Conv2D, MaxPooling2D\n",
    "from tensorflow.keras.models import Model\n",
    "\n",
    "# feature extractor\n",
    "input_tensor = Input(shape=(28,28,1))\n",
    "x = Conv2D(filters=32, kernel_size=3, strides=1, padding='same', activation='relu')(input_tensor)\n",
    "x = Conv2D(filters=64, kernel_size=3, activation='relu')(x)\n",
    "x = MaxPooling2D(2)(x)\n",
    "\n",
    "# classifier\n",
    "x = Flatten()(x)\n",
    "x = Dense(100, activation='relu')(x)\n",
    "output = Dense(10, activation='softmax')(x)\n",
    "model = Model(inputs=input_tensor, outputs=output)\n",
    "model.summary()"
   ]
  },
  {
   "cell_type": "markdown",
   "id": "d1bc6edd",
   "metadata": {
    "papermill": {
     "duration": 0.28442,
     "end_time": "2024-02-05T12:17:46.225016",
     "exception": false,
     "start_time": "2024-02-05T12:17:45.940596",
     "status": "completed"
    },
    "tags": []
   },
   "source": [
    "## fashion mnist 데이터를 사용한 모델 학습 및 평가"
   ]
  },
  {
   "cell_type": "code",
   "execution_count": 23,
   "id": "dc0cc0c9",
   "metadata": {
    "execution": {
     "iopub.execute_input": "2024-02-05T12:17:46.754423Z",
     "iopub.status.busy": "2024-02-05T12:17:46.754000Z",
     "iopub.status.idle": "2024-02-05T12:17:46.766810Z",
     "shell.execute_reply": "2024-02-05T12:17:46.765899Z"
    },
    "papermill": {
     "duration": 0.271514,
     "end_time": "2024-02-05T12:17:46.769268",
     "exception": false,
     "start_time": "2024-02-05T12:17:46.497754",
     "status": "completed"
    },
    "tags": []
   },
   "outputs": [],
   "source": [
    "from tensorflow.keras.optimizers import Adam\n",
    "\n",
    "model.compile(optimizer=Adam(0.001), loss='categorical_crossentropy', metrics=['accuracy'])"
   ]
  },
  {
   "cell_type": "code",
   "execution_count": 24,
   "id": "2972c4d2",
   "metadata": {
    "execution": {
     "iopub.execute_input": "2024-02-05T12:17:47.292581Z",
     "iopub.status.busy": "2024-02-05T12:17:47.292136Z",
     "iopub.status.idle": "2024-02-05T12:18:52.479090Z",
     "shell.execute_reply": "2024-02-05T12:18:52.478170Z"
    },
    "papermill": {
     "duration": 65.449499,
     "end_time": "2024-02-05T12:18:52.481783",
     "exception": false,
     "start_time": "2024-02-05T12:17:47.032284",
     "status": "completed"
    },
    "tags": []
   },
   "outputs": [
    {
     "name": "stdout",
     "output_type": "stream",
     "text": [
      "Epoch 1/20\n",
      "399/399 [==============================] - 7s 9ms/step - loss: 0.4435 - accuracy: 0.8423 - val_loss: 0.3320 - val_accuracy: 0.8800\n",
      "Epoch 2/20\n",
      "399/399 [==============================] - 3s 7ms/step - loss: 0.2708 - accuracy: 0.9025 - val_loss: 0.2664 - val_accuracy: 0.9060\n",
      "Epoch 3/20\n",
      "399/399 [==============================] - 3s 8ms/step - loss: 0.2174 - accuracy: 0.9202 - val_loss: 0.2330 - val_accuracy: 0.9134\n",
      "Epoch 4/20\n",
      "399/399 [==============================] - 3s 8ms/step - loss: 0.1793 - accuracy: 0.9341 - val_loss: 0.2230 - val_accuracy: 0.9161\n",
      "Epoch 5/20\n",
      "399/399 [==============================] - 3s 7ms/step - loss: 0.1458 - accuracy: 0.9467 - val_loss: 0.2406 - val_accuracy: 0.9159\n",
      "Epoch 6/20\n",
      "399/399 [==============================] - 3s 7ms/step - loss: 0.1220 - accuracy: 0.9549 - val_loss: 0.2320 - val_accuracy: 0.9177\n",
      "Epoch 7/20\n",
      "399/399 [==============================] - 3s 7ms/step - loss: 0.0956 - accuracy: 0.9655 - val_loss: 0.2357 - val_accuracy: 0.9197\n",
      "Epoch 8/20\n",
      "399/399 [==============================] - 3s 8ms/step - loss: 0.0783 - accuracy: 0.9713 - val_loss: 0.2510 - val_accuracy: 0.9210\n",
      "Epoch 9/20\n",
      "399/399 [==============================] - 3s 8ms/step - loss: 0.0610 - accuracy: 0.9777 - val_loss: 0.2771 - val_accuracy: 0.9216\n",
      "Epoch 10/20\n",
      "399/399 [==============================] - 3s 8ms/step - loss: 0.0452 - accuracy: 0.9835 - val_loss: 0.2864 - val_accuracy: 0.9208\n",
      "Epoch 11/20\n",
      "399/399 [==============================] - 3s 8ms/step - loss: 0.0403 - accuracy: 0.9857 - val_loss: 0.3283 - val_accuracy: 0.9168\n",
      "Epoch 12/20\n",
      "399/399 [==============================] - 3s 8ms/step - loss: 0.0295 - accuracy: 0.9898 - val_loss: 0.3535 - val_accuracy: 0.9169\n",
      "Epoch 13/20\n",
      "399/399 [==============================] - 3s 8ms/step - loss: 0.0252 - accuracy: 0.9915 - val_loss: 0.3439 - val_accuracy: 0.9214\n",
      "Epoch 14/20\n",
      "399/399 [==============================] - 3s 8ms/step - loss: 0.0241 - accuracy: 0.9920 - val_loss: 0.3587 - val_accuracy: 0.9238\n",
      "Epoch 15/20\n",
      "399/399 [==============================] - 3s 8ms/step - loss: 0.0141 - accuracy: 0.9956 - val_loss: 0.4156 - val_accuracy: 0.9209\n",
      "Epoch 16/20\n",
      "399/399 [==============================] - 3s 8ms/step - loss: 0.0170 - accuracy: 0.9943 - val_loss: 0.3989 - val_accuracy: 0.9181\n",
      "Epoch 17/20\n",
      "399/399 [==============================] - 3s 8ms/step - loss: 0.0155 - accuracy: 0.9949 - val_loss: 0.4305 - val_accuracy: 0.9179\n",
      "Epoch 18/20\n",
      "399/399 [==============================] - 3s 8ms/step - loss: 0.0162 - accuracy: 0.9945 - val_loss: 0.4283 - val_accuracy: 0.9224\n",
      "Epoch 19/20\n",
      "399/399 [==============================] - 3s 8ms/step - loss: 0.0148 - accuracy: 0.9951 - val_loss: 0.4513 - val_accuracy: 0.9230\n",
      "Epoch 20/20\n",
      "399/399 [==============================] - 3s 8ms/step - loss: 0.0150 - accuracy: 0.9951 - val_loss: 0.4809 - val_accuracy: 0.9146\n"
     ]
    }
   ],
   "source": [
    "history = model.fit(x=tr_images, y=tr_oh_labels, batch_size=128, epochs=20, validation_data=(val_images, val_oh_labels))"
   ]
  },
  {
   "cell_type": "code",
   "execution_count": 25,
   "id": "bc795aa6",
   "metadata": {
    "execution": {
     "iopub.execute_input": "2024-02-05T12:18:53.198937Z",
     "iopub.status.busy": "2024-02-05T12:18:53.198580Z",
     "iopub.status.idle": "2024-02-05T12:18:53.464838Z",
     "shell.execute_reply": "2024-02-05T12:18:53.463840Z"
    },
    "papermill": {
     "duration": 0.62841,
     "end_time": "2024-02-05T12:18:53.466746",
     "exception": false,
     "start_time": "2024-02-05T12:18:52.838336",
     "status": "completed"
    },
    "tags": []
   },
   "outputs": [
    {
     "data": {
      "image/png": "[encoded data removed]",
      "text/plain": [
       "<Figure size 640x480 with 1 Axes>"
      ]
     },
     "metadata": {},
     "output_type": "display_data"
    }
   ],
   "source": [
    "show_history(history)"
   ]
  },
  {
   "cell_type": "code",
   "execution_count": 26,
   "id": "0c392de3",
   "metadata": {
    "execution": {
     "iopub.execute_input": "2024-02-05T12:18:54.213982Z",
     "iopub.status.busy": "2024-02-05T12:18:54.213098Z",
     "iopub.status.idle": "2024-02-05T12:18:54.778687Z",
     "shell.execute_reply": "2024-02-05T12:18:54.777634Z"
    },
    "papermill": {
     "duration": 0.922672,
     "end_time": "2024-02-05T12:18:54.781112",
     "exception": false,
     "start_time": "2024-02-05T12:18:53.858440",
     "status": "completed"
    },
    "tags": []
   },
   "outputs": [
    {
     "name": "stdout",
     "output_type": "stream",
     "text": [
      "79/79 [==============================] - 0s 6ms/step - loss: 0.5289 - accuracy: 0.9108\n"
     ]
    },
    {
     "data": {
      "text/plain": [
       "[0.5288869142532349, 0.9107999801635742]"
      ]
     },
     "execution_count": 26,
     "metadata": {},
     "output_type": "execute_result"
    }
   ],
   "source": [
    "# 기존에 위에서 feature extraction 과정 없이 진행한 모델에 비해 훨씬 낫다.\n",
    "\n",
    "model.evaluate(test_images, test_oh_labels, batch_size=128, verbose=1)"
   ]
  },
  {
   "cell_type": "markdown",
   "id": "f629e787",
   "metadata": {
    "papermill": {
     "duration": 0.348523,
     "end_time": "2024-02-05T12:18:55.525098",
     "exception": false,
     "start_time": "2024-02-05T12:18:55.176575",
     "status": "completed"
    },
    "tags": []
   },
   "source": [
    "## Dropout을 적용해서 Fully Connected Layer의 오버피팅 조정\n",
    "* CNN을 이용해 만든 모델을 만들 때 fully connected layer를 만들 경우 지나치게 많은 파라미터가 생성될 수 있다.\n",
    "* 이럴 경우 over fitting 문제와 더불어 연산 속도 저하를 불러올 수 있다.\n",
    "* 이를 dropout을 통해 layer간 연결을 의도적으로 끊어줘 이 문제에 대응할 수 있다."
   ]
  },
  {
   "cell_type": "code",
   "execution_count": 27,
   "id": "3fe47c74",
   "metadata": {
    "execution": {
     "iopub.execute_input": "2024-02-05T12:18:56.233434Z",
     "iopub.status.busy": "2024-02-05T12:18:56.233071Z",
     "iopub.status.idle": "2024-02-05T12:18:56.347404Z",
     "shell.execute_reply": "2024-02-05T12:18:56.346381Z"
    },
    "papermill": {
     "duration": 0.482038,
     "end_time": "2024-02-05T12:18:56.360161",
     "exception": false,
     "start_time": "2024-02-05T12:18:55.878123",
     "status": "completed"
    },
    "tags": []
   },
   "outputs": [
    {
     "name": "stdout",
     "output_type": "stream",
     "text": [
      "Model: \"model_9\"\n",
      "_________________________________________________________________\n",
      " Layer (type)                Output Shape              Param #   \n",
      "=================================================================\n",
      " input_10 (InputLayer)       [(None, 28, 28, 1)]       0         \n",
      "                                                                 \n",
      " conv2d_5 (Conv2D)           (None, 28, 28, 32)        320       \n",
      "                                                                 \n",
      " conv2d_6 (Conv2D)           (None, 26, 26, 64)        18496     \n",
      "                                                                 \n",
      " max_pooling2d_2 (MaxPoolin  (None, 13, 13, 64)        0         \n",
      " g2D)                                                            \n",
      "                                                                 \n",
      " dropout (Dropout)           (None, 13, 13, 64)        0         \n",
      "                                                                 \n",
      " flatten_7 (Flatten)         (None, 10816)             0         \n",
      "                                                                 \n",
      " dropout_1 (Dropout)         (None, 10816)             0         \n",
      "                                                                 \n",
      " dense_20 (Dense)            (None, 200)               2163400   \n",
      "                                                                 \n",
      " dropout_2 (Dropout)         (None, 200)               0         \n",
      "                                                                 \n",
      " dense_21 (Dense)            (None, 10)                2010      \n",
      "                                                                 \n",
      "=================================================================\n",
      "Total params: 2184226 (8.33 MB)\n",
      "Trainable params: 2184226 (8.33 MB)\n",
      "Non-trainable params: 0 (0.00 Byte)\n",
      "_________________________________________________________________\n"
     ]
    }
   ],
   "source": [
    "# dropout의 경우 keras layers의 Dropout을 통해 적용할 수 있다.\n",
    "\n",
    "from tensorflow.keras.layers import Dense, Flatten, Dropout, Input, Conv2D, MaxPooling2D\n",
    "from tensorflow.keras.models import Model\n",
    "\n",
    "input_tensor = Input(shape=(28, 28, 1))\n",
    "x = Conv2D(filters=32, kernel_size=3, strides=1, padding='same', activation='relu')(input_tensor)\n",
    "x = Conv2D(filters=64, kernel_size=3, activation='relu')(x)\n",
    "x = MaxPooling2D(2)(x)\n",
    "\n",
    "x = Dropout(rate=0.5)(x)\n",
    "x = Flatten()(x)\n",
    "x = Dropout(rate=0.5)(x)\n",
    "x = Dense(200, activation='relu')(x)\n",
    "x = Dropout(rate=0.2)(x)\n",
    "output = Dense(10, activation='softmax')(x)\n",
    "\n",
    "model = Model(inputs=input_tensor, outputs=output)\n",
    "model.summary()"
   ]
  },
  {
   "cell_type": "code",
   "execution_count": 28,
   "id": "42854c66",
   "metadata": {
    "execution": {
     "iopub.execute_input": "2024-02-05T12:18:57.144406Z",
     "iopub.status.busy": "2024-02-05T12:18:57.143509Z",
     "iopub.status.idle": "2024-02-05T12:21:00.449274Z",
     "shell.execute_reply": "2024-02-05T12:21:00.448341Z"
    },
    "papermill": {
     "duration": 123.669651,
     "end_time": "2024-02-05T12:21:00.451572",
     "exception": false,
     "start_time": "2024-02-05T12:18:56.781921",
     "status": "completed"
    },
    "tags": []
   },
   "outputs": [
    {
     "name": "stdout",
     "output_type": "stream",
     "text": [
      "Epoch 1/30\n"
     ]
    },
    {
     "name": "stderr",
     "output_type": "stream",
     "text": [
      "2024-02-05 12:18:58.357670: E tensorflow/core/grappler/optimizers/meta_optimizer.cc:961] layout failed: INVALID_ARGUMENT: Size of values 0 does not match size of permutation 4 @ fanin shape inmodel_9/dropout/dropout/SelectV2-2-TransposeNHWCToNCHW-LayoutOptimizer\n"
     ]
    },
    {
     "name": "stdout",
     "output_type": "stream",
     "text": [
      "399/399 [==============================] - 7s 11ms/step - loss: 0.5004 - accuracy: 0.8212 - val_loss: 0.3244 - val_accuracy: 0.8820\n",
      "Epoch 2/30\n",
      "399/399 [==============================] - 4s 10ms/step - loss: 0.3394 - accuracy: 0.8763 - val_loss: 0.2773 - val_accuracy: 0.8996\n",
      "Epoch 3/30\n",
      "399/399 [==============================] - 4s 10ms/step - loss: 0.2947 - accuracy: 0.8910 - val_loss: 0.2591 - val_accuracy: 0.9054\n",
      "Epoch 4/30\n",
      "399/399 [==============================] - 4s 10ms/step - loss: 0.2651 - accuracy: 0.9014 - val_loss: 0.2404 - val_accuracy: 0.9099\n",
      "Epoch 5/30\n",
      "399/399 [==============================] - 4s 10ms/step - loss: 0.2473 - accuracy: 0.9077 - val_loss: 0.2219 - val_accuracy: 0.9186\n",
      "Epoch 6/30\n",
      "399/399 [==============================] - 4s 10ms/step - loss: 0.2286 - accuracy: 0.9149 - val_loss: 0.2118 - val_accuracy: 0.9217\n",
      "Epoch 7/30\n",
      "399/399 [==============================] - 4s 10ms/step - loss: 0.2161 - accuracy: 0.9195 - val_loss: 0.2098 - val_accuracy: 0.9212\n",
      "Epoch 8/30\n",
      "399/399 [==============================] - 4s 10ms/step - loss: 0.2035 - accuracy: 0.9231 - val_loss: 0.2113 - val_accuracy: 0.9186\n",
      "Epoch 9/30\n",
      "399/399 [==============================] - 4s 10ms/step - loss: 0.1910 - accuracy: 0.9289 - val_loss: 0.1964 - val_accuracy: 0.9279\n",
      "Epoch 10/30\n",
      "399/399 [==============================] - 4s 10ms/step - loss: 0.1824 - accuracy: 0.9307 - val_loss: 0.1963 - val_accuracy: 0.9273\n",
      "Epoch 11/30\n",
      "399/399 [==============================] - 4s 10ms/step - loss: 0.1743 - accuracy: 0.9350 - val_loss: 0.1924 - val_accuracy: 0.9293\n",
      "Epoch 12/30\n",
      "399/399 [==============================] - 4s 10ms/step - loss: 0.1660 - accuracy: 0.9375 - val_loss: 0.2045 - val_accuracy: 0.9267\n",
      "Epoch 13/30\n",
      "399/399 [==============================] - 4s 10ms/step - loss: 0.1609 - accuracy: 0.9388 - val_loss: 0.1939 - val_accuracy: 0.9301\n",
      "Epoch 14/30\n",
      "399/399 [==============================] - 4s 10ms/step - loss: 0.1527 - accuracy: 0.9421 - val_loss: 0.1933 - val_accuracy: 0.9320\n",
      "Epoch 15/30\n",
      "399/399 [==============================] - 4s 10ms/step - loss: 0.1491 - accuracy: 0.9433 - val_loss: 0.1917 - val_accuracy: 0.9314\n",
      "Epoch 16/30\n",
      "399/399 [==============================] - 4s 10ms/step - loss: 0.1444 - accuracy: 0.9455 - val_loss: 0.1871 - val_accuracy: 0.9331\n",
      "Epoch 17/30\n",
      "399/399 [==============================] - 4s 10ms/step - loss: 0.1394 - accuracy: 0.9471 - val_loss: 0.1935 - val_accuracy: 0.9307\n",
      "Epoch 18/30\n",
      "399/399 [==============================] - 4s 10ms/step - loss: 0.1359 - accuracy: 0.9487 - val_loss: 0.1911 - val_accuracy: 0.9330\n",
      "Epoch 19/30\n",
      "399/399 [==============================] - 4s 10ms/step - loss: 0.1317 - accuracy: 0.9502 - val_loss: 0.1895 - val_accuracy: 0.9351\n",
      "Epoch 20/30\n",
      "399/399 [==============================] - 4s 10ms/step - loss: 0.1276 - accuracy: 0.9519 - val_loss: 0.1879 - val_accuracy: 0.9366\n",
      "Epoch 21/30\n",
      "399/399 [==============================] - 4s 10ms/step - loss: 0.1250 - accuracy: 0.9531 - val_loss: 0.1902 - val_accuracy: 0.9363\n",
      "Epoch 22/30\n",
      "399/399 [==============================] - 4s 10ms/step - loss: 0.1189 - accuracy: 0.9544 - val_loss: 0.1991 - val_accuracy: 0.9323\n",
      "Epoch 23/30\n",
      "399/399 [==============================] - 4s 10ms/step - loss: 0.1188 - accuracy: 0.9548 - val_loss: 0.1908 - val_accuracy: 0.9356\n",
      "Epoch 24/30\n",
      "399/399 [==============================] - 4s 10ms/step - loss: 0.1101 - accuracy: 0.9591 - val_loss: 0.1917 - val_accuracy: 0.9351\n",
      "Epoch 25/30\n",
      "399/399 [==============================] - 4s 10ms/step - loss: 0.1116 - accuracy: 0.9584 - val_loss: 0.1859 - val_accuracy: 0.9397\n",
      "Epoch 26/30\n",
      "399/399 [==============================] - 4s 10ms/step - loss: 0.1081 - accuracy: 0.9584 - val_loss: 0.1879 - val_accuracy: 0.9340\n",
      "Epoch 27/30\n",
      "399/399 [==============================] - 4s 10ms/step - loss: 0.1078 - accuracy: 0.9596 - val_loss: 0.1932 - val_accuracy: 0.9357\n",
      "Epoch 28/30\n",
      "399/399 [==============================] - 4s 10ms/step - loss: 0.1023 - accuracy: 0.9610 - val_loss: 0.1994 - val_accuracy: 0.9341\n",
      "Epoch 29/30\n",
      "399/399 [==============================] - 4s 10ms/step - loss: 0.1015 - accuracy: 0.9611 - val_loss: 0.1944 - val_accuracy: 0.9349\n",
      "Epoch 30/30\n",
      "399/399 [==============================] - 4s 10ms/step - loss: 0.0994 - accuracy: 0.9633 - val_loss: 0.1964 - val_accuracy: 0.9338\n"
     ]
    }
   ],
   "source": [
    "from tensorflow.keras.optimizers import Adam\n",
    "\n",
    "model.compile(optimizer=Adam(0.001), loss='categorical_crossentropy', metrics=['accuracy'])\n",
    "history = model.fit(x=tr_images, y=tr_oh_labels, batch_size=128, epochs=30, validation_data=(val_images, val_oh_labels))"
   ]
  },
  {
   "cell_type": "code",
   "execution_count": 29,
   "id": "2b98f336",
   "metadata": {
    "execution": {
     "iopub.execute_input": "2024-02-05T12:21:01.573142Z",
     "iopub.status.busy": "2024-02-05T12:21:01.572333Z",
     "iopub.status.idle": "2024-02-05T12:21:02.254214Z",
     "shell.execute_reply": "2024-02-05T12:21:02.253329Z"
    },
    "papermill": {
     "duration": 1.22511,
     "end_time": "2024-02-05T12:21:02.256450",
     "exception": false,
     "start_time": "2024-02-05T12:21:01.031340",
     "status": "completed"
    },
    "tags": []
   },
   "outputs": [
    {
     "name": "stdout",
     "output_type": "stream",
     "text": [
      "79/79 [==============================] - 0s 4ms/step - loss: 0.2210 - accuracy: 0.9311\n"
     ]
    },
    {
     "data": {
      "text/plain": [
       "[0.22102008759975433, 0.9311000108718872]"
      ]
     },
     "execution_count": 29,
     "metadata": {},
     "output_type": "execute_result"
    },
    {
     "data": {
      "image/png": "[encoded data removed]",
      "text/plain": [
       "<Figure size 640x480 with 1 Axes>"
      ]
     },
     "metadata": {},
     "output_type": "display_data"
    }
   ],
   "source": [
    "show_history(history)\n",
    "\n",
    "model.evaluate(x=test_images, y=test_oh_labels, batch_size=128, verbose=1)"
   ]
  },
  {
   "cell_type": "code",
   "execution_count": null,
   "id": "0ebf466f",
   "metadata": {
    "papermill": {
     "duration": 0.589586,
     "end_time": "2024-02-05T12:21:03.379478",
     "exception": false,
     "start_time": "2024-02-05T12:21:02.789892",
     "status": "completed"
    },
    "tags": []
   },
   "outputs": [],
   "source": []
  }
 ],
 "metadata": {
  "kaggle": {
   "accelerator": "nvidiaTeslaT4",
   "dataSources": [],
   "dockerImageVersionId": 30646,
   "isGpuEnabled": true,
   "isInternetEnabled": true,
   "language": "python",
   "sourceType": "notebook"
  },
  "kernelspec": {
   "display_name": "Python 3",
   "language": "python",
   "name": "python3"
  },
  "language_info": {
   "codemirror_mode": {
    "name": "ipython",
    "version": 3
   },
   "file_extension": ".py",
   "mimetype": "text/x-python",
   "name": "python",
   "nbconvert_exporter": "python",
   "pygments_lexer": "ipython3",
   "version": "3.10.13"
  },
  "papermill": {
   "default_parameters": {},
   "duration": 394.855976,
   "end_time": "2024-02-05T12:21:06.749661",
   "environment_variables": {},
   "exception": null,
   "input_path": "__notebook__.ipynb",
   "output_path": "__notebook__.ipynb",
   "parameters": {},
   "start_time": "2024-02-05T12:14:31.893685",
   "version": "2.5.0"
  }
 },
 "nbformat": 4,
 "nbformat_minor": 5
}
