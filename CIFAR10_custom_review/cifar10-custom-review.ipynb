{
 "cells": [
  {
   "cell_type": "code",
   "execution_count": 1,
   "id": "b10d60cd",
   "metadata": {
    "_cell_guid": "b1076dfc-b9ad-4769-8c92-a6c4dae69d19",
    "_uuid": "8f2839f25d086af736a60e9eeb907d3b93b6e0e5",
    "execution": {
     "iopub.execute_input": "2024-02-11T11:41:14.677020Z",
     "iopub.status.busy": "2024-02-11T11:41:14.676381Z",
     "iopub.status.idle": "2024-02-11T11:41:15.974429Z",
     "shell.execute_reply": "2024-02-11T11:41:15.973465Z"
    },
    "papermill": {
     "duration": 1.31681,
     "end_time": "2024-02-11T11:41:15.976708",
     "exception": false,
     "start_time": "2024-02-11T11:41:14.659898",
     "status": "completed"
    },
    "tags": []
   },
   "outputs": [],
   "source": [
    "# This Python 3 environment comes with many helpful analytics libraries installed\n",
    "# It is defined by the kaggle/python Docker image: https://github.com/kaggle/docker-python\n",
    "# For example, here's several helpful packages to load\n",
    "\n",
    "import numpy as np # linear algebra\n",
    "import pandas as pd # data processing, CSV file I/O (e.g. pd.read_csv)\n",
    "\n",
    "# Input data files are available in the read-only \"../input/\" directory\n",
    "# For example, running this (by clicking run or pressing Shift+Enter) will list all files under the input directory\n",
    "\n",
    "import os\n",
    "for dirname, _, filenames in os.walk('/kaggle/input'):\n",
    "    for filename in filenames:\n",
    "        print(os.path.join(dirname, filename))\n",
    "\n",
    "# You can write up to 20GB to the current directory (/kaggle/working/) that gets preserved as output when you create a version using \"Save & Run All\" \n",
    "# You can also write temporary files to /kaggle/temp/, but they won't be saved outside of the current session"
   ]
  },
  {
   "cell_type": "markdown",
   "id": "3d7dc9f6",
   "metadata": {
    "papermill": {
     "duration": 0.014741,
     "end_time": "2024-02-11T11:41:16.007719",
     "exception": false,
     "start_time": "2024-02-11T11:41:15.992978",
     "status": "completed"
    },
    "tags": []
   },
   "source": [
    "# CIFAR10 datasets를 통해서 해당 데이터를 분류하는 모델을 만든다."
   ]
  },
  {
   "cell_type": "code",
   "execution_count": 2,
   "id": "1775824a",
   "metadata": {
    "execution": {
     "iopub.execute_input": "2024-02-11T11:41:16.038799Z",
     "iopub.status.busy": "2024-02-11T11:41:16.038381Z",
     "iopub.status.idle": "2024-02-11T11:41:16.046012Z",
     "shell.execute_reply": "2024-02-11T11:41:16.045244Z"
    },
    "papermill": {
     "duration": 0.025933,
     "end_time": "2024-02-11T11:41:16.047925",
     "exception": false,
     "start_time": "2024-02-11T11:41:16.021992",
     "status": "completed"
    },
    "tags": []
   },
   "outputs": [],
   "source": [
    "%config Completer.use_jedi = False"
   ]
  },
  {
   "cell_type": "code",
   "execution_count": 3,
   "id": "cbbdaf3a",
   "metadata": {
    "execution": {
     "iopub.execute_input": "2024-02-11T11:41:16.077897Z",
     "iopub.status.busy": "2024-02-11T11:41:16.077626Z",
     "iopub.status.idle": "2024-02-11T11:41:40.729406Z",
     "shell.execute_reply": "2024-02-11T11:41:40.728264Z"
    },
    "papermill": {
     "duration": 24.669391,
     "end_time": "2024-02-11T11:41:40.731849",
     "exception": false,
     "start_time": "2024-02-11T11:41:16.062458",
     "status": "completed"
    },
    "tags": []
   },
   "outputs": [
    {
     "name": "stderr",
     "output_type": "stream",
     "text": [
      "2024-02-11 11:41:19.874637: E external/local_xla/xla/stream_executor/cuda/cuda_dnn.cc:9261] Unable to register cuDNN factory: Attempting to register factory for plugin cuDNN when one has already been registered\n",
      "2024-02-11 11:41:19.874735: E external/local_xla/xla/stream_executor/cuda/cuda_fft.cc:607] Unable to register cuFFT factory: Attempting to register factory for plugin cuFFT when one has already been registered\n",
      "2024-02-11 11:41:20.190159: E external/local_xla/xla/stream_executor/cuda/cuda_blas.cc:1515] Unable to register cuBLAS factory: Attempting to register factory for plugin cuBLAS when one has already been registered\n"
     ]
    },
    {
     "name": "stdout",
     "output_type": "stream",
     "text": [
      "Downloading data from https://www.cs.toronto.edu/~kriz/cifar-10-python.tar.gz\n",
      "170498071/170498071 [==============================] - 2s 0us/step\n",
      "(50000, 32, 32, 3)\n",
      "(50000, 1)\n"
     ]
    }
   ],
   "source": [
    "# cifar10 dataset을 통해 classification model을 tensorflow.keras.layerskeras.datasets import cifar10\n",
    "from tensorflow.keras.datasets import cifar10\n",
    "\n",
    "(train_images, train_labels), (test_images, test_labels) = cifar10.load_data()\n",
    "print(train_images.shape)\n",
    "print(train_labels.shape)"
   ]
  },
  {
   "cell_type": "code",
   "execution_count": 4,
   "id": "1c2e6222",
   "metadata": {
    "execution": {
     "iopub.execute_input": "2024-02-11T11:41:40.773574Z",
     "iopub.status.busy": "2024-02-11T11:41:40.772927Z",
     "iopub.status.idle": "2024-02-11T11:41:40.780058Z",
     "shell.execute_reply": "2024-02-11T11:41:40.778947Z"
    },
    "papermill": {
     "duration": 0.031061,
     "end_time": "2024-02-11T11:41:40.783154",
     "exception": false,
     "start_time": "2024-02-11T11:41:40.752093",
     "status": "completed"
    },
    "tags": []
   },
   "outputs": [
    {
     "name": "stdout",
     "output_type": "stream",
     "text": [
      "[[[ 59  62  63]\n",
      "  [ 43  46  45]\n",
      "  [ 50  48  43]\n",
      "  ...\n",
      "  [158 132 108]\n",
      "  [152 125 102]\n",
      "  [148 124 103]]\n",
      "\n",
      " [[ 16  20  20]\n",
      "  [  0   0   0]\n",
      "  [ 18   8   0]\n",
      "  ...\n",
      "  [123  88  55]\n",
      "  [119  83  50]\n",
      "  [122  87  57]]\n",
      "\n",
      " [[ 25  24  21]\n",
      "  [ 16   7   0]\n",
      "  [ 49  27   8]\n",
      "  ...\n",
      "  [118  84  50]\n",
      "  [120  84  50]\n",
      "  [109  73  42]]\n",
      "\n",
      " ...\n",
      "\n",
      " [[208 170  96]\n",
      "  [201 153  34]\n",
      "  [198 161  26]\n",
      "  ...\n",
      "  [160 133  70]\n",
      "  [ 56  31   7]\n",
      "  [ 53  34  20]]\n",
      "\n",
      " [[180 139  96]\n",
      "  [173 123  42]\n",
      "  [186 144  30]\n",
      "  ...\n",
      "  [184 148  94]\n",
      "  [ 97  62  34]\n",
      "  [ 83  53  34]]\n",
      "\n",
      " [[177 144 116]\n",
      "  [168 129  94]\n",
      "  [179 142  87]\n",
      "  ...\n",
      "  [216 184 140]\n",
      "  [151 118  84]\n",
      "  [123  92  72]]]\n",
      "[6]\n"
     ]
    }
   ],
   "source": [
    "# 첫번째 이미지에 대한 정보 확인\n",
    "\n",
    "print(train_images[0,:,:])\n",
    "print(train_labels[0,:])"
   ]
  },
  {
   "cell_type": "code",
   "execution_count": 5,
   "id": "3eb5b793",
   "metadata": {
    "execution": {
     "iopub.execute_input": "2024-02-11T11:41:40.825248Z",
     "iopub.status.busy": "2024-02-11T11:41:40.824538Z",
     "iopub.status.idle": "2024-02-11T11:41:40.830752Z",
     "shell.execute_reply": "2024-02-11T11:41:40.829735Z"
    },
    "papermill": {
     "duration": 0.028795,
     "end_time": "2024-02-11T11:41:40.833368",
     "exception": false,
     "start_time": "2024-02-11T11:41:40.804573",
     "status": "completed"
    },
    "tags": []
   },
   "outputs": [
    {
     "name": "stdout",
     "output_type": "stream",
     "text": [
      "[6]\n",
      "frog\n",
      "[9]\n",
      "truck\n",
      "[9]\n",
      "truck\n",
      "[4]\n",
      "deer\n",
      "[1]\n",
      "automobile\n",
      "[1]\n",
      "automobile\n",
      "[2]\n",
      "bird\n",
      "[7]\n",
      "horse\n",
      "[8]\n",
      "ship\n",
      "[3]\n",
      "cat\n"
     ]
    }
   ],
   "source": [
    "# train_labels 10개 출력\n",
    "NAMES = np.array(['airplane', 'automobile', 'bird', 'cat', 'deer', 'dog', 'frog', 'horse', 'ship', 'truck'])\n",
    "# print(train_labels[:10])\n",
    "\n",
    "for i in range(10):\n",
    "    print(train_labels[i])\n",
    "    print(NAMES[train_labels[i,0]])"
   ]
  },
  {
   "cell_type": "markdown",
   "id": "37384681",
   "metadata": {
    "papermill": {
     "duration": 0.018726,
     "end_time": "2024-02-11T11:41:40.870782",
     "exception": false,
     "start_time": "2024-02-11T11:41:40.852056",
     "status": "completed"
    },
    "tags": []
   },
   "source": [
    "### CIFAR10 데이터 시각화\n",
    "* 이미지 크기는 32*32이며, RGB채널, 수식으로 표현하면 32*32*3\n",
    "* 이미지를 보면 전반적으로 label에 해당하는 대상이 가운데에 있고, 그 이미지에서 label 대상의 비중이 크다"
   ]
  },
  {
   "cell_type": "code",
   "execution_count": 6,
   "id": "c37caede",
   "metadata": {
    "execution": {
     "iopub.execute_input": "2024-02-11T11:41:40.909162Z",
     "iopub.status.busy": "2024-02-11T11:41:40.908874Z",
     "iopub.status.idle": "2024-02-11T11:41:43.782601Z",
     "shell.execute_reply": "2024-02-11T11:41:43.781527Z"
    },
    "papermill": {
     "duration": 2.895712,
     "end_time": "2024-02-11T11:41:43.785197",
     "exception": false,
     "start_time": "2024-02-11T11:41:40.889485",
     "status": "completed"
    },
    "tags": []
   },
   "outputs": [
    {
     "data": {
      "image/png": "[encoded data removed]",
      "text/plain": [
       "<Figure size 2200x600 with 8 Axes>"
      ]
     },
     "metadata": {},
     "output_type": "display_data"
    },
    {
     "data": {
      "image/png": "[encoded data removed]",
      "text/plain": [
       "<Figure size 2200x600 with 8 Axes>"
      ]
     },
     "metadata": {},
     "output_type": "display_data"
    }
   ],
   "source": [
    "import matplotlib.pyplot as plt\n",
    "%matplotlib inline\n",
    "\n",
    "def show_images(images, labels, ncols=8):\n",
    "    figure, axs = plt.subplots(figsize=(22,6), nrows=1, ncols=ncols)\n",
    "    for i in range(ncols):\n",
    "        axs[i].imshow(images[i])\n",
    "        label = labels[i].squeeze()  # 원래 labels가 2차원 데이터로 들어오는데 이걸 1차원으로 축소\n",
    "        axs[i].set_title(NAMES[int(label)])\n",
    "\n",
    "show_images(train_images[:8], train_labels[:8], ncols=8)\n",
    "show_images(train_images[8:16], train_labels[8:16], ncols=8)"
   ]
  },
  {
   "cell_type": "markdown",
   "id": "8dd2378a",
   "metadata": {
    "papermill": {
     "duration": 0.019789,
     "end_time": "2024-02-11T11:41:43.825262",
     "exception": false,
     "start_time": "2024-02-11T11:41:43.805473",
     "status": "completed"
    },
    "tags": []
   },
   "source": [
    "### data preprocessing\n",
    "* iamge array의 0 ~ 255 사이의 값으로 되어 있는 pixel intensity 값을 0 ~ 1 사이 값으로 변환. 각 pixel을 255.0으로 나눈다.\n",
    "* label array는 숫자형 값으로 바꾸고 이후 one hot encoding을 적용할지 선택한다. 이번 모델은 one hot encoding을 적용하지 않는다.\n",
    "* image array, label array 모두 np.float32로 형변환. np.float32는 tensor 변환시 tf.float32로 변환되어 기본적으로 tensorflow backend keras는 tf.float32를 기반으로 한다."
   ]
  },
  {
   "cell_type": "code",
   "execution_count": 7,
   "id": "b1b0dfa2",
   "metadata": {
    "execution": {
     "iopub.execute_input": "2024-02-11T11:41:43.865568Z",
     "iopub.status.busy": "2024-02-11T11:41:43.865229Z",
     "iopub.status.idle": "2024-02-11T11:41:44.598097Z",
     "shell.execute_reply": "2024-02-11T11:41:44.597096Z"
    },
    "papermill": {
     "duration": 0.755637,
     "end_time": "2024-02-11T11:41:44.600582",
     "exception": false,
     "start_time": "2024-02-11T11:41:43.844945",
     "status": "completed"
    },
    "tags": []
   },
   "outputs": [],
   "source": [
    "# label은 one hot encoding이 keras에서 활용이 용이하나 이번에는 sparse categorical crossentropy를 사용해보기 위해 적용하지 않는다.\n",
    "\n",
    "def get_preprocessed_data(images, labels):\n",
    "    \n",
    "    # 학습과 테스트 이미지 array를 0 ~ 1 사잇값으로 scale 및 float32로 변환\n",
    "    images = np.array(images/255.0, dtype=np.float32)\n",
    "    labels = np.array(labels, dtype=np.float32)\n",
    "    \n",
    "    return images, labels\n",
    "\n",
    "train_images, train_labels = get_preprocessed_data(train_images, train_labels)\n",
    "test_images, test_labels = get_preprocessed_data(test_images, test_labels)"
   ]
  },
  {
   "cell_type": "code",
   "execution_count": 8,
   "id": "e74308d5",
   "metadata": {
    "execution": {
     "iopub.execute_input": "2024-02-11T11:41:44.640733Z",
     "iopub.status.busy": "2024-02-11T11:41:44.640251Z",
     "iopub.status.idle": "2024-02-11T11:41:44.648482Z",
     "shell.execute_reply": "2024-02-11T11:41:44.647563Z"
    },
    "papermill": {
     "duration": 0.029926,
     "end_time": "2024-02-11T11:41:44.650326",
     "exception": false,
     "start_time": "2024-02-11T11:41:44.620400",
     "status": "completed"
    },
    "tags": []
   },
   "outputs": [
    {
     "data": {
      "text/plain": [
       "array([[[0.23137255, 0.24313726, 0.24705882],\n",
       "        [0.16862746, 0.18039216, 0.1764706 ],\n",
       "        [0.19607843, 0.1882353 , 0.16862746],\n",
       "        ...,\n",
       "        [0.61960787, 0.5176471 , 0.42352942],\n",
       "        [0.59607846, 0.49019608, 0.4       ],\n",
       "        [0.5803922 , 0.4862745 , 0.40392157]],\n",
       "\n",
       "       [[0.0627451 , 0.07843138, 0.07843138],\n",
       "        [0.        , 0.        , 0.        ],\n",
       "        [0.07058824, 0.03137255, 0.        ],\n",
       "        ...,\n",
       "        [0.48235294, 0.34509805, 0.21568628],\n",
       "        [0.46666667, 0.3254902 , 0.19607843],\n",
       "        [0.47843137, 0.34117648, 0.22352941]],\n",
       "\n",
       "       [[0.09803922, 0.09411765, 0.08235294],\n",
       "        [0.0627451 , 0.02745098, 0.        ],\n",
       "        [0.19215687, 0.10588235, 0.03137255],\n",
       "        ...,\n",
       "        [0.4627451 , 0.32941177, 0.19607843],\n",
       "        [0.47058824, 0.32941177, 0.19607843],\n",
       "        [0.42745098, 0.28627452, 0.16470589]],\n",
       "\n",
       "       ...,\n",
       "\n",
       "       [[0.8156863 , 0.6666667 , 0.3764706 ],\n",
       "        [0.7882353 , 0.6       , 0.13333334],\n",
       "        [0.7764706 , 0.6313726 , 0.10196079],\n",
       "        ...,\n",
       "        [0.627451  , 0.52156866, 0.27450982],\n",
       "        [0.21960784, 0.12156863, 0.02745098],\n",
       "        [0.20784314, 0.13333334, 0.07843138]],\n",
       "\n",
       "       [[0.7058824 , 0.54509807, 0.3764706 ],\n",
       "        [0.6784314 , 0.48235294, 0.16470589],\n",
       "        [0.7294118 , 0.5647059 , 0.11764706],\n",
       "        ...,\n",
       "        [0.72156864, 0.5803922 , 0.36862746],\n",
       "        [0.38039216, 0.24313726, 0.13333334],\n",
       "        [0.3254902 , 0.20784314, 0.13333334]],\n",
       "\n",
       "       [[0.69411767, 0.5647059 , 0.45490196],\n",
       "        [0.65882355, 0.5058824 , 0.36862746],\n",
       "        [0.7019608 , 0.5568628 , 0.34117648],\n",
       "        ...,\n",
       "        [0.84705883, 0.72156864, 0.54901963],\n",
       "        [0.5921569 , 0.4627451 , 0.32941177],\n",
       "        [0.48235294, 0.36078432, 0.28235295]]], dtype=float32)"
      ]
     },
     "execution_count": 8,
     "metadata": {},
     "output_type": "execute_result"
    }
   ],
   "source": [
    "# 전처리 적용 여부 확인\n",
    "train_images[0]"
   ]
  },
  {
   "cell_type": "code",
   "execution_count": 9,
   "id": "b1ac6c6f",
   "metadata": {
    "execution": {
     "iopub.execute_input": "2024-02-11T11:41:44.689654Z",
     "iopub.status.busy": "2024-02-11T11:41:44.689155Z",
     "iopub.status.idle": "2024-02-11T11:41:44.694167Z",
     "shell.execute_reply": "2024-02-11T11:41:44.693259Z"
    },
    "papermill": {
     "duration": 0.026755,
     "end_time": "2024-02-11T11:41:44.696197",
     "exception": false,
     "start_time": "2024-02-11T11:41:44.669442",
     "status": "completed"
    },
    "tags": []
   },
   "outputs": [
    {
     "name": "stdout",
     "output_type": "stream",
     "text": [
      "(50000, 32, 32, 3) (50000, 1)\n"
     ]
    }
   ],
   "source": [
    "# keras는 CNN 2D 모델에 학습 데잍터 입력 시 반드시 image array는 4차원 배열이 되어야 한다.\n",
    "# rgb 채널 이미지 array는 기본적으로 3차원인데 여기서 이미지의 개수를 포함해서 4차원이 형성되는 구조다.\n",
    "# 만일 grayscale이 2차원 이미지 array라고 해도 의도적으로 채널을 명시해서 3차원으로 만들어 이미지 개수를 포함하면 4차원이 되도록 해야한다.\n",
    "\n",
    "print(train_images.shape, train_labels.shape)"
   ]
  },
  {
   "cell_type": "code",
   "execution_count": 10,
   "id": "647a1da2",
   "metadata": {
    "execution": {
     "iopub.execute_input": "2024-02-11T11:41:44.735790Z",
     "iopub.status.busy": "2024-02-11T11:41:44.735527Z",
     "iopub.status.idle": "2024-02-11T11:41:44.740581Z",
     "shell.execute_reply": "2024-02-11T11:41:44.739575Z"
    },
    "papermill": {
     "duration": 0.027808,
     "end_time": "2024-02-11T11:41:44.743147",
     "exception": false,
     "start_time": "2024-02-11T11:41:44.715339",
     "status": "completed"
    },
    "tags": []
   },
   "outputs": [
    {
     "name": "stdout",
     "output_type": "stream",
     "text": [
      "(50000,)\n",
      "(10000,)\n"
     ]
    }
   ],
   "source": [
    "# labels 데이터가 2차원임. 이를 keras 모델에 입력해도 문제없이 작동한다.\n",
    "# 그치만 one hot encoding의 적용 여부를 명확하게 알 수 있게 1차원으로 만들어주자\n",
    "\n",
    "train_labels = train_labels.squeeze()\n",
    "test_labels = test_labels.squeeze()\n",
    "\n",
    "print(train_labels.shape)\n",
    "print(test_labels.shape)"
   ]
  },
  {
   "cell_type": "markdown",
   "id": "806b298f",
   "metadata": {
    "papermill": {
     "duration": 0.019207,
     "end_time": "2024-02-11T11:41:44.781846",
     "exception": false,
     "start_time": "2024-02-11T11:41:44.762639",
     "status": "completed"
    },
    "tags": []
   },
   "source": [
    "### Model 생성\n",
    "* CNN Model의 첫 layer에는 input_layer을 넣고 shape는 이미지 사이즈에 맞게 설정\n",
    "* conv 연산을 적용하고 maxpooling을 적용. maxpooling 적용 후에는 필터 개수를 증가시킴\n",
    "* maxpooling 이후 feature map 사이즈는 작아지지만 채널(깊이)은 늘어나는 형태.\n",
    "* CIFAR10의 Label수가 10개이므로 Classification을 위한 맨 마지막 Dense layer의 units 갯수는 10개임\n",
    "* label값이 원-핫 인코딩 되지 않았기 때문에 model.compile()에서 loss는 반드시 sparse_categorical_crossentropy여야함."
   ]
  },
  {
   "cell_type": "code",
   "execution_count": 11,
   "id": "bf9aafe9",
   "metadata": {
    "execution": {
     "iopub.execute_input": "2024-02-11T11:41:44.822743Z",
     "iopub.status.busy": "2024-02-11T11:41:44.822425Z",
     "iopub.status.idle": "2024-02-11T11:41:44.826247Z",
     "shell.execute_reply": "2024-02-11T11:41:44.825423Z"
    },
    "papermill": {
     "duration": 0.02676,
     "end_time": "2024-02-11T11:41:44.828104",
     "exception": false,
     "start_time": "2024-02-11T11:41:44.801344",
     "status": "completed"
    },
    "tags": []
   },
   "outputs": [],
   "source": [
    "IMAGE_SIZE = 32"
   ]
  },
  {
   "cell_type": "code",
   "execution_count": 12,
   "id": "43ef20ed",
   "metadata": {
    "execution": {
     "iopub.execute_input": "2024-02-11T11:41:44.868378Z",
     "iopub.status.busy": "2024-02-11T11:41:44.868071Z",
     "iopub.status.idle": "2024-02-11T11:41:46.184751Z",
     "shell.execute_reply": "2024-02-11T11:41:46.183750Z"
    },
    "papermill": {
     "duration": 1.351667,
     "end_time": "2024-02-11T11:41:46.199825",
     "exception": false,
     "start_time": "2024-02-11T11:41:44.848158",
     "status": "completed"
    },
    "tags": []
   },
   "outputs": [
    {
     "name": "stdout",
     "output_type": "stream",
     "text": [
      "Model: \"model\"\n",
      "_________________________________________________________________\n",
      " Layer (type)                Output Shape              Param #   \n",
      "=================================================================\n",
      " input_1 (InputLayer)        [(None, 32, 32, 3)]       0         \n",
      "                                                                 \n",
      " conv2d (Conv2D)             (None, 32, 32, 32)        896       \n",
      "                                                                 \n",
      " conv2d_1 (Conv2D)           (None, 32, 32, 32)        9248      \n",
      "                                                                 \n",
      " max_pooling2d (MaxPooling2  (None, 16, 16, 32)        0         \n",
      " D)                                                              \n",
      "                                                                 \n",
      " conv2d_2 (Conv2D)           (None, 16, 16, 64)        18496     \n",
      "                                                                 \n",
      " conv2d_3 (Conv2D)           (None, 16, 16, 64)        36928     \n",
      "                                                                 \n",
      " activation (Activation)     (None, 16, 16, 64)        0         \n",
      "                                                                 \n",
      " max_pooling2d_1 (MaxPoolin  (None, 8, 8, 64)          0         \n",
      " g2D)                                                            \n",
      "                                                                 \n",
      " conv2d_4 (Conv2D)           (None, 8, 8, 128)         73856     \n",
      "                                                                 \n",
      " conv2d_5 (Conv2D)           (None, 8, 8, 128)         147584    \n",
      "                                                                 \n",
      " max_pooling2d_2 (MaxPoolin  (None, 4, 4, 128)         0         \n",
      " g2D)                                                            \n",
      "                                                                 \n",
      " flatten (Flatten)           (None, 2048)              0         \n",
      "                                                                 \n",
      " dropout (Dropout)           (None, 2048)              0         \n",
      "                                                                 \n",
      " dense (Dense)               (None, 300)               614700    \n",
      "                                                                 \n",
      " dropout_1 (Dropout)         (None, 300)               0         \n",
      "                                                                 \n",
      " dense_1 (Dense)             (None, 10)                3010      \n",
      "                                                                 \n",
      "=================================================================\n",
      "Total params: 904718 (3.45 MB)\n",
      "Trainable params: 904718 (3.45 MB)\n",
      "Non-trainable params: 0 (0.00 Byte)\n",
      "_________________________________________________________________\n"
     ]
    }
   ],
   "source": [
    "# 이미지 자체 사이즈가 3*3으로 크지 않아서 kernel_size를 지나치게 크게 잡을 필요가 없다.\n",
    "# 초기 receptive_field 크기 설정에 대해서 정해진 법칙은 없고 돌려보면서 확인해야 한다.\n",
    "\n",
    "from tensorflow.keras.layers import Input, Dense, Conv2D, Flatten, Activation, MaxPooling2D, Dropout\n",
    "from tensorflow.keras.models import Model\n",
    "from tensorflow.keras.optimizers import Adam\n",
    "\n",
    "input_tensor = Input(shape=(IMAGE_SIZE, IMAGE_SIZE, 3))\n",
    "\n",
    "x = Conv2D(filters=32, kernel_size=3, padding='same', activation='relu')(input_tensor)\n",
    "x = Conv2D(filters=32, kernel_size=3, padding='same', activation='relu')(x)\n",
    "x = MaxPooling2D(2)(x)\n",
    "\n",
    "x = Conv2D(filters=64, kernel_size=3, padding='same', activation='relu')(x)\n",
    "x = Conv2D(filters=64, kernel_size=3, padding='same')(x)\n",
    "x = Activation('relu')(x)  # 이런식으로 conv2d와 activation을 별개로 적용할 수 있다.\n",
    "x = MaxPooling2D(2)(x)\n",
    "\n",
    "x = Conv2D(filters=128, kernel_size=3, padding='same', activation='relu')(x)\n",
    "x = Conv2D(filters=128, kernel_size=3, padding='same', activation='relu')(x)\n",
    "x = MaxPooling2D(2)(x)\n",
    "\n",
    "# cifar의 클라스가 10개니까 마지막 layer의 unit 개수는 10개\n",
    "x = Flatten()(x)\n",
    "x = Dropout(rate=0.5)(x)\n",
    "x = Dense(300, activation='relu')(x)\n",
    "x = Dropout(rate=0.3)(x)\n",
    "output = Dense(10, activation='softmax')(x)\n",
    "\n",
    "model = Model(inputs=input_tensor, outputs=output)\n",
    "\n",
    "model.summary()\n",
    "\n"
   ]
  },
  {
   "cell_type": "code",
   "execution_count": 13,
   "id": "95cfbbda",
   "metadata": {
    "execution": {
     "iopub.execute_input": "2024-02-11T11:41:46.247939Z",
     "iopub.status.busy": "2024-02-11T11:41:46.247167Z",
     "iopub.status.idle": "2024-02-11T11:41:46.264531Z",
     "shell.execute_reply": "2024-02-11T11:41:46.263819Z"
    },
    "papermill": {
     "duration": 0.043214,
     "end_time": "2024-02-11T11:41:46.266470",
     "exception": false,
     "start_time": "2024-02-11T11:41:46.223256",
     "status": "completed"
    },
    "tags": []
   },
   "outputs": [],
   "source": [
    "# optimizer는 Adam으로 설정하고 label 값이 one hot encoding이 아니니까 loss는 sparse cateorical crossentropy\n",
    "model.compile(optimizer=Adam(), loss='sparse_categorical_crossentropy', metrics=['accuracy'])"
   ]
  },
  {
   "cell_type": "markdown",
   "id": "68c1e4b9",
   "metadata": {
    "papermill": {
     "duration": 0.031845,
     "end_time": "2024-02-11T11:41:46.321008",
     "exception": false,
     "start_time": "2024-02-11T11:41:46.289163",
     "status": "completed"
    },
    "tags": []
   },
   "source": [
    "## Model 학습 수행 및 테스트 데이터로 평가\n",
    "* Model의 fit 메소드를 호출해 학습\n",
    "* fit은 학습 데이터가 np array 형태로 들어올 때랑 Generator 형태로 들어올 때 약간의 차이가 있음\n",
    "* batch_size는 한번에 가져올 image label array 개수. 수가 너무 작으면 시간이 오래 걸리고 너무 크면 gpu memory 부족이 발생할 수 있어 적절한 batch size 설정이 필요. 단, 학습 데이터가 generator인 경우 "
   ]
  },
  {
   "cell_type": "code",
   "execution_count": 14,
   "id": "2c3177b8",
   "metadata": {
    "execution": {
     "iopub.execute_input": "2024-02-11T11:41:46.402608Z",
     "iopub.status.busy": "2024-02-11T11:41:46.402021Z",
     "iopub.status.idle": "2024-02-11T11:45:11.202787Z",
     "shell.execute_reply": "2024-02-11T11:45:11.201674Z"
    },
    "papermill": {
     "duration": 204.839126,
     "end_time": "2024-02-11T11:45:11.205302",
     "exception": false,
     "start_time": "2024-02-11T11:41:46.366176",
     "status": "completed"
    },
    "tags": []
   },
   "outputs": [
    {
     "name": "stdout",
     "output_type": "stream",
     "text": [
      "Epoch 1/30\n"
     ]
    },
    {
     "name": "stderr",
     "output_type": "stream",
     "text": [
      "WARNING: All log messages before absl::InitializeLog() is called are written to STDERR\n",
      "I0000 00:00:1707651713.576695      75 device_compiler.h:186] Compiled cluster using XLA!  This line is logged at most once for the lifetime of the process.\n"
     ]
    },
    {
     "name": "stdout",
     "output_type": "stream",
     "text": [
      "665/665 [==============================] - 15s 9ms/step - loss: 1.6996 - accuracy: 0.3668 - val_loss: 1.4165 - val_accuracy: 0.4891\n",
      "Epoch 2/30\n",
      "665/665 [==============================] - 5s 7ms/step - loss: 1.2219 - accuracy: 0.5597 - val_loss: 1.0210 - val_accuracy: 0.6379\n",
      "Epoch 3/30\n",
      "665/665 [==============================] - 5s 7ms/step - loss: 1.0015 - accuracy: 0.6454 - val_loss: 0.9175 - val_accuracy: 0.6773\n",
      "Epoch 4/30\n",
      "665/665 [==============================] - 5s 7ms/step - loss: 0.8605 - accuracy: 0.6930 - val_loss: 0.7959 - val_accuracy: 0.7163\n",
      "Epoch 5/30\n",
      "665/665 [==============================] - 5s 7ms/step - loss: 0.7663 - accuracy: 0.7284 - val_loss: 0.7265 - val_accuracy: 0.7431\n",
      "Epoch 6/30\n",
      "665/665 [==============================] - 5s 7ms/step - loss: 0.6935 - accuracy: 0.7548 - val_loss: 0.6783 - val_accuracy: 0.7644\n",
      "Epoch 7/30\n",
      "665/665 [==============================] - 5s 7ms/step - loss: 0.6307 - accuracy: 0.7782 - val_loss: 0.7837 - val_accuracy: 0.7283\n",
      "Epoch 8/30\n",
      "665/665 [==============================] - 5s 7ms/step - loss: 0.5935 - accuracy: 0.7894 - val_loss: 0.7018 - val_accuracy: 0.7616\n",
      "Epoch 9/30\n",
      "665/665 [==============================] - 5s 7ms/step - loss: 0.5528 - accuracy: 0.8051 - val_loss: 0.6286 - val_accuracy: 0.7899\n",
      "Epoch 10/30\n",
      "665/665 [==============================] - 5s 7ms/step - loss: 0.5090 - accuracy: 0.8196 - val_loss: 0.6441 - val_accuracy: 0.7804\n",
      "Epoch 11/30\n",
      "665/665 [==============================] - 5s 7ms/step - loss: 0.4825 - accuracy: 0.8315 - val_loss: 0.6283 - val_accuracy: 0.7843\n",
      "Epoch 12/30\n",
      "665/665 [==============================] - 5s 7ms/step - loss: 0.4568 - accuracy: 0.8369 - val_loss: 0.6018 - val_accuracy: 0.7955\n",
      "Epoch 13/30\n",
      "665/665 [==============================] - 5s 7ms/step - loss: 0.4272 - accuracy: 0.8503 - val_loss: 0.6631 - val_accuracy: 0.7885\n",
      "Epoch 14/30\n",
      "665/665 [==============================] - 5s 7ms/step - loss: 0.4206 - accuracy: 0.8520 - val_loss: 0.6117 - val_accuracy: 0.7951\n",
      "Epoch 15/30\n",
      "665/665 [==============================] - 5s 7ms/step - loss: 0.3993 - accuracy: 0.8586 - val_loss: 0.5898 - val_accuracy: 0.8071\n",
      "Epoch 16/30\n",
      "665/665 [==============================] - 5s 7ms/step - loss: 0.3709 - accuracy: 0.8686 - val_loss: 0.6274 - val_accuracy: 0.7957\n",
      "Epoch 17/30\n",
      "665/665 [==============================] - 5s 7ms/step - loss: 0.3692 - accuracy: 0.8692 - val_loss: 0.6195 - val_accuracy: 0.7951\n",
      "Epoch 18/30\n",
      "665/665 [==============================] - 5s 8ms/step - loss: 0.3494 - accuracy: 0.8764 - val_loss: 0.6512 - val_accuracy: 0.7923\n",
      "Epoch 19/30\n",
      "665/665 [==============================] - 5s 7ms/step - loss: 0.3334 - accuracy: 0.8816 - val_loss: 0.6144 - val_accuracy: 0.8065\n",
      "Epoch 20/30\n",
      "665/665 [==============================] - 5s 7ms/step - loss: 0.3210 - accuracy: 0.8860 - val_loss: 0.6514 - val_accuracy: 0.7983\n",
      "Epoch 21/30\n",
      "665/665 [==============================] - 5s 7ms/step - loss: 0.3130 - accuracy: 0.8891 - val_loss: 0.6144 - val_accuracy: 0.8047\n",
      "Epoch 22/30\n",
      "665/665 [==============================] - 5s 7ms/step - loss: 0.3077 - accuracy: 0.8919 - val_loss: 0.6380 - val_accuracy: 0.7976\n",
      "Epoch 23/30\n",
      "665/665 [==============================] - 5s 7ms/step - loss: 0.2930 - accuracy: 0.8969 - val_loss: 0.6498 - val_accuracy: 0.7991\n",
      "Epoch 24/30\n",
      "665/665 [==============================] - 5s 7ms/step - loss: 0.2950 - accuracy: 0.8961 - val_loss: 0.6071 - val_accuracy: 0.8105\n",
      "Epoch 25/30\n",
      "665/665 [==============================] - 5s 7ms/step - loss: 0.2842 - accuracy: 0.9009 - val_loss: 0.6306 - val_accuracy: 0.8041\n",
      "Epoch 26/30\n",
      "665/665 [==============================] - 5s 7ms/step - loss: 0.2763 - accuracy: 0.9015 - val_loss: 0.6213 - val_accuracy: 0.8053\n",
      "Epoch 27/30\n",
      "665/665 [==============================] - 5s 7ms/step - loss: 0.2738 - accuracy: 0.9036 - val_loss: 0.6411 - val_accuracy: 0.8051\n",
      "Epoch 28/30\n",
      "665/665 [==============================] - 5s 7ms/step - loss: 0.2590 - accuracy: 0.9093 - val_loss: 0.6928 - val_accuracy: 0.7988\n",
      "Epoch 29/30\n",
      "665/665 [==============================] - 5s 7ms/step - loss: 0.2754 - accuracy: 0.9039 - val_loss: 0.6508 - val_accuracy: 0.8100\n",
      "Epoch 30/30\n",
      "665/665 [==============================] - 5s 7ms/step - loss: 0.2556 - accuracy: 0.9119 - val_loss: 0.6980 - val_accuracy: 0.7943\n"
     ]
    }
   ],
   "source": [
    "model_fit = model.fit(x=train_images, y = train_labels, batch_size=64, epochs=30, validation_split=0.15)"
   ]
  },
  {
   "cell_type": "code",
   "execution_count": 15,
   "id": "d58131c7",
   "metadata": {
    "execution": {
     "iopub.execute_input": "2024-02-11T11:45:11.674943Z",
     "iopub.status.busy": "2024-02-11T11:45:11.674608Z",
     "iopub.status.idle": "2024-02-11T11:45:11.682427Z",
     "shell.execute_reply": "2024-02-11T11:45:11.681483Z"
    },
    "papermill": {
     "duration": 0.247649,
     "end_time": "2024-02-11T11:45:11.684401",
     "exception": false,
     "start_time": "2024-02-11T11:45:11.436752",
     "status": "completed"
    },
    "tags": []
   },
   "outputs": [
    {
     "data": {
      "text/plain": [
       "{'loss': [1.6996448040008545,\n",
       "  1.2218893766403198,\n",
       "  1.0015435218811035,\n",
       "  0.8605448603630066,\n",
       "  0.7663147449493408,\n",
       "  0.6934975981712341,\n",
       "  0.6307488679885864,\n",
       "  0.5935016870498657,\n",
       "  0.5527864694595337,\n",
       "  0.5089660882949829,\n",
       "  0.4825354218482971,\n",
       "  0.45680540800094604,\n",
       "  0.42724645137786865,\n",
       "  0.4206429123878479,\n",
       "  0.39925146102905273,\n",
       "  0.37091466784477234,\n",
       "  0.36924123764038086,\n",
       "  0.34942424297332764,\n",
       "  0.33339712023735046,\n",
       "  0.32099461555480957,\n",
       "  0.3130233585834503,\n",
       "  0.30767935514450073,\n",
       "  0.29295846819877625,\n",
       "  0.2949507236480713,\n",
       "  0.28416165709495544,\n",
       "  0.27633920311927795,\n",
       "  0.2737971842288971,\n",
       "  0.25897324085235596,\n",
       "  0.27540943026542664,\n",
       "  0.2556286156177521],\n",
       " 'accuracy': [0.366752952337265,\n",
       "  0.5597176551818848,\n",
       "  0.6454117894172668,\n",
       "  0.6929882168769836,\n",
       "  0.7283764481544495,\n",
       "  0.754800021648407,\n",
       "  0.7782353162765503,\n",
       "  0.7894352674484253,\n",
       "  0.805082380771637,\n",
       "  0.8196470737457275,\n",
       "  0.8314823508262634,\n",
       "  0.8368706107139587,\n",
       "  0.8502588272094727,\n",
       "  0.8519999980926514,\n",
       "  0.8586353063583374,\n",
       "  0.8685647249221802,\n",
       "  0.8692470788955688,\n",
       "  0.8763999938964844,\n",
       "  0.881600022315979,\n",
       "  0.8859529495239258,\n",
       "  0.8891058564186096,\n",
       "  0.8918588161468506,\n",
       "  0.896894097328186,\n",
       "  0.896117627620697,\n",
       "  0.9008941054344177,\n",
       "  0.9015058875083923,\n",
       "  0.9035764932632446,\n",
       "  0.9092941284179688,\n",
       "  0.9038588404655457,\n",
       "  0.9119294285774231],\n",
       " 'val_loss': [1.4164506196975708,\n",
       "  1.0210044384002686,\n",
       "  0.9174597859382629,\n",
       "  0.7959362864494324,\n",
       "  0.7264909148216248,\n",
       "  0.6783353090286255,\n",
       "  0.7837418913841248,\n",
       "  0.7017753720283508,\n",
       "  0.6286121010780334,\n",
       "  0.6441266536712646,\n",
       "  0.6283416748046875,\n",
       "  0.6018468737602234,\n",
       "  0.6631065011024475,\n",
       "  0.6116573810577393,\n",
       "  0.5898301005363464,\n",
       "  0.6273891925811768,\n",
       "  0.6195439696311951,\n",
       "  0.6511667966842651,\n",
       "  0.6143946051597595,\n",
       "  0.6514402627944946,\n",
       "  0.6144056916236877,\n",
       "  0.6379675269126892,\n",
       "  0.6497987508773804,\n",
       "  0.6070921421051025,\n",
       "  0.630601704120636,\n",
       "  0.6213130950927734,\n",
       "  0.6410800814628601,\n",
       "  0.6927647590637207,\n",
       "  0.6508070230484009,\n",
       "  0.6979780197143555],\n",
       " 'val_accuracy': [0.4890666604042053,\n",
       "  0.6378666758537292,\n",
       "  0.6773333549499512,\n",
       "  0.7162666916847229,\n",
       "  0.743066668510437,\n",
       "  0.7644000053405762,\n",
       "  0.7282666563987732,\n",
       "  0.7616000175476074,\n",
       "  0.7898666858673096,\n",
       "  0.7803999781608582,\n",
       "  0.7842666506767273,\n",
       "  0.7954666614532471,\n",
       "  0.7885333299636841,\n",
       "  0.7950666546821594,\n",
       "  0.8070666790008545,\n",
       "  0.7957333326339722,\n",
       "  0.7950666546821594,\n",
       "  0.7922666668891907,\n",
       "  0.8065333366394043,\n",
       "  0.7982666492462158,\n",
       "  0.8046666383743286,\n",
       "  0.7975999712944031,\n",
       "  0.7990666627883911,\n",
       "  0.810533344745636,\n",
       "  0.8041333556175232,\n",
       "  0.8053333163261414,\n",
       "  0.8050666451454163,\n",
       "  0.798799991607666,\n",
       "  0.8100000023841858,\n",
       "  0.7942666411399841]}"
      ]
     },
     "execution_count": 15,
     "metadata": {},
     "output_type": "execute_result"
    }
   ],
   "source": [
    "model_fit.history"
   ]
  },
  {
   "cell_type": "code",
   "execution_count": 16,
   "id": "df041f06",
   "metadata": {
    "execution": {
     "iopub.execute_input": "2024-02-11T11:45:12.142901Z",
     "iopub.status.busy": "2024-02-11T11:45:12.142549Z",
     "iopub.status.idle": "2024-02-11T11:45:14.251160Z",
     "shell.execute_reply": "2024-02-11T11:45:14.250316Z"
    },
    "papermill": {
     "duration": 2.339212,
     "end_time": "2024-02-11T11:45:14.253206",
     "exception": false,
     "start_time": "2024-02-11T11:45:11.913994",
     "status": "completed"
    },
    "tags": []
   },
   "outputs": [
    {
     "name": "stdout",
     "output_type": "stream",
     "text": [
      "313/313 [==============================] - 1s 3ms/step - loss: 0.7499 - accuracy: 0.7878\n"
     ]
    },
    {
     "data": {
      "text/plain": [
       "[0.7498961091041565, 0.7878000140190125]"
      ]
     },
     "execution_count": 16,
     "metadata": {},
     "output_type": "execute_result"
    },
    {
     "data": {
      "image/png": "[encoded data removed]",
      "text/plain": [
       "<Figure size 600x600 with 1 Axes>"
      ]
     },
     "metadata": {},
     "output_type": "display_data"
    }
   ],
   "source": [
    "# 결과를 보면 알겠지만 오버피팅의 경향을 보이고 있음\n",
    "\n",
    "import matplotlib.pyplot as plt\n",
    "%matplotlib inline\n",
    "\n",
    "def show_history(history):\n",
    "    plt.figure(figsize=(6,6))\n",
    "    plt.yticks(np.arange(0,1, 0.05))\n",
    "    plt.plot(model_fit.history['accuracy'], label='train')\n",
    "    plt.plot(model_fit.history['val_accuracy'], label='valid')\n",
    "    plt.legend()\n",
    "\n",
    "show_history(model_fit)\n",
    "\n",
    "model.evaluate(test_images, test_labels)"
   ]
  },
  {
   "cell_type": "markdown",
   "id": "9fbece35",
   "metadata": {
    "papermill": {
     "duration": 0.229343,
     "end_time": "2024-02-11T11:45:14.715318",
     "exception": false,
     "start_time": "2024-02-11T11:45:14.485975",
     "status": "completed"
    },
    "tags": []
   },
   "source": [
    "### model.predict()를 통해 이미지 분류 예측\n",
    "* 4차원 이미지 배열을 입력해서 모델학습을 하는 경우, predict시에도 4차원 이미지 배열을 입력해야 한다.\n",
    "* 학습 데이터의 원-핫 인코딩 적용 여부와 관계없이 softmax 적용 결과는 무조건 2차원이 나오므로 이에 유의하자."
   ]
  },
  {
   "cell_type": "code",
   "execution_count": 17,
   "id": "e994f00a",
   "metadata": {
    "execution": {
     "iopub.execute_input": "2024-02-11T11:45:15.204680Z",
     "iopub.status.busy": "2024-02-11T11:45:15.204328Z",
     "iopub.status.idle": "2024-02-11T11:45:15.210486Z",
     "shell.execute_reply": "2024-02-11T11:45:15.209499Z"
    },
    "papermill": {
     "duration": 0.264349,
     "end_time": "2024-02-11T11:45:15.212491",
     "exception": false,
     "start_time": "2024-02-11T11:45:14.948142",
     "status": "completed"
    },
    "tags": []
   },
   "outputs": [
    {
     "data": {
      "text/plain": [
       "(32, 32, 3)"
      ]
     },
     "execution_count": 17,
     "metadata": {},
     "output_type": "execute_result"
    }
   ],
   "source": [
    "# 아래 코드는 Conv2D를 사용한 모델에 4차원 이미지 배열을 입력해야 하는데 3차원 이미지 배열을 넣어서 오류 발생\n",
    "# 개별 이미지를 사용하는 경우 3차원 데이터가 model에 입력되므로 오류 발생\n",
    "\n",
    "test_images[0].shape  # 3차원 배열\n",
    "\n",
    "# preds = model.predict(test_images[0])"
   ]
  },
  {
   "cell_type": "code",
   "execution_count": 18,
   "id": "2a2e3a51",
   "metadata": {
    "execution": {
     "iopub.execute_input": "2024-02-11T11:45:15.739352Z",
     "iopub.status.busy": "2024-02-11T11:45:15.738613Z",
     "iopub.status.idle": "2024-02-11T11:45:16.534238Z",
     "shell.execute_reply": "2024-02-11T11:45:16.533103Z"
    },
    "papermill": {
     "duration": 1.091296,
     "end_time": "2024-02-11T11:45:16.536307",
     "exception": false,
     "start_time": "2024-02-11T11:45:15.445011",
     "status": "completed"
    },
    "tags": []
   },
   "outputs": [
    {
     "name": "stdout",
     "output_type": "stream",
     "text": [
      "1/1 [==============================] - 1s 607ms/step\n",
      "예측 결과 shape (1, 10)\n",
      "예측 결과 [[8.2880242e-06 2.3865106e-05 3.0975477e-03 4.8053971e-01 5.3890280e-06\n",
      "  4.5443249e-01 4.6934844e-03 1.9285116e-04 5.6996591e-02 9.8041628e-06]]\n"
     ]
    }
   ],
   "source": [
    "# 테스트용 4차원 이미지 배열을 입력해서 predict 수행\n",
    "# predict의 결과는 softmax 적용 결과다 \n",
    "# 이는 학습 데이터의 원-핫 인코딩 적용 여부와 관계없이 softmax 적용 결과는 무조건 2차원이다.\n",
    "\n",
    "preds = model.predict(np.expand_dims(test_images[0], axis=0))\n",
    "print('예측 결과 shape', preds.shape)\n",
    "print('예측 결과', preds)"
   ]
  },
  {
   "cell_type": "code",
   "execution_count": 19,
   "id": "26eba0f9",
   "metadata": {
    "execution": {
     "iopub.execute_input": "2024-02-11T11:45:17.007138Z",
     "iopub.status.busy": "2024-02-11T11:45:17.006418Z",
     "iopub.status.idle": "2024-02-11T11:45:17.076309Z",
     "shell.execute_reply": "2024-02-11T11:45:17.075223Z"
    },
    "papermill": {
     "duration": 0.309626,
     "end_time": "2024-02-11T11:45:17.078572",
     "exception": false,
     "start_time": "2024-02-11T11:45:16.768946",
     "status": "completed"
    },
    "tags": []
   },
   "outputs": [
    {
     "name": "stdout",
     "output_type": "stream",
     "text": [
      "(16, 32, 32, 3)\n",
      "1/1 [==============================] - 0s 19ms/step\n",
      "(32, 10)\n",
      "[[8.28794236e-06 2.38648718e-05 3.09754396e-03 4.80538666e-01\n",
      "  5.38902168e-06 4.54433024e-01 4.69347043e-03 1.92849475e-04\n",
      "  5.69970533e-02 9.80406730e-06]\n",
      " [1.92737289e-07 9.12294781e-05 1.80550460e-14 1.08916130e-14\n",
      "  3.24638550e-18 7.06521596e-18 3.13301118e-15 1.04977802e-18\n",
      "  9.99908566e-01 4.10299137e-08]\n",
      " [1.40129887e-02 5.57148457e-02 4.18521371e-03 3.06581378e-01\n",
      "  8.11351463e-04 4.13411157e-03 1.96035560e-02 1.31891924e-03\n",
      "  5.54012299e-01 3.96253020e-02]\n",
      " [9.41847920e-01 1.61319658e-05 1.93053653e-04 2.33130140e-05\n",
      "  7.35748316e-08 1.31246281e-09 2.17561369e-09 6.59648602e-09\n",
      "  5.78579940e-02 6.15090103e-05]\n",
      " [3.99575872e-10 4.95553643e-08 3.35141714e-03 1.00211633e-04\n",
      "  7.71796505e-04 1.10539018e-08 9.95776474e-01 1.71794801e-10\n",
      "  1.85518767e-09 1.12379550e-09]\n",
      " [6.69886276e-07 8.26987616e-07 4.28833970e-04 1.42968930e-02\n",
      "  1.10948668e-03 3.58540029e-03 9.80550647e-01 4.11889278e-06\n",
      "  9.50431058e-07 2.21999035e-05]\n",
      " [2.45153578e-03 8.96486580e-01 1.57768605e-04 6.05472224e-03\n",
      "  1.00114448e-05 1.75439200e-04 1.58629467e-04 1.44917658e-03\n",
      "  6.85867053e-05 9.29874256e-02]\n",
      " [1.44186720e-06 1.65677122e-07 3.48690408e-03 5.73152117e-02\n",
      "  5.47445379e-02 4.09374200e-03 8.78363371e-01 1.96309015e-03\n",
      "  1.14062391e-06 3.03752586e-05]\n",
      " [2.79848367e-10 1.06045121e-11 2.18953319e-05 9.68464077e-01\n",
      "  4.29153303e-03 2.71522198e-02 6.60004298e-05 4.29545298e-06\n",
      "  1.31656119e-09 6.80253687e-10]\n",
      " [1.63137578e-04 8.89694214e-01 2.02765412e-04 3.65649248e-05\n",
      "  4.15399791e-06 4.51038613e-06 1.78357863e-04 6.31064722e-06\n",
      "  2.23578289e-02 8.73521417e-02]\n",
      " [7.20641911e-01 6.46890658e-06 3.95778306e-02 1.40943259e-01\n",
      "  5.96523210e-02 1.32571720e-02 1.58550590e-03 4.54711914e-03\n",
      "  1.96631793e-02 1.25306979e-04]\n",
      " [4.30730846e-20 4.63702915e-13 3.66901942e-27 2.41326942e-28\n",
      "  2.80786339e-32 1.05922969e-28 1.32329988e-30 5.04774196e-25\n",
      "  2.81880715e-19 1.00000000e+00]\n",
      " [5.84795465e-08 2.38262359e-07 4.78827831e-04 2.97298223e-01\n",
      "  3.97576280e-02 4.24753159e-01 1.49295176e-03 2.36206219e-01\n",
      "  8.79316815e-07 1.17953050e-05]\n",
      " [4.73333490e-11 1.55230856e-10 2.03964046e-08 3.09610368e-06\n",
      "  5.81835275e-06 5.08337573e-04 4.23609509e-10 9.99482751e-01\n",
      "  2.01381134e-11 3.65900377e-08]\n",
      " [5.08800987e-18 4.68631373e-13 1.34825900e-20 2.53182048e-25\n",
      "  1.41412311e-27 5.53800200e-26 3.84590645e-27 3.65321914e-22\n",
      "  1.61824427e-16 1.00000000e+00]\n",
      " [8.76017194e-03 1.33809738e-06 3.21029016e-04 1.54874906e-05\n",
      "  2.67943815e-05 2.88895507e-07 4.69742855e-03 9.73161178e-08\n",
      "  9.86173391e-01 3.96282212e-06]\n",
      " [1.56497298e-12 2.84351061e-14 1.26869315e-09 3.17779835e-04\n",
      "  3.28463320e-12 9.99682188e-01 1.10304585e-10 1.35887313e-09\n",
      "  9.32212478e-14 4.48721972e-14]\n",
      " [9.59855242e-06 1.00006659e-07 2.13553460e-04 5.63113272e-01\n",
      "  1.15902163e-03 9.45816282e-03 1.01436093e-03 4.24652398e-01\n",
      "  2.53635085e-06 3.77023680e-04]\n",
      " [4.73854879e-11 9.12757109e-12 1.00309464e-15 2.19193831e-15\n",
      "  7.22159177e-19 1.86531726e-17 5.49495642e-15 8.13058489e-18\n",
      "  1.00000000e+00 1.30590955e-10]\n",
      " [2.70241642e-12 9.07639319e-16 2.39116707e-06 7.13096853e-08\n",
      "  9.20891125e-07 8.37644364e-12 9.99996543e-01 3.48297407e-16\n",
      "  2.21394050e-14 2.48000394e-16]\n",
      " [6.22485159e-03 2.18954985e-03 3.13892099e-03 3.43235433e-02\n",
      "  3.61910765e-03 2.28197351e-02 1.17770905e-04 7.26073682e-01\n",
      "  2.30640537e-04 2.01262221e-01]\n",
      " [9.98856425e-01 3.56689851e-11 1.14314142e-03 4.82034181e-07\n",
      "  1.84430651e-10 1.10789111e-09 1.76217634e-11 8.29542530e-14\n",
      "  7.14647924e-11 5.36243662e-12]\n",
      " [1.73397157e-02 7.51041227e-07 6.99222786e-03 4.71831649e-04\n",
      "  9.74715590e-01 1.22355981e-04 2.72044039e-04 4.24895688e-06\n",
      "  7.84316653e-05 2.79951155e-06]\n",
      " [3.45085586e-19 2.13046036e-07 5.84968382e-30 1.96306964e-25\n",
      "  1.55377406e-34 2.49025438e-28 1.77145553e-27 1.93740906e-27\n",
      "  3.37965021e-17 9.99999762e-01]\n",
      " [3.76768321e-12 1.14977661e-18 6.03550745e-07 2.11273345e-06\n",
      "  9.99997020e-01 2.01688934e-07 5.66886982e-08 9.93735996e-12\n",
      "  2.05287075e-15 1.13558139e-15]\n",
      " [1.24767512e-01 1.71594799e-03 4.94861096e-01 3.63496654e-02\n",
      "  7.77612552e-02 1.61525667e-01 7.53829181e-02 7.72181386e-03\n",
      "  1.79565642e-02 1.95759791e-03]\n",
      " [7.19454590e-07 1.21361077e-09 7.70487726e-01 1.79429039e-01\n",
      "  2.31129676e-03 2.23604385e-02 1.49262323e-05 2.53659710e-02\n",
      "  2.98271225e-05 1.10169214e-10]\n",
      " [7.62732208e-01 1.12611029e-04 8.05917084e-02 4.52281311e-02\n",
      "  2.20387895e-02 2.37875804e-03 6.09795675e-02 1.71004457e-03\n",
      "  2.33202577e-02 9.07847949e-04]\n",
      " [3.98607547e-08 4.28890286e-04 4.91724165e-07 5.85864927e-06\n",
      "  6.02271299e-09 1.85266444e-07 1.09083462e-08 4.78813092e-07\n",
      "  2.97091365e-08 9.99563992e-01]\n",
      " [2.99240071e-07 2.80066947e-09 6.32958347e-03 2.42491533e-05\n",
      "  3.31322284e-04 2.33276132e-05 9.93291259e-01 5.05584685e-09\n",
      "  4.99089325e-10 5.90494209e-10]\n",
      " [2.66339175e-05 2.18301147e-06 1.24906711e-02 1.67192344e-03\n",
      "  8.16433982e-04 1.92492080e-05 9.84967053e-01 4.72512511e-07\n",
      "  2.02410911e-06 3.31935303e-06]\n",
      " [3.05721052e-12 2.91174474e-13 5.13424784e-05 2.91685970e-03\n",
      "  3.80085112e-06 9.96995807e-01 2.90045718e-05 3.14575595e-06\n",
      "  1.78692196e-12 4.63264531e-11]]\n"
     ]
    }
   ],
   "source": [
    "print(test_images[:16].shape) # (16, 32, 32, 3)\n",
    "\n",
    "preds = model.predict(test_images[:32], batch_size=32)\n",
    "print(preds.shape)\n",
    "print(preds)"
   ]
  },
  {
   "cell_type": "code",
   "execution_count": 20,
   "id": "a483d8ca",
   "metadata": {
    "execution": {
     "iopub.execute_input": "2024-02-11T11:45:17.547597Z",
     "iopub.status.busy": "2024-02-11T11:45:17.546801Z",
     "iopub.status.idle": "2024-02-11T11:45:17.554373Z",
     "shell.execute_reply": "2024-02-11T11:45:17.553329Z"
    },
    "papermill": {
     "duration": 0.245304,
     "end_time": "2024-02-11T11:45:17.556160",
     "exception": false,
     "start_time": "2024-02-11T11:45:17.310856",
     "status": "completed"
    },
    "tags": []
   },
   "outputs": [
    {
     "name": "stdout",
     "output_type": "stream",
     "text": [
      "예측 클래스 값 [3 8 8 0 6 6 1 6 3 1 0 9 5 7 9 8 5 3 8 6 7 0 4 9 4 2 2 0 9 6 6 5]\n"
     ]
    }
   ],
   "source": [
    "predicted_class = np.argmax(preds, axis=1)\n",
    "print('예측 클래스 값',predicted_class)"
   ]
  },
  {
   "cell_type": "code",
   "execution_count": 21,
   "id": "aae07e1d",
   "metadata": {
    "execution": {
     "iopub.execute_input": "2024-02-11T11:45:18.032802Z",
     "iopub.status.busy": "2024-02-11T11:45:18.032064Z",
     "iopub.status.idle": "2024-02-11T11:45:20.575948Z",
     "shell.execute_reply": "2024-02-11T11:45:20.575051Z"
    },
    "papermill": {
     "duration": 2.780459,
     "end_time": "2024-02-11T11:45:20.578219",
     "exception": false,
     "start_time": "2024-02-11T11:45:17.797760",
     "status": "completed"
    },
    "tags": []
   },
   "outputs": [
    {
     "data": {
      "image/png": "[encoded data removed]",
      "text/plain": [
       "<Figure size 2200x600 with 8 Axes>"
      ]
     },
     "metadata": {},
     "output_type": "display_data"
    },
    {
     "data": {
      "image/png": "[encoded data removed]",
      "text/plain": [
       "<Figure size 2200x600 with 8 Axes>"
      ]
     },
     "metadata": {},
     "output_type": "display_data"
    }
   ],
   "source": [
    "show_images(test_images[:8], predicted_class[:8], ncols=8)\n",
    "show_images(test_images[:8], test_labels[:8], ncols=8)"
   ]
  },
  {
   "cell_type": "markdown",
   "id": "66c383a3",
   "metadata": {
    "papermill": {
     "duration": 0.237955,
     "end_time": "2024-02-11T11:45:21.053042",
     "exception": false,
     "start_time": "2024-02-11T11:45:20.815087",
     "status": "completed"
    },
    "tags": []
   },
   "source": [
    "## weight 초기화\n",
    "* 좋은 weight 초기화 조건은 아래와 같다.\n",
    "    1. 값이 동일하지 않다.\n",
    "    2. 충분히 작아야 한다. / 안 그러면 x1w11 + x2w12..의 연산 과정에서 값이 지나치게 커진다\n",
    "    3. 적당한 분산(혹은 표준편차)를 가져야 한다.\n",
    "* 이를 위해 시용되는 초기화 식으론 Xavier Initialization, He Initialization 등이 있다."
   ]
  },
  {
   "cell_type": "markdown",
   "id": "d0df640a",
   "metadata": {
    "papermill": {
     "duration": 0.276939,
     "end_time": "2024-02-11T11:45:21.570330",
     "exception": false,
     "start_time": "2024-02-11T11:45:21.293391",
     "status": "completed"
    },
    "tags": []
   },
   "source": [
    "### Xavier initialization / 정규분포(glorot_normal), 균일분포(glorot_uniform)\n",
    "* Xavier initialization은 주로 비선형함수(sigmoid, tanh 등)에서 효과적이다.\n",
    "* 하지만 ReLU함수에 있어선 사용 시 출력 값이 0으로 수렴하는 현상이 있어 다른 방법이 필요하다."
   ]
  },
  {
   "cell_type": "code",
   "execution_count": 22,
   "id": "81270a5e",
   "metadata": {
    "execution": {
     "iopub.execute_input": "2024-02-11T11:45:22.044648Z",
     "iopub.status.busy": "2024-02-11T11:45:22.043922Z",
     "iopub.status.idle": "2024-02-11T11:45:22.052096Z",
     "shell.execute_reply": "2024-02-11T11:45:22.050931Z"
    },
    "papermill": {
     "duration": 0.249949,
     "end_time": "2024-02-11T11:45:22.054131",
     "exception": false,
     "start_time": "2024-02-11T11:45:21.804182",
     "status": "completed"
    },
    "tags": []
   },
   "outputs": [
    {
     "name": "stdout",
     "output_type": "stream",
     "text": [
      "scale: 0.23904572186687872\n",
      "[[-0.06919739  0.36707002 -0.10998738 ... -0.04193542 -0.01667868\n",
      "   0.11310325]\n",
      " [-0.33106873 -0.08168819  0.15702418 ...  0.10383956  0.02697545\n",
      "  -0.20043788]\n",
      " [-0.18505399 -0.36003211 -0.14482995 ... -0.5041876   0.00913068\n",
      "   0.25406121]\n",
      " ...\n",
      " [ 0.16374962 -0.34336205  0.08070122 ...  0.14800316  0.19043019\n",
      "  -0.15857464]\n",
      " [-0.65475809  0.07897271  0.0289208  ... -0.35377216  0.39992246\n",
      "   0.07265323]\n",
      " [-0.3844027  -0.16095542  0.08566289 ... -0.16621559  0.11787034\n",
      "  -0.06482576]]\n",
      "weights mean: 0.0001944272012522223 std: 0.2401027056589497 sum: 1.944272012522223\n"
     ]
    }
   ],
   "source": [
    "# glorot_normal\n",
    "\n",
    "fan_in = 20\n",
    "fan_out = 15\n",
    "scale_value = np.sqrt(2/(fan_in + fan_out))\n",
    "print('scale:', scale_value)\n",
    "weights = np.random.normal(loc=0.0, scale=scale_value, size=(100,100))\n",
    "print(weights)\n",
    "print('weights mean:', weights.mean(), 'std:', weights.std(), 'sum:', weights.sum())"
   ]
  },
  {
   "cell_type": "code",
   "execution_count": 23,
   "id": "9f48ccc5",
   "metadata": {
    "execution": {
     "iopub.execute_input": "2024-02-11T11:45:22.539474Z",
     "iopub.status.busy": "2024-02-11T11:45:22.538671Z",
     "iopub.status.idle": "2024-02-11T11:45:22.546833Z",
     "shell.execute_reply": "2024-02-11T11:45:22.545868Z"
    },
    "papermill": {
     "duration": 0.254723,
     "end_time": "2024-02-11T11:45:22.549462",
     "exception": false,
     "start_time": "2024-02-11T11:45:22.294739",
     "status": "completed"
    },
    "tags": []
   },
   "outputs": [
    {
     "name": "stdout",
     "output_type": "stream",
     "text": [
      "limit: 0.5773502691896257\n",
      "[[-0.40321562 -0.10467071 -0.3479157  ...  0.26851748 -0.3691282\n",
      "  -0.02510709]\n",
      " [ 0.55344402  0.07779156 -0.49368671 ...  0.33242902  0.49301246\n",
      "   0.28919736]\n",
      " [ 0.42690842  0.19981963  0.56992606 ... -0.18885676 -0.52715662\n",
      "   0.04654065]\n",
      " ...\n",
      " [-0.03381033 -0.33225855 -0.28656369 ... -0.18087637 -0.19140941\n",
      "  -0.02336697]\n",
      " [-0.08111956 -0.44011085  0.35823992 ...  0.26558565 -0.47910582\n",
      "  -0.44777258]\n",
      " [-0.18509403  0.36177604 -0.54018961 ... -0.34420986 -0.14376803\n",
      "   0.42203459]]\n",
      "weights mean: -0.0029040611483657905 std: 0.3320304079764077 sum: -29.040611483657905\n"
     ]
    }
   ],
   "source": [
    "# glorot_uniform\n",
    "\n",
    "fan_in = 10\n",
    "fan_out = 8\n",
    "limit = np.sqrt(6/(fan_in + fan_out))\n",
    "print('limit:', limit)\n",
    "weights = np.random.uniform(-1*limit, limit, size=(100, 100))\n",
    "print(weights)\n",
    "print('weights mean:',weights.mean(), 'std:', weights.std(), 'sum:', weights.sum())"
   ]
  },
  {
   "cell_type": "markdown",
   "id": "4ce8590d",
   "metadata": {
    "papermill": {
     "duration": 0.235242,
     "end_time": "2024-02-11T11:45:23.024037",
     "exception": false,
     "start_time": "2024-02-11T11:45:22.788795",
     "status": "completed"
    },
    "tags": []
   },
   "source": [
    "### He initialization - 정규분포(he_normal), 균일분포(he_uniform)\n",
    "* He initialization의 경우 ReLu 함수 사용 시 weights를 초기화에 적합하다."
   ]
  },
  {
   "cell_type": "code",
   "execution_count": 24,
   "id": "62885b4f",
   "metadata": {
    "execution": {
     "iopub.execute_input": "2024-02-11T11:45:23.494865Z",
     "iopub.status.busy": "2024-02-11T11:45:23.494483Z",
     "iopub.status.idle": "2024-02-11T11:45:23.502121Z",
     "shell.execute_reply": "2024-02-11T11:45:23.501120Z"
    },
    "papermill": {
     "duration": 0.246396,
     "end_time": "2024-02-11T11:45:23.504827",
     "exception": false,
     "start_time": "2024-02-11T11:45:23.258431",
     "status": "completed"
    },
    "tags": []
   },
   "outputs": [
    {
     "name": "stdout",
     "output_type": "stream",
     "text": [
      "scale: 0.4472135954999579\n",
      "[[ 0.40707487  0.05691167  0.65653097 ... -1.19814272  0.03582729\n",
      "  -0.02081572]\n",
      " [ 0.17653638  0.64578259 -0.12416023 ...  0.33381882 -0.39980104\n",
      "  -0.3072784 ]\n",
      " [-0.11472883  0.53138808 -0.25410245 ... -0.6379534  -0.16829008\n",
      "   0.54562428]\n",
      " ...\n",
      " [-0.50098348 -0.21813389  0.65969812 ... -0.24067931 -0.85606019\n",
      "   0.44807401]\n",
      " [ 0.27357723 -0.53898115  0.83493827 ...  0.08001409 -0.03956233\n",
      "  -0.44938959]\n",
      " [-0.15291784 -0.59446709 -0.37863487 ...  0.11078869  0.31160872\n",
      "  -0.02176771]]\n",
      "weights mean: -0.00026000744815153214 std: 0.4474482986995441 sum: -2.600074481515321\n"
     ]
    }
   ],
   "source": [
    "fan_in = 10\n",
    "fan_out = 8\n",
    "scale_value = np.sqrt(2/(fan_in))\n",
    "print('scale:', scale_value)\n",
    "weights = np.random.normal(loc=0.0, scale=scale_value, size=(100, 100))\n",
    "print(weights)\n",
    "print('weights mean:',weights.mean(), 'std:', weights.std(), 'sum:', weights.sum())"
   ]
  },
  {
   "cell_type": "code",
   "execution_count": 25,
   "id": "fe86446f",
   "metadata": {
    "execution": {
     "iopub.execute_input": "2024-02-11T11:45:23.988136Z",
     "iopub.status.busy": "2024-02-11T11:45:23.987526Z",
     "iopub.status.idle": "2024-02-11T11:45:23.995213Z",
     "shell.execute_reply": "2024-02-11T11:45:23.994325Z"
    },
    "papermill": {
     "duration": 0.246181,
     "end_time": "2024-02-11T11:45:23.997759",
     "exception": false,
     "start_time": "2024-02-11T11:45:23.751578",
     "status": "completed"
    },
    "tags": []
   },
   "outputs": [
    {
     "name": "stdout",
     "output_type": "stream",
     "text": [
      "limit: 0.7745966692414834\n",
      "[[ 0.75247984  0.63929234  0.22434653 ... -0.42696613  0.6897765\n",
      "   0.76653365]\n",
      " [ 0.56302351 -0.19655072  0.65056188 ... -0.2529411  -0.33844929\n",
      "  -0.58336689]\n",
      " [-0.39908593  0.27867026  0.35665048 ...  0.080006    0.51101697\n",
      "  -0.14135332]\n",
      " ...\n",
      " [-0.53357157 -0.53324795 -0.38736036 ...  0.03914204  0.64838103\n",
      "   0.44595893]\n",
      " [ 0.76090698  0.27780651  0.06745229 ...  0.47130553  0.38587792\n",
      "  -0.55796604]\n",
      " [-0.50330468  0.54910451 -0.18885652 ... -0.00405555  0.03803904\n",
      "  -0.45701261]]\n",
      "weights mean: -0.0001169448892562226 std: 0.44808045420277665 sum: -1.169448892562226\n"
     ]
    }
   ],
   "source": [
    "fan_in = 10\n",
    "fan_out = 8\n",
    "limit = np.sqrt(6/(fan_in))\n",
    "print('limit:', limit)\n",
    "weights = np.random.uniform(-1*limit, limit, size=(100,100))\n",
    "print(weights)\n",
    "print('weights mean:', weights.mean(),'std:', weights.std(), 'sum:', weights.sum())"
   ]
  },
  {
   "cell_type": "markdown",
   "id": "5a24040f",
   "metadata": {
    "papermill": {
     "duration": 0.27752,
     "end_time": "2024-02-11T11:45:24.535120",
     "exception": false,
     "start_time": "2024-02-11T11:45:24.257600",
     "status": "completed"
    },
    "tags": []
   },
   "source": [
    "### weight 초기화를 He Normal로 변경 후 테스트\n",
    "* keras conv2d의 기본 weights 초기화는 glorot_uniform인데, 이를 he_normal로 변경 후 동일 모델로 성능 검증\n",
    "* label의 경우 one hot encoding 적용"
   ]
  },
  {
   "cell_type": "code",
   "execution_count": 26,
   "id": "413d310f",
   "metadata": {
    "execution": {
     "iopub.execute_input": "2024-02-11T11:45:25.020095Z",
     "iopub.status.busy": "2024-02-11T11:45:25.019688Z",
     "iopub.status.idle": "2024-02-11T11:45:26.638012Z",
     "shell.execute_reply": "2024-02-11T11:45:26.637032Z"
    },
    "papermill": {
     "duration": 1.871697,
     "end_time": "2024-02-11T11:45:26.640543",
     "exception": false,
     "start_time": "2024-02-11T11:45:24.768846",
     "status": "completed"
    },
    "tags": []
   },
   "outputs": [
    {
     "name": "stdout",
     "output_type": "stream",
     "text": [
      "(50000, 32, 32, 3) (50000, 10) (10000, 32, 32, 3) (10000, 10)\n"
     ]
    }
   ],
   "source": [
    "from tensorflow.keras.datasets import cifar10\n",
    "from tensorflow.keras.utils import to_categorical\n",
    "\n",
    "def get_preprocessed_data(images, labels):\n",
    "    \n",
    "    # 학습과 테스트 이미지 array를 0~1 사잇값으로 scale 및 float32로 타입 변환\n",
    "    images = np.array(images/255.0, dtype=np.float32)\n",
    "    labels = np.array(labels, dtype=np.float32)\n",
    "    labels = labels.squeeze()\n",
    "    \n",
    "    return images, labels\n",
    "\n",
    "def get_preprocessed_ohe(images, labels):\n",
    "    images, labels = get_preprocessed_data(images, labels)\n",
    "    # ohe 적용\n",
    "    oh_labels = to_categorical(labels)\n",
    "    \n",
    "    return images, oh_labels\n",
    "\n",
    "(train_images, train_labels), (test_images, test_labels) = cifar10.load_data()\n",
    "\n",
    "train_images, train_oh_labels = get_preprocessed_ohe(train_images, train_labels)\n",
    "test_images, test_oh_labels = get_preprocessed_ohe(test_images, test_labels)\n",
    "print(train_images.shape, train_oh_labels.shape, test_images.shape, test_oh_labels.shape)"
   ]
  },
  {
   "cell_type": "code",
   "execution_count": 27,
   "id": "e25e2f47",
   "metadata": {
    "execution": {
     "iopub.execute_input": "2024-02-11T11:45:27.127671Z",
     "iopub.status.busy": "2024-02-11T11:45:27.127294Z",
     "iopub.status.idle": "2024-02-11T11:45:27.131842Z",
     "shell.execute_reply": "2024-02-11T11:45:27.130812Z"
    },
    "papermill": {
     "duration": 0.246624,
     "end_time": "2024-02-11T11:45:27.133824",
     "exception": false,
     "start_time": "2024-02-11T11:45:26.887200",
     "status": "completed"
    },
    "tags": []
   },
   "outputs": [],
   "source": [
    "IMAGE_SIZE=32"
   ]
  },
  {
   "cell_type": "code",
   "execution_count": 28,
   "id": "246ef00d",
   "metadata": {
    "execution": {
     "iopub.execute_input": "2024-02-11T11:45:27.610141Z",
     "iopub.status.busy": "2024-02-11T11:45:27.609123Z",
     "iopub.status.idle": "2024-02-11T11:45:27.781931Z",
     "shell.execute_reply": "2024-02-11T11:45:27.780665Z"
    },
    "papermill": {
     "duration": 0.428009,
     "end_time": "2024-02-11T11:45:27.798236",
     "exception": false,
     "start_time": "2024-02-11T11:45:27.370227",
     "status": "completed"
    },
    "tags": []
   },
   "outputs": [
    {
     "name": "stdout",
     "output_type": "stream",
     "text": [
      "Model: \"model_1\"\n",
      "_________________________________________________________________\n",
      " Layer (type)                Output Shape              Param #   \n",
      "=================================================================\n",
      " input_2 (InputLayer)        [(None, 32, 32, 3)]       0         \n",
      "                                                                 \n",
      " conv2d_6 (Conv2D)           (None, 32, 32, 32)        896       \n",
      "                                                                 \n",
      " conv2d_7 (Conv2D)           (None, 32, 32, 32)        9248      \n",
      "                                                                 \n",
      " max_pooling2d_3 (MaxPoolin  (None, 16, 16, 32)        0         \n",
      " g2D)                                                            \n",
      "                                                                 \n",
      " conv2d_8 (Conv2D)           (None, 16, 16, 64)        18496     \n",
      "                                                                 \n",
      " conv2d_9 (Conv2D)           (None, 16, 16, 64)        36928     \n",
      "                                                                 \n",
      " conv2d_10 (Conv2D)          (None, 16, 16, 64)        36928     \n",
      "                                                                 \n",
      " max_pooling2d_4 (MaxPoolin  (None, 8, 8, 64)          0         \n",
      " g2D)                                                            \n",
      "                                                                 \n",
      " conv2d_11 (Conv2D)          (None, 8, 8, 128)         73856     \n",
      "                                                                 \n",
      " conv2d_12 (Conv2D)          (None, 8, 8, 128)         147584    \n",
      "                                                                 \n",
      " max_pooling2d_5 (MaxPoolin  (None, 4, 4, 128)         0         \n",
      " g2D)                                                            \n",
      "                                                                 \n",
      " flatten_1 (Flatten)         (None, 2048)              0         \n",
      "                                                                 \n",
      " dropout_2 (Dropout)         (None, 2048)              0         \n",
      "                                                                 \n",
      " dense_2 (Dense)             (None, 300)               614700    \n",
      "                                                                 \n",
      " dropout_3 (Dropout)         (None, 300)               0         \n",
      "                                                                 \n",
      " dense_3 (Dense)             (None, 10)                3010      \n",
      "                                                                 \n",
      "=================================================================\n",
      "Total params: 941646 (3.59 MB)\n",
      "Trainable params: 941646 (3.59 MB)\n",
      "Non-trainable params: 0 (0.00 Byte)\n",
      "_________________________________________________________________\n"
     ]
    }
   ],
   "source": [
    "from tensorflow.keras.models import Model\n",
    "from tensorflow.keras.layers import Input, Dense, Conv2D, Dropout, Flatten, MaxPooling2D\n",
    "from tensorflow.keras.optimizers import Adam\n",
    "\n",
    "input_tensor = Input(shape=(IMAGE_SIZE, IMAGE_SIZE, 3))\n",
    "\n",
    "x = Conv2D(filters=32, kernel_size=3, padding='same', activation='relu', kernel_initializer='he_normal')(input_tensor)\n",
    "x = Conv2D(filters=32, kernel_size=3, padding='same', activation='relu', kernel_initializer='he_normal')(x)\n",
    "x = MaxPooling2D(pool_size=2)(x)\n",
    "\n",
    "x = Conv2D(filters=64, kernel_size=3, padding='same', activation='relu', kernel_initializer='he_normal')(x)\n",
    "x = Conv2D(filters=64, kernel_size=3, padding='same', activation='relu', kernel_initializer='he_normal')(x)\n",
    "x = Conv2D(filters=64, kernel_size=3, padding='same', activation='relu', kernel_initializer='he_normal')(x)\n",
    "x = MaxPooling2D(pool_size=2)(x)\n",
    "\n",
    "x = Conv2D(filters=128, kernel_size=3, padding='same', activation='relu', kernel_initializer='he_normal')(x)\n",
    "x = Conv2D(filters=128, kernel_size=3, padding='same', activation='relu', kernel_initializer='he_normal')(x)\n",
    "x = MaxPooling2D(pool_size=2)(x)\n",
    "\n",
    "# cifar10의 클래스가 10개라 마지막 classification의 dense layer units 개수는 10개\n",
    "x = Flatten()(x)\n",
    "x = Dropout(rate=0.5)(x)\n",
    "x = Dense(300, activation='relu', kernel_initializer='he_normal')(x)\n",
    "x = Dropout(rate=0.3)(x)\n",
    "output = Dense(10, activation='softmax')(x)\n",
    "\n",
    "kernel_initialized_model = Model(inputs=input_tensor, outputs=output)\n",
    "\n",
    "kernel_initialized_model.summary()"
   ]
  },
  {
   "cell_type": "code",
   "execution_count": 29,
   "id": "6790d10c",
   "metadata": {
    "execution": {
     "iopub.execute_input": "2024-02-11T11:45:28.280836Z",
     "iopub.status.busy": "2024-02-11T11:45:28.280473Z",
     "iopub.status.idle": "2024-02-11T11:48:22.599359Z",
     "shell.execute_reply": "2024-02-11T11:48:22.598218Z"
    },
    "papermill": {
     "duration": 174.561917,
     "end_time": "2024-02-11T11:48:22.601452",
     "exception": false,
     "start_time": "2024-02-11T11:45:28.039535",
     "status": "completed"
    },
    "tags": []
   },
   "outputs": [
    {
     "name": "stdout",
     "output_type": "stream",
     "text": [
      "Epoch 1/30\n",
      "665/665 [==============================] - 9s 9ms/step - loss: 1.6131 - accuracy: 0.4076 - val_loss: 1.2912 - val_accuracy: 0.5265\n",
      "Epoch 2/30\n",
      "665/665 [==============================] - 6s 8ms/step - loss: 1.1498 - accuracy: 0.5901 - val_loss: 0.9689 - val_accuracy: 0.6471\n",
      "Epoch 3/30\n",
      "665/665 [==============================] - 6s 9ms/step - loss: 0.9512 - accuracy: 0.6630 - val_loss: 0.8655 - val_accuracy: 0.7024\n",
      "Epoch 4/30\n",
      "665/665 [==============================] - 6s 9ms/step - loss: 0.8315 - accuracy: 0.7059 - val_loss: 0.7468 - val_accuracy: 0.7395\n",
      "Epoch 5/30\n",
      "665/665 [==============================] - 6s 9ms/step - loss: 0.7498 - accuracy: 0.7397 - val_loss: 0.7631 - val_accuracy: 0.7367\n",
      "Epoch 6/30\n",
      "665/665 [==============================] - 6s 9ms/step - loss: 0.6765 - accuracy: 0.7604 - val_loss: 0.6778 - val_accuracy: 0.7668\n",
      "Epoch 7/30\n",
      "665/665 [==============================] - 6s 8ms/step - loss: 0.6276 - accuracy: 0.7785 - val_loss: 0.6739 - val_accuracy: 0.7693\n",
      "Epoch 8/30\n",
      "665/665 [==============================] - 6s 8ms/step - loss: 0.5800 - accuracy: 0.7960 - val_loss: 0.6588 - val_accuracy: 0.7711\n",
      "Epoch 9/30\n",
      "665/665 [==============================] - 6s 8ms/step - loss: 0.5372 - accuracy: 0.8124 - val_loss: 0.6943 - val_accuracy: 0.7657\n",
      "Epoch 10/30\n",
      "665/665 [==============================] - 6s 9ms/step - loss: 0.5065 - accuracy: 0.8212 - val_loss: 0.6890 - val_accuracy: 0.7720\n",
      "Epoch 11/30\n",
      "665/665 [==============================] - 6s 8ms/step - loss: 0.4877 - accuracy: 0.8277 - val_loss: 0.6107 - val_accuracy: 0.7931\n",
      "Epoch 12/30\n",
      "665/665 [==============================] - 6s 8ms/step - loss: 0.4584 - accuracy: 0.8390 - val_loss: 0.6218 - val_accuracy: 0.7923\n",
      "Epoch 13/30\n",
      "665/665 [==============================] - 6s 8ms/step - loss: 0.4241 - accuracy: 0.8499 - val_loss: 0.6314 - val_accuracy: 0.7947\n",
      "Epoch 14/30\n",
      "665/665 [==============================] - 6s 8ms/step - loss: 0.4179 - accuracy: 0.8537 - val_loss: 0.6196 - val_accuracy: 0.7956\n",
      "Epoch 15/30\n",
      "665/665 [==============================] - 6s 8ms/step - loss: 0.3887 - accuracy: 0.8647 - val_loss: 0.6353 - val_accuracy: 0.7981\n",
      "Epoch 16/30\n",
      "665/665 [==============================] - 6s 9ms/step - loss: 0.3691 - accuracy: 0.8683 - val_loss: 0.6179 - val_accuracy: 0.8083\n",
      "Epoch 17/30\n",
      "665/665 [==============================] - 6s 8ms/step - loss: 0.3594 - accuracy: 0.8714 - val_loss: 0.6170 - val_accuracy: 0.8069\n",
      "Epoch 18/30\n",
      "665/665 [==============================] - 6s 8ms/step - loss: 0.3612 - accuracy: 0.8731 - val_loss: 0.6384 - val_accuracy: 0.8017\n",
      "Epoch 19/30\n",
      "665/665 [==============================] - 6s 8ms/step - loss: 0.3426 - accuracy: 0.8785 - val_loss: 0.6358 - val_accuracy: 0.7993\n",
      "Epoch 20/30\n",
      "665/665 [==============================] - 6s 8ms/step - loss: 0.3378 - accuracy: 0.8804 - val_loss: 0.6954 - val_accuracy: 0.7901\n",
      "Epoch 21/30\n",
      "665/665 [==============================] - 6s 9ms/step - loss: 0.3216 - accuracy: 0.8874 - val_loss: 0.6421 - val_accuracy: 0.8055\n",
      "Epoch 22/30\n",
      "665/665 [==============================] - 6s 8ms/step - loss: 0.3185 - accuracy: 0.8885 - val_loss: 0.6585 - val_accuracy: 0.7932\n",
      "Epoch 23/30\n",
      "665/665 [==============================] - 6s 8ms/step - loss: 0.3288 - accuracy: 0.8841 - val_loss: 0.6410 - val_accuracy: 0.8065\n",
      "Epoch 24/30\n",
      "665/665 [==============================] - 6s 8ms/step - loss: 0.3004 - accuracy: 0.8934 - val_loss: 0.6479 - val_accuracy: 0.8005\n",
      "Epoch 25/30\n",
      "665/665 [==============================] - 6s 8ms/step - loss: 0.3034 - accuracy: 0.8927 - val_loss: 0.6520 - val_accuracy: 0.8021\n",
      "Epoch 26/30\n",
      "665/665 [==============================] - 6s 8ms/step - loss: 0.2935 - accuracy: 0.8977 - val_loss: 0.6616 - val_accuracy: 0.8021\n",
      "Epoch 27/30\n",
      "665/665 [==============================] - 6s 9ms/step - loss: 0.2860 - accuracy: 0.9007 - val_loss: 0.7151 - val_accuracy: 0.7929\n",
      "Epoch 28/30\n",
      "665/665 [==============================] - 6s 8ms/step - loss: 0.2732 - accuracy: 0.9052 - val_loss: 0.6508 - val_accuracy: 0.8059\n",
      "Epoch 29/30\n",
      "665/665 [==============================] - 6s 9ms/step - loss: 0.2708 - accuracy: 0.9070 - val_loss: 0.6607 - val_accuracy: 0.8015\n",
      "Epoch 30/30\n",
      "665/665 [==============================] - 6s 8ms/step - loss: 0.2792 - accuracy: 0.9038 - val_loss: 0.7263 - val_accuracy: 0.7975\n"
     ]
    }
   ],
   "source": [
    "kernel_initialized_model.compile(optimizer=Adam(), loss='categorical_crossentropy', metrics=['accuracy'])\n",
    "history = kernel_initialized_model.fit(x=train_images, y=train_oh_labels, batch_size=64, epochs=30, validation_split=0.15)"
   ]
  },
  {
   "cell_type": "code",
   "execution_count": 30,
   "id": "75877b1b",
   "metadata": {
    "execution": {
     "iopub.execute_input": "2024-02-11T11:48:23.619083Z",
     "iopub.status.busy": "2024-02-11T11:48:23.618720Z",
     "iopub.status.idle": "2024-02-11T11:48:25.290447Z",
     "shell.execute_reply": "2024-02-11T11:48:25.289602Z"
    },
    "papermill": {
     "duration": 2.203488,
     "end_time": "2024-02-11T11:48:25.292445",
     "exception": false,
     "start_time": "2024-02-11T11:48:23.088957",
     "status": "completed"
    },
    "tags": []
   },
   "outputs": [
    {
     "name": "stdout",
     "output_type": "stream",
     "text": [
      "313/313 [==============================] - 1s 3ms/step - loss: 0.7642 - accuracy: 0.7876\n"
     ]
    },
    {
     "data": {
      "text/plain": [
       "[0.7642046809196472, 0.7875999808311462]"
      ]
     },
     "execution_count": 30,
     "metadata": {},
     "output_type": "execute_result"
    },
    {
     "data": {
      "image/png": "[encoded data removed]",
      "text/plain": [
       "<Figure size 600x600 with 1 Axes>"
      ]
     },
     "metadata": {},
     "output_type": "display_data"
    }
   ],
   "source": [
    "import matplotlib.pyplot as plt\n",
    "%matplotlib inline\n",
    "\n",
    "def show_history(history):\n",
    "    plt.figure(figsize=(6,6))\n",
    "    plt.yticks(np.arange(0,1, 0.05))\n",
    "    plt.plot(history.history['accuracy'], label='train')\n",
    "    plt.plot(history.history['val_accuracy'], label='valid')\n",
    "    plt.legend()\n",
    "\n",
    "show_history(history)\n",
    "\n",
    "# 테스트 데이터로 성능 평가\n",
    "kernel_initialized_model.evaluate(test_images, test_oh_labels)"
   ]
  },
  {
   "cell_type": "markdown",
   "id": "12bf8f6d",
   "metadata": {
    "papermill": {
     "duration": 0.489138,
     "end_time": "2024-02-11T11:48:26.265223",
     "exception": false,
     "start_time": "2024-02-11T11:48:25.776085",
     "status": "completed"
    },
    "tags": []
   },
   "source": [
    "### Batch Normalization 적용\n",
    "* internal covariate shift 해결(신경망 내부 각 층을 통과하면서 입력 데이터 분포가 조금씩 달라지는 현상)"
   ]
  },
  {
   "cell_type": "code",
   "execution_count": 31,
   "id": "38ee8abe",
   "metadata": {
    "execution": {
     "iopub.execute_input": "2024-02-11T11:48:27.270724Z",
     "iopub.status.busy": "2024-02-11T11:48:27.270004Z",
     "iopub.status.idle": "2024-02-11T11:48:27.531018Z",
     "shell.execute_reply": "2024-02-11T11:48:27.529937Z"
    },
    "papermill": {
     "duration": 0.811956,
     "end_time": "2024-02-11T11:48:27.556746",
     "exception": false,
     "start_time": "2024-02-11T11:48:26.744790",
     "status": "completed"
    },
    "tags": []
   },
   "outputs": [
    {
     "name": "stdout",
     "output_type": "stream",
     "text": [
      "Model: \"model_2\"\n",
      "_________________________________________________________________\n",
      " Layer (type)                Output Shape              Param #   \n",
      "=================================================================\n",
      " input_3 (InputLayer)        [(None, 32, 32, 3)]       0         \n",
      "                                                                 \n",
      " conv2d_13 (Conv2D)          (None, 32, 32, 32)        896       \n",
      "                                                                 \n",
      " batch_normalization (Batch  (None, 32, 32, 32)        128       \n",
      " Normalization)                                                  \n",
      "                                                                 \n",
      " activation_1 (Activation)   (None, 32, 32, 32)        0         \n",
      "                                                                 \n",
      " conv2d_14 (Conv2D)          (None, 32, 32, 32)        9248      \n",
      "                                                                 \n",
      " batch_normalization_1 (Bat  (None, 32, 32, 32)        128       \n",
      " chNormalization)                                                \n",
      "                                                                 \n",
      " activation_2 (Activation)   (None, 32, 32, 32)        0         \n",
      "                                                                 \n",
      " max_pooling2d_6 (MaxPoolin  (None, 16, 16, 32)        0         \n",
      " g2D)                                                            \n",
      "                                                                 \n",
      " conv2d_15 (Conv2D)          (None, 16, 16, 64)        18496     \n",
      "                                                                 \n",
      " batch_normalization_2 (Bat  (None, 16, 16, 64)        256       \n",
      " chNormalization)                                                \n",
      "                                                                 \n",
      " activation_3 (Activation)   (None, 16, 16, 64)        0         \n",
      "                                                                 \n",
      " conv2d_16 (Conv2D)          (None, 16, 16, 64)        36928     \n",
      "                                                                 \n",
      " activation_4 (Activation)   (None, 16, 16, 64)        0         \n",
      "                                                                 \n",
      " activation_5 (Activation)   (None, 16, 16, 64)        0         \n",
      "                                                                 \n",
      " max_pooling2d_7 (MaxPoolin  (None, 8, 8, 64)          0         \n",
      " g2D)                                                            \n",
      "                                                                 \n",
      " conv2d_17 (Conv2D)          (None, 8, 8, 128)         73856     \n",
      "                                                                 \n",
      " batch_normalization_3 (Bat  (None, 8, 8, 128)         512       \n",
      " chNormalization)                                                \n",
      "                                                                 \n",
      " activation_6 (Activation)   (None, 8, 8, 128)         0         \n",
      "                                                                 \n",
      " conv2d_18 (Conv2D)          (None, 8, 8, 128)         147584    \n",
      "                                                                 \n",
      " batch_normalization_4 (Bat  (None, 8, 8, 128)         512       \n",
      " chNormalization)                                                \n",
      "                                                                 \n",
      " activation_7 (Activation)   (None, 8, 8, 128)         0         \n",
      "                                                                 \n",
      " max_pooling2d_8 (MaxPoolin  (None, 4, 4, 128)         0         \n",
      " g2D)                                                            \n",
      "                                                                 \n",
      " flatten_2 (Flatten)         (None, 2048)              0         \n",
      "                                                                 \n",
      " dropout_4 (Dropout)         (None, 2048)              0         \n",
      "                                                                 \n",
      " dense_4 (Dense)             (None, 300)               614700    \n",
      "                                                                 \n",
      " dropout_5 (Dropout)         (None, 300)               0         \n",
      "                                                                 \n",
      " dense_5 (Dense)             (None, 10)                3010      \n",
      "                                                                 \n",
      "=================================================================\n",
      "Total params: 906254 (3.46 MB)\n",
      "Trainable params: 905486 (3.45 MB)\n",
      "Non-trainable params: 768 (3.00 KB)\n",
      "_________________________________________________________________\n"
     ]
    }
   ],
   "source": [
    "from tensorflow.keras.models import Model\n",
    "from tensorflow.keras.layers import Input, Dense, Conv2D, Dropout, Flatten, MaxPooling2D, BatchNormalization, Activation\n",
    "from tensorflow.keras.optimizers import Adam\n",
    "\n",
    "input_tensor= Input(shape=(IMAGE_SIZE, IMAGE_SIZE, 3))\n",
    "\n",
    "x = Conv2D(filters=32, kernel_size=3, padding='same')(input_tensor)\n",
    "x = BatchNormalization()(x)\n",
    "x = Activation('relu')(x)\n",
    "\n",
    "x = Conv2D(filters=32, kernel_size=3, padding='same')(x)\n",
    "x = BatchNormalization()(x)\n",
    "x = Activation('relu')(x)\n",
    "x = MaxPooling2D(pool_size=2)(x)\n",
    "\n",
    "x = Conv2D(filters=64, kernel_size=3, padding='same')(x)\n",
    "x = BatchNormalization()(x)\n",
    "x = Activation('relu')(x)\n",
    "\n",
    "x = Conv2D(filters=64, kernel_size=3, padding='same')(x)\n",
    "x = Activation('relu')(x)\n",
    "x = Activation('relu')(x)\n",
    "x = MaxPooling2D(pool_size=2)(x)\n",
    "\n",
    "x = Conv2D(filters=128, kernel_size=3, padding='same')(x)\n",
    "x = BatchNormalization()(x)\n",
    "x = Activation('relu')(x)\n",
    "\n",
    "x = Conv2D(filters=128, kernel_size=3, padding='same')(x)\n",
    "x = BatchNormalization()(x)\n",
    "x = Activation('relu')(x)\n",
    "x = MaxPooling2D(pool_size=2)(x)\n",
    "\n",
    "x = Flatten()(x)\n",
    "x = Dropout(rate=0.5)(x)\n",
    "x = Dense(300, activation='relu')(x)\n",
    "x = Dropout(rate=0.3)(x)\n",
    "output = Dense(10, activation='softmax')(x)\n",
    "\n",
    "batch_normalized_model = Model(inputs=input_tensor, outputs=output)\n",
    "\n",
    "batch_normalized_model.summary()"
   ]
  },
  {
   "cell_type": "code",
   "execution_count": 32,
   "id": "5c9bf3b4",
   "metadata": {
    "execution": {
     "iopub.execute_input": "2024-02-11T11:48:28.534423Z",
     "iopub.status.busy": "2024-02-11T11:48:28.533723Z",
     "iopub.status.idle": "2024-02-11T11:51:40.762857Z",
     "shell.execute_reply": "2024-02-11T11:51:40.761899Z"
    },
    "papermill": {
     "duration": 192.723528,
     "end_time": "2024-02-11T11:51:40.765269",
     "exception": false,
     "start_time": "2024-02-11T11:48:28.041741",
     "status": "completed"
    },
    "tags": []
   },
   "outputs": [
    {
     "name": "stdout",
     "output_type": "stream",
     "text": [
      "Epoch 1/30\n",
      "665/665 [==============================] - 11s 11ms/step - loss: 1.6012 - accuracy: 0.4245 - val_loss: 1.4356 - val_accuracy: 0.4755\n",
      "Epoch 2/30\n",
      "665/665 [==============================] - 6s 9ms/step - loss: 1.1336 - accuracy: 0.5965 - val_loss: 1.5977 - val_accuracy: 0.4935\n",
      "Epoch 3/30\n",
      "665/665 [==============================] - 6s 9ms/step - loss: 0.9401 - accuracy: 0.6699 - val_loss: 1.0475 - val_accuracy: 0.6436\n",
      "Epoch 4/30\n",
      "665/665 [==============================] - 6s 9ms/step - loss: 0.8056 - accuracy: 0.7190 - val_loss: 1.1890 - val_accuracy: 0.6107\n",
      "Epoch 5/30\n",
      "665/665 [==============================] - 6s 9ms/step - loss: 0.7305 - accuracy: 0.7456 - val_loss: 0.7270 - val_accuracy: 0.7457\n",
      "Epoch 6/30\n",
      "665/665 [==============================] - 6s 9ms/step - loss: 0.6551 - accuracy: 0.7736 - val_loss: 0.8356 - val_accuracy: 0.7288\n",
      "Epoch 7/30\n",
      "665/665 [==============================] - 6s 9ms/step - loss: 0.6038 - accuracy: 0.7927 - val_loss: 0.7379 - val_accuracy: 0.7471\n",
      "Epoch 8/30\n",
      "665/665 [==============================] - 6s 9ms/step - loss: 0.5544 - accuracy: 0.8099 - val_loss: 0.6522 - val_accuracy: 0.7723\n",
      "Epoch 9/30\n",
      "665/665 [==============================] - 6s 9ms/step - loss: 0.5094 - accuracy: 0.8226 - val_loss: 0.6508 - val_accuracy: 0.7813\n",
      "Epoch 10/30\n",
      "665/665 [==============================] - 6s 9ms/step - loss: 0.4733 - accuracy: 0.8370 - val_loss: 0.7431 - val_accuracy: 0.7492\n",
      "Epoch 11/30\n",
      "665/665 [==============================] - 6s 9ms/step - loss: 0.4363 - accuracy: 0.8495 - val_loss: 0.7076 - val_accuracy: 0.7661\n",
      "Epoch 12/30\n",
      "665/665 [==============================] - 6s 9ms/step - loss: 0.4030 - accuracy: 0.8608 - val_loss: 0.9225 - val_accuracy: 0.7295\n",
      "Epoch 13/30\n",
      "665/665 [==============================] - 6s 9ms/step - loss: 0.3663 - accuracy: 0.8749 - val_loss: 0.6236 - val_accuracy: 0.8047\n",
      "Epoch 14/30\n",
      "665/665 [==============================] - 6s 9ms/step - loss: 0.3338 - accuracy: 0.8852 - val_loss: 0.5768 - val_accuracy: 0.8129\n",
      "Epoch 15/30\n",
      "665/665 [==============================] - 6s 9ms/step - loss: 0.3126 - accuracy: 0.8899 - val_loss: 0.5691 - val_accuracy: 0.8191\n",
      "Epoch 16/30\n",
      "665/665 [==============================] - 6s 9ms/step - loss: 0.2965 - accuracy: 0.8981 - val_loss: 0.6390 - val_accuracy: 0.8068\n",
      "Epoch 17/30\n",
      "665/665 [==============================] - 6s 9ms/step - loss: 0.2860 - accuracy: 0.9020 - val_loss: 0.6065 - val_accuracy: 0.8181\n",
      "Epoch 18/30\n",
      "665/665 [==============================] - 6s 9ms/step - loss: 0.2580 - accuracy: 0.9123 - val_loss: 0.7213 - val_accuracy: 0.8007\n",
      "Epoch 19/30\n",
      "665/665 [==============================] - 6s 9ms/step - loss: 0.2376 - accuracy: 0.9178 - val_loss: 0.5621 - val_accuracy: 0.8304\n",
      "Epoch 20/30\n",
      "665/665 [==============================] - 6s 9ms/step - loss: 0.2237 - accuracy: 0.9218 - val_loss: 0.8514 - val_accuracy: 0.7808\n",
      "Epoch 21/30\n",
      "665/665 [==============================] - 6s 9ms/step - loss: 0.2164 - accuracy: 0.9247 - val_loss: 0.6763 - val_accuracy: 0.8087\n",
      "Epoch 22/30\n",
      "665/665 [==============================] - 6s 9ms/step - loss: 0.1939 - accuracy: 0.9328 - val_loss: 0.6158 - val_accuracy: 0.8257\n",
      "Epoch 23/30\n",
      "665/665 [==============================] - 6s 9ms/step - loss: 0.1886 - accuracy: 0.9344 - val_loss: 0.7261 - val_accuracy: 0.7964\n",
      "Epoch 24/30\n",
      "665/665 [==============================] - 6s 9ms/step - loss: 0.1743 - accuracy: 0.9412 - val_loss: 0.9607 - val_accuracy: 0.7747\n",
      "Epoch 25/30\n",
      "665/665 [==============================] - 6s 9ms/step - loss: 0.1780 - accuracy: 0.9384 - val_loss: 0.7780 - val_accuracy: 0.8119\n",
      "Epoch 26/30\n",
      "665/665 [==============================] - 6s 9ms/step - loss: 0.1775 - accuracy: 0.9399 - val_loss: 0.7407 - val_accuracy: 0.8093\n",
      "Epoch 27/30\n",
      "665/665 [==============================] - 6s 9ms/step - loss: 0.1588 - accuracy: 0.9453 - val_loss: 0.6690 - val_accuracy: 0.8255\n",
      "Epoch 28/30\n",
      "665/665 [==============================] - 6s 9ms/step - loss: 0.1475 - accuracy: 0.9500 - val_loss: 0.7685 - val_accuracy: 0.7976\n",
      "Epoch 29/30\n",
      "665/665 [==============================] - 6s 9ms/step - loss: 0.1415 - accuracy: 0.9514 - val_loss: 0.9416 - val_accuracy: 0.7969\n",
      "Epoch 30/30\n",
      "665/665 [==============================] - 6s 9ms/step - loss: 0.1482 - accuracy: 0.9490 - val_loss: 0.6385 - val_accuracy: 0.8343\n"
     ]
    }
   ],
   "source": [
    "batch_normalized_model.compile(optimizer=Adam(), loss='categorical_crossentropy', metrics=['accuracy'])\n",
    "history = batch_normalized_model.fit(x=train_images, y=train_oh_labels, batch_size=64, epochs=30, validation_split=0.15)"
   ]
  },
  {
   "cell_type": "code",
   "execution_count": 33,
   "id": "c8fabbd5",
   "metadata": {
    "execution": {
     "iopub.execute_input": "2024-02-11T11:51:42.412977Z",
     "iopub.status.busy": "2024-02-11T11:51:42.411679Z",
     "iopub.status.idle": "2024-02-11T11:51:44.604193Z",
     "shell.execute_reply": "2024-02-11T11:51:44.603319Z"
    },
    "papermill": {
     "duration": 3.048308,
     "end_time": "2024-02-11T11:51:44.606168",
     "exception": false,
     "start_time": "2024-02-11T11:51:41.557860",
     "status": "completed"
    },
    "tags": []
   },
   "outputs": [
    {
     "name": "stdout",
     "output_type": "stream",
     "text": [
      "313/313 [==============================] - 2s 4ms/step - loss: 0.6328 - accuracy: 0.8371\n"
     ]
    },
    {
     "data": {
      "text/plain": [
       "[0.6328340768814087, 0.8371000289916992]"
      ]
     },
     "execution_count": 33,
     "metadata": {},
     "output_type": "execute_result"
    },
    {
     "data": {
      "image/png": "[encoded data removed]",
      "text/plain": [
       "<Figure size 600x600 with 1 Axes>"
      ]
     },
     "metadata": {},
     "output_type": "display_data"
    }
   ],
   "source": [
    "show_history(history)\n",
    "\n",
    "batch_normalized_model.evaluate(test_images, test_oh_labels)"
   ]
  },
  {
   "cell_type": "markdown",
   "id": "621c75d2",
   "metadata": {
    "papermill": {
     "duration": 0.756051,
     "end_time": "2024-02-11T11:51:46.147936",
     "exception": false,
     "start_time": "2024-02-11T11:51:45.391885",
     "status": "completed"
    },
    "tags": []
   },
   "source": [
    "### He Normal Batch Normalization 동시 적용"
   ]
  },
  {
   "cell_type": "code",
   "execution_count": 34,
   "id": "a66b7180",
   "metadata": {
    "execution": {
     "iopub.execute_input": "2024-02-11T11:51:47.769663Z",
     "iopub.status.busy": "2024-02-11T11:51:47.769260Z",
     "iopub.status.idle": "2024-02-11T11:51:48.048560Z",
     "shell.execute_reply": "2024-02-11T11:51:48.047517Z"
    },
    "papermill": {
     "duration": 1.09666,
     "end_time": "2024-02-11T11:51:48.080489",
     "exception": false,
     "start_time": "2024-02-11T11:51:46.983829",
     "status": "completed"
    },
    "tags": []
   },
   "outputs": [
    {
     "name": "stdout",
     "output_type": "stream",
     "text": [
      "Model: \"model_3\"\n",
      "_________________________________________________________________\n",
      " Layer (type)                Output Shape              Param #   \n",
      "=================================================================\n",
      " input_4 (InputLayer)        [(None, 32, 32, 3)]       0         \n",
      "                                                                 \n",
      " conv2d_19 (Conv2D)          (None, 32, 32, 32)        896       \n",
      "                                                                 \n",
      " batch_normalization_5 (Bat  (None, 32, 32, 32)        128       \n",
      " chNormalization)                                                \n",
      "                                                                 \n",
      " activation_8 (Activation)   (None, 32, 32, 32)        0         \n",
      "                                                                 \n",
      " conv2d_20 (Conv2D)          (None, 32, 32, 32)        9248      \n",
      "                                                                 \n",
      " batch_normalization_6 (Bat  (None, 32, 32, 32)        128       \n",
      " chNormalization)                                                \n",
      "                                                                 \n",
      " activation_9 (Activation)   (None, 32, 32, 32)        0         \n",
      "                                                                 \n",
      " max_pooling2d_9 (MaxPoolin  (None, 16, 16, 32)        0         \n",
      " g2D)                                                            \n",
      "                                                                 \n",
      " conv2d_21 (Conv2D)          (None, 16, 16, 64)        18496     \n",
      "                                                                 \n",
      " batch_normalization_7 (Bat  (None, 16, 16, 64)        256       \n",
      " chNormalization)                                                \n",
      "                                                                 \n",
      " activation_10 (Activation)  (None, 16, 16, 64)        0         \n",
      "                                                                 \n",
      " conv2d_22 (Conv2D)          (None, 16, 16, 64)        36928     \n",
      "                                                                 \n",
      " activation_11 (Activation)  (None, 16, 16, 64)        0         \n",
      "                                                                 \n",
      " activation_12 (Activation)  (None, 16, 16, 64)        0         \n",
      "                                                                 \n",
      " max_pooling2d_10 (MaxPooli  (None, 8, 8, 64)          0         \n",
      " ng2D)                                                           \n",
      "                                                                 \n",
      " conv2d_23 (Conv2D)          (None, 8, 8, 128)         73856     \n",
      "                                                                 \n",
      " batch_normalization_8 (Bat  (None, 8, 8, 128)         512       \n",
      " chNormalization)                                                \n",
      "                                                                 \n",
      " activation_13 (Activation)  (None, 8, 8, 128)         0         \n",
      "                                                                 \n",
      " conv2d_24 (Conv2D)          (None, 8, 8, 128)         147584    \n",
      "                                                                 \n",
      " batch_normalization_9 (Bat  (None, 8, 8, 128)         512       \n",
      " chNormalization)                                                \n",
      "                                                                 \n",
      " activation_14 (Activation)  (None, 8, 8, 128)         0         \n",
      "                                                                 \n",
      " max_pooling2d_11 (MaxPooli  (None, 4, 4, 128)         0         \n",
      " ng2D)                                                           \n",
      "                                                                 \n",
      " flatten (Flatten)           (None, 2048)              0         \n",
      "                                                                 \n",
      " dropout_6 (Dropout)         (None, 2048)              0         \n",
      "                                                                 \n",
      " fc1 (Dense)                 (None, 300)               614700    \n",
      "                                                                 \n",
      " dropout_7 (Dropout)         (None, 300)               0         \n",
      "                                                                 \n",
      " output (Dense)              (None, 10)                3010      \n",
      "                                                                 \n",
      "=================================================================\n",
      "Total params: 906254 (3.46 MB)\n",
      "Trainable params: 905486 (3.45 MB)\n",
      "Non-trainable params: 768 (3.00 KB)\n",
      "_________________________________________________________________\n"
     ]
    }
   ],
   "source": [
    "from tensorflow.keras.models import Model\n",
    "from tensorflow.keras.layers import Input, Dense, Conv2D, Dropout, Flatten, Activation, MaxPooling2D, BatchNormalization\n",
    "from tensorflow.keras.optimizers import Adam\n",
    "\n",
    "input_tensor = Input(shape=(IMAGE_SIZE, IMAGE_SIZE, 3))\n",
    "\n",
    "x = Conv2D(filters=32, kernel_size=3, padding='same', kernel_initializer='he_normal')(input_tensor)\n",
    "x = BatchNormalization()(x)\n",
    "x = Activation('relu')(x)\n",
    "\n",
    "x = Conv2D(filters=32, kernel_size=3, padding='same', kernel_initializer='he_normal')(x)\n",
    "x = BatchNormalization()(x)\n",
    "x = Activation('relu')(x)\n",
    "x = MaxPooling2D(pool_size=2)(x)\n",
    "\n",
    "x = Conv2D(filters=64, kernel_size=3, padding='same', kernel_initializer='he_normal')(x)\n",
    "x = BatchNormalization()(x)\n",
    "x = Activation('relu')(x)\n",
    "\n",
    "x = Conv2D(filters=64, kernel_size=3, padding='same', kernel_initializer='he_normal')(x)\n",
    "x = Activation('relu')(x)\n",
    "x = Activation('relu')(x)\n",
    "x = MaxPooling2D(pool_size=2)(x)\n",
    "\n",
    "x = Conv2D(filters=128, kernel_size=3, padding='same', kernel_initializer='he_normal')(x)\n",
    "x = BatchNormalization()(x)\n",
    "x = Activation('relu')(x)\n",
    "\n",
    "x = Conv2D(filters=128, kernel_size=3, padding='same', kernel_initializer='he_normal')(x)\n",
    "x = BatchNormalization()(x)\n",
    "x = Activation('relu')(x)\n",
    "x = MaxPooling2D(pool_size=2)(x)\n",
    "\n",
    "x = Flatten(name='flatten')(x)\n",
    "x = Dropout(rate=0.5)(x)\n",
    "x = Dense(300, activation='relu', name='fc1')(x)\n",
    "x = Dropout(rate=0.3)(x)\n",
    "output = Dense(10, activation='softmax', name='output')(x)\n",
    "\n",
    "model = Model(inputs=input_tensor, outputs=output)\n",
    "\n",
    "model.summary()"
   ]
  },
  {
   "cell_type": "code",
   "execution_count": 35,
   "id": "b9f5e11b",
   "metadata": {
    "execution": {
     "iopub.execute_input": "2024-02-11T11:51:49.769236Z",
     "iopub.status.busy": "2024-02-11T11:51:49.768193Z",
     "iopub.status.idle": "2024-02-11T11:55:02.786325Z",
     "shell.execute_reply": "2024-02-11T11:55:02.785333Z"
    },
    "papermill": {
     "duration": 193.909827,
     "end_time": "2024-02-11T11:55:02.788578",
     "exception": false,
     "start_time": "2024-02-11T11:51:48.878751",
     "status": "completed"
    },
    "tags": []
   },
   "outputs": [
    {
     "name": "stdout",
     "output_type": "stream",
     "text": [
      "Epoch 1/30\n",
      "665/665 [==============================] - 10s 10ms/step - loss: 1.6127 - accuracy: 0.4147 - val_loss: 1.6850 - val_accuracy: 0.4509\n",
      "Epoch 2/30\n",
      "665/665 [==============================] - 6s 9ms/step - loss: 1.1533 - accuracy: 0.5854 - val_loss: 1.0454 - val_accuracy: 0.6255\n",
      "Epoch 3/30\n",
      "665/665 [==============================] - 6s 9ms/step - loss: 0.9489 - accuracy: 0.6653 - val_loss: 1.0713 - val_accuracy: 0.6324\n",
      "Epoch 4/30\n",
      "665/665 [==============================] - 6s 9ms/step - loss: 0.8286 - accuracy: 0.7112 - val_loss: 0.9830 - val_accuracy: 0.6612\n",
      "Epoch 5/30\n",
      "665/665 [==============================] - 6s 9ms/step - loss: 0.7457 - accuracy: 0.7412 - val_loss: 0.9345 - val_accuracy: 0.6944\n",
      "Epoch 6/30\n",
      "665/665 [==============================] - 6s 9ms/step - loss: 0.6649 - accuracy: 0.7704 - val_loss: 0.8286 - val_accuracy: 0.7117\n",
      "Epoch 7/30\n",
      "665/665 [==============================] - 6s 9ms/step - loss: 0.6096 - accuracy: 0.7898 - val_loss: 0.6227 - val_accuracy: 0.7845\n",
      "Epoch 8/30\n",
      "665/665 [==============================] - 6s 9ms/step - loss: 0.5561 - accuracy: 0.8084 - val_loss: 0.9035 - val_accuracy: 0.7288\n",
      "Epoch 9/30\n",
      "665/665 [==============================] - 6s 9ms/step - loss: 0.5183 - accuracy: 0.8215 - val_loss: 0.7759 - val_accuracy: 0.7395\n",
      "Epoch 10/30\n",
      "665/665 [==============================] - 6s 9ms/step - loss: 0.4819 - accuracy: 0.8348 - val_loss: 0.6400 - val_accuracy: 0.7848\n",
      "Epoch 11/30\n",
      "665/665 [==============================] - 6s 9ms/step - loss: 0.4321 - accuracy: 0.8512 - val_loss: 0.6326 - val_accuracy: 0.7989\n",
      "Epoch 12/30\n",
      "665/665 [==============================] - 6s 9ms/step - loss: 0.3958 - accuracy: 0.8632 - val_loss: 0.6811 - val_accuracy: 0.7892\n",
      "Epoch 13/30\n",
      "665/665 [==============================] - 6s 9ms/step - loss: 0.3651 - accuracy: 0.8742 - val_loss: 0.7165 - val_accuracy: 0.7767\n",
      "Epoch 14/30\n",
      "665/665 [==============================] - 6s 9ms/step - loss: 0.3472 - accuracy: 0.8785 - val_loss: 0.8395 - val_accuracy: 0.7520\n",
      "Epoch 15/30\n",
      "665/665 [==============================] - 6s 9ms/step - loss: 0.3235 - accuracy: 0.8881 - val_loss: 0.6844 - val_accuracy: 0.7903\n",
      "Epoch 16/30\n",
      "665/665 [==============================] - 6s 9ms/step - loss: 0.3067 - accuracy: 0.8942 - val_loss: 0.9390 - val_accuracy: 0.7557\n",
      "Epoch 17/30\n",
      "665/665 [==============================] - 6s 9ms/step - loss: 0.2907 - accuracy: 0.8991 - val_loss: 0.6462 - val_accuracy: 0.8121\n",
      "Epoch 18/30\n",
      "665/665 [==============================] - 6s 10ms/step - loss: 0.2623 - accuracy: 0.9082 - val_loss: 0.6521 - val_accuracy: 0.8143\n",
      "Epoch 19/30\n",
      "665/665 [==============================] - 6s 9ms/step - loss: 0.2489 - accuracy: 0.9149 - val_loss: 0.6186 - val_accuracy: 0.8187\n",
      "Epoch 20/30\n",
      "665/665 [==============================] - 6s 9ms/step - loss: 0.2287 - accuracy: 0.9211 - val_loss: 1.0490 - val_accuracy: 0.7633\n",
      "Epoch 21/30\n",
      "665/665 [==============================] - 6s 9ms/step - loss: 0.2184 - accuracy: 0.9250 - val_loss: 0.6413 - val_accuracy: 0.8123\n",
      "Epoch 22/30\n",
      "665/665 [==============================] - 6s 9ms/step - loss: 0.2097 - accuracy: 0.9279 - val_loss: 0.7155 - val_accuracy: 0.8093\n",
      "Epoch 23/30\n",
      "665/665 [==============================] - 6s 10ms/step - loss: 0.2048 - accuracy: 0.9295 - val_loss: 0.6527 - val_accuracy: 0.8245\n",
      "Epoch 24/30\n",
      "665/665 [==============================] - 7s 10ms/step - loss: 0.1764 - accuracy: 0.9388 - val_loss: 0.7442 - val_accuracy: 0.8152\n",
      "Epoch 25/30\n",
      "665/665 [==============================] - 6s 9ms/step - loss: 0.1747 - accuracy: 0.9396 - val_loss: 0.7491 - val_accuracy: 0.8060\n",
      "Epoch 26/30\n",
      "665/665 [==============================] - 6s 9ms/step - loss: 0.1666 - accuracy: 0.9432 - val_loss: 0.7315 - val_accuracy: 0.8180\n",
      "Epoch 27/30\n",
      "665/665 [==============================] - 6s 9ms/step - loss: 0.1692 - accuracy: 0.9420 - val_loss: 0.7879 - val_accuracy: 0.8075\n",
      "Epoch 28/30\n",
      "665/665 [==============================] - 6s 9ms/step - loss: 0.1452 - accuracy: 0.9503 - val_loss: 0.8101 - val_accuracy: 0.8155\n",
      "Epoch 29/30\n",
      "665/665 [==============================] - 6s 9ms/step - loss: 0.1458 - accuracy: 0.9495 - val_loss: 0.7843 - val_accuracy: 0.8133\n",
      "Epoch 30/30\n",
      "665/665 [==============================] - 6s 9ms/step - loss: 0.1412 - accuracy: 0.9517 - val_loss: 0.7725 - val_accuracy: 0.8079\n"
     ]
    }
   ],
   "source": [
    "model.compile(optimizer=Adam(), loss='categorical_crossentropy', metrics=['accuracy'])\n",
    "history = model.fit(x=train_images, y=train_oh_labels, batch_size=64, epochs=30, validation_split=0.15)"
   ]
  },
  {
   "cell_type": "code",
   "execution_count": 36,
   "id": "5ba320e1",
   "metadata": {
    "execution": {
     "iopub.execute_input": "2024-02-11T11:55:05.029338Z",
     "iopub.status.busy": "2024-02-11T11:55:05.028912Z",
     "iopub.status.idle": "2024-02-11T11:55:06.972619Z",
     "shell.execute_reply": "2024-02-11T11:55:06.971713Z"
    },
    "papermill": {
     "duration": 3.073353,
     "end_time": "2024-02-11T11:55:06.974883",
     "exception": false,
     "start_time": "2024-02-11T11:55:03.901530",
     "status": "completed"
    },
    "tags": []
   },
   "outputs": [
    {
     "name": "stdout",
     "output_type": "stream",
     "text": [
      "313/313 [==============================] - 1s 4ms/step - loss: 0.7612 - accuracy: 0.8080\n"
     ]
    },
    {
     "data": {
      "text/plain": [
       "[0.7611597776412964, 0.8080000281333923]"
      ]
     },
     "execution_count": 36,
     "metadata": {},
     "output_type": "execute_result"
    },
    {
     "data": {
      "image/png": "[encoded data removed]",
      "text/plain": [
       "<Figure size 600x600 with 1 Axes>"
      ]
     },
     "metadata": {},
     "output_type": "display_data"
    }
   ],
   "source": [
    "import matplotlib.pyplot as plt\n",
    "%matplotlib inline\n",
    "\n",
    "def show_history(history):\n",
    "    plt.figure(figsize=(6,6))\n",
    "    plt.yticks(np.arange(0,1, 0.05))\n",
    "    plt.plot(history.history['accuracy'], label='train')\n",
    "    plt.plot(history.history['val_accuracy'], label='valid')\n",
    "    plt.legend()\n",
    "\n",
    "show_history(history)\n",
    "\n",
    "model.evaluate(test_images, test_oh_labels)"
   ]
  },
  {
   "cell_type": "markdown",
   "id": "ff9608dc",
   "metadata": {
    "papermill": {
     "duration": 1.05556,
     "end_time": "2024-02-11T11:55:09.083892",
     "exception": false,
     "start_time": "2024-02-11T11:55:08.028332",
     "status": "completed"
    },
    "tags": []
   },
   "source": [
    "# Global Average Pooling 적용\n",
    "* global average pooling은 feature map의 가로x세로의 특정 영역을 sub sampling하지 않고 채널별로 평균 값을 추출한다.\n",
    "* GAP를 적용하는 이유는 기존 flatten에서 Classification Dense Layer로 넘어가는 과정에서 지나치게 많은 파라미터들로 인한 오버피팅 가능성이 높아지고, 많은 파라미터로 인해 연산량이 지나치게 많아 시간이 오래 걸린다.\n",
    "* 충분히 feature map의 채널수가 많은 경우 GAP를 적용하고, 채널수가 적다면 기존 flatten이 유라하다.\n",
    "* 가장 마지막 feature map의 채널 수가 충분히 크다면 GlobalAveragePooling2D를 적용하는 것이 유리하다."
   ]
  },
  {
   "cell_type": "code",
   "execution_count": 37,
   "id": "7df5fa19",
   "metadata": {
    "execution": {
     "iopub.execute_input": "2024-02-11T11:55:11.288617Z",
     "iopub.status.busy": "2024-02-11T11:55:11.287607Z",
     "iopub.status.idle": "2024-02-11T11:55:11.292083Z",
     "shell.execute_reply": "2024-02-11T11:55:11.291282Z"
    },
    "papermill": {
     "duration": 1.108288,
     "end_time": "2024-02-11T11:55:11.293953",
     "exception": false,
     "start_time": "2024-02-11T11:55:10.185665",
     "status": "completed"
    },
    "tags": []
   },
   "outputs": [],
   "source": [
    "IMAGE_SIZE = 32"
   ]
  },
  {
   "cell_type": "code",
   "execution_count": 38,
   "id": "23fff957",
   "metadata": {
    "execution": {
     "iopub.execute_input": "2024-02-11T11:55:13.390302Z",
     "iopub.status.busy": "2024-02-11T11:55:13.389559Z",
     "iopub.status.idle": "2024-02-11T11:55:13.682081Z",
     "shell.execute_reply": "2024-02-11T11:55:13.680028Z"
    },
    "papermill": {
     "duration": 1.366439,
     "end_time": "2024-02-11T11:55:13.704024",
     "exception": false,
     "start_time": "2024-02-11T11:55:12.337585",
     "status": "completed"
    },
    "tags": []
   },
   "outputs": [
    {
     "name": "stdout",
     "output_type": "stream",
     "text": [
      "Model: \"model_4\"\n",
      "_________________________________________________________________\n",
      " Layer (type)                Output Shape              Param #   \n",
      "=================================================================\n",
      " input_5 (InputLayer)        [(None, 32, 32, 3)]       0         \n",
      "                                                                 \n",
      " conv2d_27 (Conv2D)          (None, 32, 32, 128)       3584      \n",
      "                                                                 \n",
      " batch_normalization_12 (Ba  (None, 32, 32, 128)       512       \n",
      " tchNormalization)                                               \n",
      "                                                                 \n",
      " activation_17 (Activation)  (None, 32, 32, 128)       0         \n",
      "                                                                 \n",
      " conv2d_28 (Conv2D)          (None, 32, 32, 128)       147584    \n",
      "                                                                 \n",
      " activation_18 (Activation)  (None, 32, 32, 128)       0         \n",
      "                                                                 \n",
      " activation_19 (Activation)  (None, 32, 32, 128)       0         \n",
      "                                                                 \n",
      " max_pooling2d_13 (MaxPooli  (None, 16, 16, 128)       0         \n",
      " ng2D)                                                           \n",
      "                                                                 \n",
      " conv2d_29 (Conv2D)          (None, 16, 16, 256)       295168    \n",
      "                                                                 \n",
      " batch_normalization_13 (Ba  (None, 16, 16, 256)       1024      \n",
      " tchNormalization)                                               \n",
      "                                                                 \n",
      " activation_20 (Activation)  (None, 16, 16, 256)       0         \n",
      "                                                                 \n",
      " conv2d_30 (Conv2D)          (None, 16, 16, 256)       590080    \n",
      "                                                                 \n",
      " batch_normalization_14 (Ba  (None, 16, 16, 256)       1024      \n",
      " tchNormalization)                                               \n",
      "                                                                 \n",
      " activation_21 (Activation)  (None, 16, 16, 256)       0         \n",
      "                                                                 \n",
      " conv2d_31 (Conv2D)          (None, 8, 8, 512)         1180160   \n",
      "                                                                 \n",
      " batch_normalization_15 (Ba  (None, 8, 8, 512)         2048      \n",
      " tchNormalization)                                               \n",
      "                                                                 \n",
      " activation_22 (Activation)  (None, 8, 8, 512)         0         \n",
      "                                                                 \n",
      " global_average_pooling2d (  (None, 512)               0         \n",
      " GlobalAveragePooling2D)                                         \n",
      "                                                                 \n",
      " dropout_8 (Dropout)         (None, 512)               0         \n",
      "                                                                 \n",
      " dense_6 (Dense)             (None, 50)                25650     \n",
      "                                                                 \n",
      " dropout_9 (Dropout)         (None, 50)                0         \n",
      "                                                                 \n",
      " dense_7 (Dense)             (None, 10)                510       \n",
      "                                                                 \n",
      "=================================================================\n",
      "Total params: 2247344 (8.57 MB)\n",
      "Trainable params: 2245040 (8.56 MB)\n",
      "Non-trainable params: 2304 (9.00 KB)\n",
      "_________________________________________________________________\n"
     ]
    }
   ],
   "source": [
    "# global average pooling 적용을 위한 모델 생성\n",
    "\n",
    "from tensorflow.keras.layers import Input, Conv2D, GlobalAveragePooling2D, Dense, Activation, BatchNormalization, MaxPooling2D, Dropout\n",
    "from tensorflow.keras.models import Model\n",
    "from tensorflow.keras.optimizers import Adam\n",
    "from tensorflow.keras.callbacks import ReduceLROnPlateau, EarlyStopping, ModelCheckpoint, LearningRateScheduler\n",
    "\n",
    "input_tensor = Input(shape=(IMAGE_SIZE, IMAGE_SIZE, 3))\n",
    "\n",
    "x = Conv2D(filters=32, kernel_size=3, padding='same', kernel_initializer='he_normal')(input_tensor)\n",
    "x = BatchNormalization()(x)\n",
    "x = Activation('relu')(x)\n",
    "\n",
    "x = Conv2D(filters=64, kernel_size=3, padding='same', kernel_initializer='he_normal')(input_tensor)\n",
    "x = BatchNormalization()(x)\n",
    "x = Activation('relu')(x)\n",
    "x = MaxPooling2D(pool_size=2)(x)\n",
    "\n",
    "x = Conv2D(filters=128, kernel_size=3, padding='same', kernel_initializer='he_normal')(input_tensor)\n",
    "x = BatchNormalization()(x)\n",
    "x = Activation('relu')(x)\n",
    "\n",
    "x = Conv2D(filters=128, kernel_size=3, padding='same', kernel_initializer='he_normal')(x)\n",
    "x = Activation('relu')(x)\n",
    "x = Activation('relu')(x)\n",
    "x = MaxPooling2D(pool_size=2)(x)\n",
    "\n",
    "x = Conv2D(filters=256, kernel_size=3, padding='same', kernel_initializer='he_normal')(x)\n",
    "x = BatchNormalization()(x)\n",
    "x = Activation('relu')(x)\n",
    "\n",
    "x = Conv2D(filters=256, kernel_size=3, padding='same', kernel_initializer='he_normal')(x)\n",
    "x = BatchNormalization()(x)\n",
    "x = Activation('relu')(x)\n",
    "\n",
    "x = Conv2D(filters=512, kernel_size=3, strides=2, padding='same', kernel_initializer='he_normal')(x)\n",
    "x = BatchNormalization()(x)\n",
    "x = Activation('relu')(x)\n",
    "\n",
    "# flatten 대신에 global average pooling을 적용\n",
    "x = GlobalAveragePooling2D()(x)\n",
    "x = Dropout(rate=0.5)(x)\n",
    "x = Dense(50, activation='relu')(x)\n",
    "x = Dropout(rate=0.2)(x)\n",
    "output = Dense(10, activation='softmax')(x)\n",
    "\n",
    "model = Model(inputs=input_tensor, outputs=output)\n",
    "\n",
    "model.summary()"
   ]
  },
  {
   "cell_type": "code",
   "execution_count": 39,
   "id": "99ca6f20",
   "metadata": {
    "execution": {
     "iopub.execute_input": "2024-02-11T11:55:15.947490Z",
     "iopub.status.busy": "2024-02-11T11:55:15.947028Z",
     "iopub.status.idle": "2024-02-11T12:08:11.343139Z",
     "shell.execute_reply": "2024-02-11T12:08:11.341869Z"
    },
    "papermill": {
     "duration": 776.534139,
     "end_time": "2024-02-11T12:08:11.345375",
     "exception": false,
     "start_time": "2024-02-11T11:55:14.811236",
     "status": "completed"
    },
    "tags": []
   },
   "outputs": [
    {
     "name": "stdout",
     "output_type": "stream",
     "text": [
      "Epoch 1/30\n",
      "1329/1329 [==============================] - 36s 23ms/step - loss: 1.5046 - accuracy: 0.4421 - val_loss: 1.4127 - val_accuracy: 0.5183 - lr: 0.0010\n",
      "Epoch 2/30\n",
      "1329/1329 [==============================] - 28s 21ms/step - loss: 1.1190 - accuracy: 0.6013 - val_loss: 0.9465 - val_accuracy: 0.6595 - lr: 0.0010\n",
      "Epoch 3/30\n",
      "1329/1329 [==============================] - 28s 21ms/step - loss: 0.9584 - accuracy: 0.6590 - val_loss: 1.1691 - val_accuracy: 0.5991 - lr: 0.0010\n",
      "Epoch 4/30\n",
      "1329/1329 [==============================] - 28s 21ms/step - loss: 0.8550 - accuracy: 0.6971 - val_loss: 0.8043 - val_accuracy: 0.7073 - lr: 0.0010\n",
      "Epoch 5/30\n",
      "1329/1329 [==============================] - 28s 21ms/step - loss: 0.7571 - accuracy: 0.7364 - val_loss: 1.1711 - val_accuracy: 0.6053 - lr: 0.0010\n",
      "Epoch 6/30\n",
      "1329/1329 [==============================] - 28s 21ms/step - loss: 0.6722 - accuracy: 0.7687 - val_loss: 0.7388 - val_accuracy: 0.7451 - lr: 0.0010\n",
      "Epoch 7/30\n",
      "1329/1329 [==============================] - 28s 21ms/step - loss: 0.5984 - accuracy: 0.7991 - val_loss: 0.7295 - val_accuracy: 0.7476 - lr: 0.0010\n",
      "Epoch 8/30\n",
      "1329/1329 [==============================] - 28s 21ms/step - loss: 0.5295 - accuracy: 0.8218 - val_loss: 0.6391 - val_accuracy: 0.7771 - lr: 0.0010\n",
      "Epoch 9/30\n",
      "1329/1329 [==============================] - 28s 21ms/step - loss: 0.4737 - accuracy: 0.8399 - val_loss: 0.7868 - val_accuracy: 0.7392 - lr: 0.0010\n",
      "Epoch 10/30\n",
      "1329/1329 [==============================] - 28s 21ms/step - loss: 0.4191 - accuracy: 0.8579 - val_loss: 0.6715 - val_accuracy: 0.7792 - lr: 0.0010\n",
      "Epoch 11/30\n",
      "1329/1329 [==============================] - 28s 21ms/step - loss: 0.3756 - accuracy: 0.8744 - val_loss: 0.5850 - val_accuracy: 0.8017 - lr: 0.0010\n",
      "Epoch 12/30\n",
      "1329/1329 [==============================] - 28s 21ms/step - loss: 0.3259 - accuracy: 0.8895 - val_loss: 0.7814 - val_accuracy: 0.7664 - lr: 0.0010\n",
      "Epoch 13/30\n",
      "1329/1329 [==============================] - 28s 21ms/step - loss: 0.2931 - accuracy: 0.9021 - val_loss: 0.6710 - val_accuracy: 0.7947 - lr: 0.0010\n",
      "Epoch 14/30\n",
      "1329/1329 [==============================] - 28s 21ms/step - loss: 0.2472 - accuracy: 0.9167 - val_loss: 0.9276 - val_accuracy: 0.7699 - lr: 0.0010\n",
      "Epoch 15/30\n",
      "1329/1329 [==============================] - 28s 21ms/step - loss: 0.2226 - accuracy: 0.9253 - val_loss: 0.7250 - val_accuracy: 0.7896 - lr: 0.0010\n",
      "Epoch 16/30\n",
      "1327/1329 [============================>.] - ETA: 0s - loss: 0.1951 - accuracy: 0.9349\n",
      "Epoch 16: ReduceLROnPlateau reducing learning rate to 0.00020000000949949026.\n",
      "1329/1329 [==============================] - 28s 21ms/step - loss: 0.1952 - accuracy: 0.9349 - val_loss: 0.6157 - val_accuracy: 0.8261 - lr: 0.0010\n",
      "Epoch 17/30\n",
      "1329/1329 [==============================] - 28s 21ms/step - loss: 0.0931 - accuracy: 0.9700 - val_loss: 0.4934 - val_accuracy: 0.8632 - lr: 2.0000e-04\n",
      "Epoch 18/30\n",
      "1329/1329 [==============================] - 28s 21ms/step - loss: 0.0648 - accuracy: 0.9789 - val_loss: 0.5509 - val_accuracy: 0.8607 - lr: 2.0000e-04\n",
      "Epoch 19/30\n",
      "1329/1329 [==============================] - 28s 21ms/step - loss: 0.0552 - accuracy: 0.9822 - val_loss: 0.5660 - val_accuracy: 0.8607 - lr: 2.0000e-04\n",
      "Epoch 20/30\n",
      "1329/1329 [==============================] - 28s 21ms/step - loss: 0.0498 - accuracy: 0.9844 - val_loss: 0.5579 - val_accuracy: 0.8649 - lr: 2.0000e-04\n",
      "Epoch 21/30\n",
      "1329/1329 [==============================] - 28s 21ms/step - loss: 0.0392 - accuracy: 0.9877 - val_loss: 0.6409 - val_accuracy: 0.8587 - lr: 2.0000e-04\n",
      "Epoch 22/30\n",
      "1327/1329 [============================>.] - ETA: 0s - loss: 0.0384 - accuracy: 0.9878\n",
      "Epoch 22: ReduceLROnPlateau reducing learning rate to 4.0000001899898055e-05.\n",
      "1329/1329 [==============================] - 28s 21ms/step - loss: 0.0385 - accuracy: 0.9877 - val_loss: 0.6219 - val_accuracy: 0.8577 - lr: 2.0000e-04\n",
      "Epoch 23/30\n",
      "1329/1329 [==============================] - 28s 21ms/step - loss: 0.0274 - accuracy: 0.9915 - val_loss: 0.5894 - val_accuracy: 0.8681 - lr: 4.0000e-05\n",
      "Epoch 24/30\n",
      "1329/1329 [==============================] - 28s 21ms/step - loss: 0.0243 - accuracy: 0.9929 - val_loss: 0.5905 - val_accuracy: 0.8696 - lr: 4.0000e-05\n",
      "Epoch 25/30\n",
      "1329/1329 [==============================] - 28s 21ms/step - loss: 0.0216 - accuracy: 0.9938 - val_loss: 0.5966 - val_accuracy: 0.8697 - lr: 4.0000e-05\n",
      "Epoch 26/30\n",
      "1329/1329 [==============================] - 28s 21ms/step - loss: 0.0215 - accuracy: 0.9938 - val_loss: 0.6000 - val_accuracy: 0.8701 - lr: 4.0000e-05\n",
      "Epoch 27/30\n",
      "1327/1329 [============================>.] - ETA: 0s - loss: 0.0206 - accuracy: 0.9938\n",
      "Epoch 27: ReduceLROnPlateau reducing learning rate to 8.000000525498762e-06.\n",
      "1329/1329 [==============================] - 28s 21ms/step - loss: 0.0207 - accuracy: 0.9938 - val_loss: 0.6083 - val_accuracy: 0.8691 - lr: 4.0000e-05\n",
      "Epoch 27: early stopping\n"
     ]
    }
   ],
   "source": [
    "model.compile(optimizer=Adam(lr=0.001), loss='categorical_crossentropy', metrics=['accuracy'])\n",
    "\n",
    "# 5번 iteration 내에 validation loss가 좋아지지 않으면 learning rate를 learning * factor로 변경\n",
    "rlr_cb = ReduceLROnPlateau(monitor='val_loss', factor=0.2, patience=5, mode='min', verbose=1)\n",
    "\n",
    "# 10번 iteration 내로 validation loss가 좋아지지 않으면 학습 종료\n",
    "ely_cb = EarlyStopping(monitor='val_loss', patience=10, mode='min', verbose=1)\n",
    "\n",
    "history = model.fit(x=train_images, y=train_oh_labels, batch_size=32, epochs=30, \n",
    "                   validation_split=0.15, callbacks=[rlr_cb, ely_cb])"
   ]
  },
  {
   "cell_type": "code",
   "execution_count": 40,
   "id": "567904f5",
   "metadata": {
    "execution": {
     "iopub.execute_input": "2024-02-11T12:08:15.608461Z",
     "iopub.status.busy": "2024-02-11T12:08:15.608036Z",
     "iopub.status.idle": "2024-02-11T12:08:44.215076Z",
     "shell.execute_reply": "2024-02-11T12:08:44.214174Z"
    },
    "papermill": {
     "duration": 30.732807,
     "end_time": "2024-02-11T12:08:44.217220",
     "exception": false,
     "start_time": "2024-02-11T12:08:13.484413",
     "status": "completed"
    },
    "tags": []
   },
   "outputs": [
    {
     "name": "stdout",
     "output_type": "stream",
     "text": [
      "313/313 [==============================] - 3s 8ms/step - loss: 0.6123 - accuracy: 0.8620\n"
     ]
    },
    {
     "data": {
      "text/plain": [
       "[0.6123188734054565, 0.8619999885559082]"
      ]
     },
     "execution_count": 40,
     "metadata": {},
     "output_type": "execute_result"
    },
    {
     "data": {
      "image/png": "[encoded data removed]",
      "text/plain": [
       "<Figure size 600x600 with 1 Axes>"
      ]
     },
     "metadata": {},
     "output_type": "display_data"
    }
   ],
   "source": [
    "import matplotlib.pyplot as plt\n",
    "%matplotlib inline\n",
    "\n",
    "def show_history(history):\n",
    "    plt.figure(figsize=(6,6))\n",
    "    plt.yticks(np.arange(0,1, 0.05))\n",
    "    plt.plot(history.history['accuracy'], label='train')\n",
    "    plt.plot(history.history['val_accuracy'], label='valid')\n",
    "    plt.legend()\n",
    "\n",
    "show_history(history)\n",
    "\n",
    "model.evaluate(test_images, test_oh_labels)"
   ]
  },
  {
   "cell_type": "markdown",
   "id": "183d65e4",
   "metadata": {
    "papermill": {
     "duration": 2.107695,
     "end_time": "2024-02-11T12:08:48.431459",
     "exception": false,
     "start_time": "2024-02-11T12:08:46.323764",
     "status": "completed"
    },
    "tags": []
   },
   "source": [
    "# Weight Regularization 적용\n",
    "* 모델의 loss 값을 줄이는 것에만 치중하게 되면 가중치 값이 학습데이터에 대해서만 정교화되면서 overfitting 문제가 발생하기 쉽다.\n",
    "* 이를 해결하기 위해 기존 loss 함수 출력값에 전체 가중치 행렬값의 제곱값에 일정 계수를 곱한 값을 더해서 loss 함수 출력값을 조정한다.\n",
    "* layer별로 keras에서 제공하는 3가지 가중치 규제를 적용할 수 있다.\n",
    "    1. l1: 가중치의 절댓값\n",
    "    2. l2: 가중치의 제곱\n",
    "    3. l1_l2: l1과 l2의 결합\n",
    "* 다만 크게 효과가 없는 경우도 많고, 규제를 강하게 걸면 오히려 성능이 떨어지는 경우도 있으니 경험적으로 돌려보고 판단해야 한다."
   ]
  },
  {
   "cell_type": "code",
   "execution_count": 41,
   "id": "31127237",
   "metadata": {
    "execution": {
     "iopub.execute_input": "2024-02-11T12:08:52.659511Z",
     "iopub.status.busy": "2024-02-11T12:08:52.659130Z",
     "iopub.status.idle": "2024-02-11T12:08:52.966545Z",
     "shell.execute_reply": "2024-02-11T12:08:52.965580Z"
    },
    "papermill": {
     "duration": 2.390319,
     "end_time": "2024-02-11T12:08:52.988489",
     "exception": false,
     "start_time": "2024-02-11T12:08:50.598170",
     "status": "completed"
    },
    "tags": []
   },
   "outputs": [
    {
     "name": "stdout",
     "output_type": "stream",
     "text": [
      "Model: \"model_5\"\n",
      "_________________________________________________________________\n",
      " Layer (type)                Output Shape              Param #   \n",
      "=================================================================\n",
      " input_6 (InputLayer)        [(None, 32, 32, 3)]       0         \n",
      "                                                                 \n",
      " conv2d_32 (Conv2D)          (None, 32, 32, 64)        1792      \n",
      "                                                                 \n",
      " batch_normalization_16 (Ba  (None, 32, 32, 64)        256       \n",
      " tchNormalization)                                               \n",
      "                                                                 \n",
      " activation_23 (Activation)  (None, 32, 32, 64)        0         \n",
      "                                                                 \n",
      " conv2d_33 (Conv2D)          (None, 32, 32, 64)        36928     \n",
      "                                                                 \n",
      " batch_normalization_17 (Ba  (None, 32, 32, 64)        256       \n",
      " tchNormalization)                                               \n",
      "                                                                 \n",
      " activation_24 (Activation)  (None, 32, 32, 64)        0         \n",
      "                                                                 \n",
      " max_pooling2d_14 (MaxPooli  (None, 16, 16, 64)        0         \n",
      " ng2D)                                                           \n",
      "                                                                 \n",
      " conv2d_34 (Conv2D)          (None, 16, 16, 128)       73856     \n",
      "                                                                 \n",
      " batch_normalization_18 (Ba  (None, 16, 16, 128)       512       \n",
      " tchNormalization)                                               \n",
      "                                                                 \n",
      " activation_25 (Activation)  (None, 16, 16, 128)       0         \n",
      "                                                                 \n",
      " conv2d_35 (Conv2D)          (None, 16, 16, 128)       147584    \n",
      "                                                                 \n",
      " activation_26 (Activation)  (None, 16, 16, 128)       0         \n",
      "                                                                 \n",
      " activation_27 (Activation)  (None, 16, 16, 128)       0         \n",
      "                                                                 \n",
      " max_pooling2d_15 (MaxPooli  (None, 8, 8, 128)         0         \n",
      " ng2D)                                                           \n",
      "                                                                 \n",
      " conv2d_36 (Conv2D)          (None, 8, 8, 256)         295168    \n",
      "                                                                 \n",
      " batch_normalization_19 (Ba  (None, 8, 8, 256)         1024      \n",
      " tchNormalization)                                               \n",
      "                                                                 \n",
      " activation_28 (Activation)  (None, 8, 8, 256)         0         \n",
      "                                                                 \n",
      " conv2d_37 (Conv2D)          (None, 8, 8, 256)         590080    \n",
      "                                                                 \n",
      " batch_normalization_20 (Ba  (None, 8, 8, 256)         1024      \n",
      " tchNormalization)                                               \n",
      "                                                                 \n",
      " activation_29 (Activation)  (None, 8, 8, 256)         0         \n",
      "                                                                 \n",
      " conv2d_38 (Conv2D)          (None, 4, 4, 512)         1180160   \n",
      "                                                                 \n",
      " batch_normalization_21 (Ba  (None, 4, 4, 512)         2048      \n",
      " tchNormalization)                                               \n",
      "                                                                 \n",
      " activation_30 (Activation)  (None, 4, 4, 512)         0         \n",
      "                                                                 \n",
      " flatten (Flatten)           (None, 8192)              0         \n",
      "                                                                 \n",
      " dropout_10 (Dropout)        (None, 8192)              0         \n",
      "                                                                 \n",
      " fc1 (Dense)                 (None, 300)               2457900   \n",
      "                                                                 \n",
      " dropout_11 (Dropout)        (None, 300)               0         \n",
      "                                                                 \n",
      " output (Dense)              (None, 10)                3010      \n",
      "                                                                 \n",
      "=================================================================\n",
      "Total params: 4791598 (18.28 MB)\n",
      "Trainable params: 4789038 (18.27 MB)\n",
      "Non-trainable params: 2560 (10.00 KB)\n",
      "_________________________________________________________________\n"
     ]
    }
   ],
   "source": [
    "from tensorflow.keras.models import Model\n",
    "from tensorflow.keras.layers import Input, Dense , Conv2D , Dropout , Flatten , Activation, MaxPooling2D , GlobalAveragePooling2D\n",
    "from tensorflow.keras.optimizers import Adam , RMSprop \n",
    "from tensorflow.keras.layers import BatchNormalization\n",
    "from tensorflow.keras.callbacks import ReduceLROnPlateau , EarlyStopping , ModelCheckpoint , LearningRateScheduler\n",
    "from tensorflow.keras.regularizers import l1, l2, l1_l2\n",
    "\n",
    "input_tensor = Input(shape=(IMAGE_SIZE, IMAGE_SIZE, 3))\n",
    "\n",
    "x = Conv2D(filters=64, kernel_size=(3, 3), padding='same', kernel_regularizer=l2(0.00001))(input_tensor)\n",
    "x = BatchNormalization()(x)\n",
    "x = Activation('relu')(x)\n",
    "\n",
    "x = Conv2D(filters=64, kernel_size=(3, 3), padding='same', kernel_regularizer=l2(0.00001))(x)\n",
    "x = BatchNormalization()(x)\n",
    "x = Activation('relu')(x)\n",
    "x = MaxPooling2D(pool_size=(2, 2))(x)\n",
    "\n",
    "x = Conv2D(filters=128, kernel_size=3, padding='same', kernel_regularizer=l1_l2(l1=1e-5, l2=1e-4))(x)\n",
    "x = BatchNormalization()(x)\n",
    "x = Activation('relu')(x)\n",
    "\n",
    "x = Conv2D(filters=128, kernel_size=3, padding='same', kernel_regularizer=l2(1e-5))(x)\n",
    "x = Activation('relu')(x)\n",
    "x = Activation('relu')(x)\n",
    "x = MaxPooling2D(pool_size=2)(x)\n",
    "\n",
    "x = Conv2D(filters=256, kernel_size=3, padding='same', kernel_regularizer=l2(1e-5))(x)\n",
    "x = BatchNormalization()(x)\n",
    "x = Activation('relu')(x)\n",
    "\n",
    "x = Conv2D(filters=256, kernel_size=3, padding='same', kernel_regularizer=l2(1e-5))(x)\n",
    "x = BatchNormalization()(x)\n",
    "x = Activation('relu')(x)\n",
    "\n",
    "# 512 filters Conv layer 추가하되 이후 MaxPooling을 적용하지 않고 strides는 2로 변경하여 출력 feature map 크기 조정\n",
    "x = Conv2D(filters=512, kernel_size=3, strides=2, padding='same', kernel_regularizer=l2(1e-5))(x)\n",
    "x = BatchNormalization()(x)\n",
    "x = Activation('relu')(x)\n",
    "\n",
    "\n",
    "# cifar10의 클래스가 10개 이므로 마지막 classification의 Dense layer units갯수는 10\n",
    "x = Flatten(name='flatten')(x)\n",
    "x = Dropout(rate=0.5)(x)\n",
    "x = Dense(300, activation='relu', kernel_regularizer=l2(1e-5), name='fc1')(x)\n",
    "x = Dropout(rate=0.3)(x)\n",
    "output = Dense(10, activation='softmax', name='output')(x)\n",
    "\n",
    "model = Model(inputs=input_tensor, outputs=output)\n",
    "\n",
    "model.summary()"
   ]
  },
  {
   "cell_type": "code",
   "execution_count": 42,
   "id": "39f08104",
   "metadata": {
    "execution": {
     "iopub.execute_input": "2024-02-11T12:08:57.353545Z",
     "iopub.status.busy": "2024-02-11T12:08:57.352364Z",
     "iopub.status.idle": "2024-02-11T12:15:03.588876Z",
     "shell.execute_reply": "2024-02-11T12:15:03.587709Z"
    },
    "papermill": {
     "duration": 368.360309,
     "end_time": "2024-02-11T12:15:03.591985",
     "exception": false,
     "start_time": "2024-02-11T12:08:55.231676",
     "status": "completed"
    },
    "tags": []
   },
   "outputs": [
    {
     "name": "stdout",
     "output_type": "stream",
     "text": [
      "Epoch 1/30\n",
      "1329/1329 [==============================] - 26s 15ms/step - loss: 1.6378 - accuracy: 0.4271 - val_loss: 1.9509 - val_accuracy: 0.3869 - lr: 0.0010\n",
      "Epoch 2/30\n",
      "1329/1329 [==============================] - 19s 14ms/step - loss: 1.1942 - accuracy: 0.5984 - val_loss: 1.1420 - val_accuracy: 0.6212 - lr: 0.0010\n",
      "Epoch 3/30\n",
      "1329/1329 [==============================] - 19s 14ms/step - loss: 1.0202 - accuracy: 0.6716 - val_loss: 1.0633 - val_accuracy: 0.6623 - lr: 0.0010\n",
      "Epoch 4/30\n",
      "1329/1329 [==============================] - 19s 14ms/step - loss: 0.9136 - accuracy: 0.7196 - val_loss: 0.9886 - val_accuracy: 0.6868 - lr: 0.0010\n",
      "Epoch 5/30\n",
      "1329/1329 [==============================] - 19s 14ms/step - loss: 0.8373 - accuracy: 0.7546 - val_loss: 0.9213 - val_accuracy: 0.7385 - lr: 0.0010\n",
      "Epoch 6/30\n",
      "1329/1329 [==============================] - 19s 14ms/step - loss: 0.7733 - accuracy: 0.7855 - val_loss: 0.8580 - val_accuracy: 0.7623 - lr: 0.0010\n",
      "Epoch 7/30\n",
      "1329/1329 [==============================] - 19s 14ms/step - loss: 0.7095 - accuracy: 0.8173 - val_loss: 1.4245 - val_accuracy: 0.6607 - lr: 0.0010\n",
      "Epoch 8/30\n",
      "1329/1329 [==============================] - 19s 14ms/step - loss: 0.6680 - accuracy: 0.8378 - val_loss: 0.9224 - val_accuracy: 0.7623 - lr: 0.0010\n",
      "Epoch 9/30\n",
      "1329/1329 [==============================] - 19s 14ms/step - loss: 0.6259 - accuracy: 0.8589 - val_loss: 0.7979 - val_accuracy: 0.8095 - lr: 0.0010\n",
      "Epoch 10/30\n",
      "1329/1329 [==============================] - 19s 14ms/step - loss: 0.5865 - accuracy: 0.8778 - val_loss: 0.7996 - val_accuracy: 0.8171 - lr: 0.0010\n",
      "Epoch 11/30\n",
      "1329/1329 [==============================] - 19s 14ms/step - loss: 0.5578 - accuracy: 0.8911 - val_loss: 0.8667 - val_accuracy: 0.8155 - lr: 0.0010\n",
      "Epoch 12/30\n",
      "1329/1329 [==============================] - 19s 14ms/step - loss: 0.5284 - accuracy: 0.9059 - val_loss: 0.8403 - val_accuracy: 0.8227 - lr: 0.0010\n",
      "Epoch 13/30\n",
      "1329/1329 [==============================] - 19s 14ms/step - loss: 0.5200 - accuracy: 0.9138 - val_loss: 0.9056 - val_accuracy: 0.8244 - lr: 0.0010\n",
      "Epoch 14/30\n",
      "1325/1329 [============================>.] - ETA: 0s - loss: 0.5018 - accuracy: 0.9257\n",
      "Epoch 14: ReduceLROnPlateau reducing learning rate to 0.00020000000949949026.\n",
      "1329/1329 [==============================] - 19s 14ms/step - loss: 0.5019 - accuracy: 0.9257 - val_loss: 0.9576 - val_accuracy: 0.8091 - lr: 0.0010\n",
      "Epoch 15/30\n",
      "1329/1329 [==============================] - 19s 14ms/step - loss: 0.3780 - accuracy: 0.9670 - val_loss: 0.8676 - val_accuracy: 0.8684 - lr: 2.0000e-04\n",
      "Epoch 16/30\n",
      "1329/1329 [==============================] - 19s 14ms/step - loss: 0.3283 - accuracy: 0.9815 - val_loss: 0.9493 - val_accuracy: 0.8628 - lr: 2.0000e-04\n",
      "Epoch 17/30\n",
      "1329/1329 [==============================] - 19s 14ms/step - loss: 0.3067 - accuracy: 0.9848 - val_loss: 0.9539 - val_accuracy: 0.8609 - lr: 2.0000e-04\n",
      "Epoch 18/30\n",
      "1329/1329 [==============================] - 19s 14ms/step - loss: 0.2899 - accuracy: 0.9877 - val_loss: 0.9810 - val_accuracy: 0.8683 - lr: 2.0000e-04\n",
      "Epoch 19/30\n",
      "1325/1329 [============================>.] - ETA: 0s - loss: 0.2794 - accuracy: 0.9891\n",
      "Epoch 19: ReduceLROnPlateau reducing learning rate to 4.0000001899898055e-05.\n",
      "1329/1329 [==============================] - 19s 14ms/step - loss: 0.2793 - accuracy: 0.9891 - val_loss: 0.9720 - val_accuracy: 0.8683 - lr: 2.0000e-04\n",
      "Epoch 19: early stopping\n"
     ]
    }
   ],
   "source": [
    "model.compile(optimizer=Adam(lr=0.001), loss='categorical_crossentropy', metrics=['accuracy'])\n",
    "\n",
    "# 5번 iteration내에 validation loss가 향상되지 않으면 learning rate을 기존 learning rate * 0.2로 줄임.  \n",
    "rlr_cb = ReduceLROnPlateau(monitor='val_loss', factor=0.2, patience=5, mode='min', verbose=1)\n",
    "# 10번 iteration내에 validation loss가 향상되지 않으면 더 이상 학습하지 않고 종료\n",
    "ely_cb = EarlyStopping(monitor='val_loss', patience=10, mode='min', verbose=1)\n",
    "\n",
    "\n",
    "history = model.fit(x=train_images, y=train_oh_labels, batch_size=32, epochs=30, shuffle=True,\n",
    "                    validation_split=0.15,  \n",
    "                    callbacks=[rlr_cb, ely_cb])"
   ]
  },
  {
   "cell_type": "code",
   "execution_count": 43,
   "id": "5e40757d",
   "metadata": {
    "execution": {
     "iopub.execute_input": "2024-02-11T12:15:09.067970Z",
     "iopub.status.busy": "2024-02-11T12:15:09.066985Z",
     "iopub.status.idle": "2024-02-11T12:15:11.730769Z",
     "shell.execute_reply": "2024-02-11T12:15:11.729918Z"
    },
    "papermill": {
     "duration": 5.418689,
     "end_time": "2024-02-11T12:15:11.732759",
     "exception": false,
     "start_time": "2024-02-11T12:15:06.314070",
     "status": "completed"
    },
    "tags": []
   },
   "outputs": [
    {
     "name": "stdout",
     "output_type": "stream",
     "text": [
      "313/313 [==============================] - 2s 6ms/step - loss: 1.0040 - accuracy: 0.8633\n"
     ]
    },
    {
     "data": {
      "image/png": "[encoded data removed]",
      "text/plain": [
       "<Figure size 600x600 with 1 Axes>"
      ]
     },
     "metadata": {},
     "output_type": "display_data"
    }
   ],
   "source": [
    "model.evaluate(test_images, test_oh_labels)\n",
    "show_history(history)"
   ]
  },
  {
   "cell_type": "code",
   "execution_count": null,
   "id": "5e56720f",
   "metadata": {
    "papermill": {
     "duration": 2.662224,
     "end_time": "2024-02-11T12:15:17.049812",
     "exception": false,
     "start_time": "2024-02-11T12:15:14.387588",
     "status": "completed"
    },
    "tags": []
   },
   "outputs": [],
   "source": []
  }
 ],
 "metadata": {
  "kaggle": {
   "accelerator": "nvidiaTeslaT4",
   "dataSources": [],
   "dockerImageVersionId": 30648,
   "isGpuEnabled": true,
   "isInternetEnabled": true,
   "language": "python",
   "sourceType": "notebook"
  },
  "kernelspec": {
   "display_name": "Python 3",
   "language": "python",
   "name": "python3"
  },
  "language_info": {
   "codemirror_mode": {
    "name": "ipython",
    "version": 3
   },
   "file_extension": ".py",
   "mimetype": "text/x-python",
   "name": "python",
   "nbconvert_exporter": "python",
   "pygments_lexer": "ipython3",
   "version": "3.10.13"
  },
  "papermill": {
   "default_parameters": {},
   "duration": 2051.781613,
   "end_time": "2024-02-11T12:15:22.687220",
   "environment_variables": {},
   "exception": null,
   "input_path": "__notebook__.ipynb",
   "output_path": "__notebook__.ipynb",
   "parameters": {},
   "start_time": "2024-02-11T11:41:10.905607",
   "version": "2.5.0"
  }
 },
 "nbformat": 4,
 "nbformat_minor": 5
}
