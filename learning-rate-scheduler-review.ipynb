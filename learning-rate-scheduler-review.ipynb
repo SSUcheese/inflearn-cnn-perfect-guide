{
 "cells": [
  {
   "cell_type": "code",
   "execution_count": 1,
   "id": "c8dbd427",
   "metadata": {
    "_cell_guid": "b1076dfc-b9ad-4769-8c92-a6c4dae69d19",
    "_uuid": "8f2839f25d086af736a60e9eeb907d3b93b6e0e5",
    "execution": {
     "iopub.execute_input": "2024-03-18T12:15:55.238390Z",
     "iopub.status.busy": "2024-03-18T12:15:55.237636Z",
     "iopub.status.idle": "2024-03-18T12:15:55.936323Z",
     "shell.execute_reply": "2024-03-18T12:15:55.935117Z"
    },
    "papermill": {
     "duration": 0.711476,
     "end_time": "2024-03-18T12:15:55.939472",
     "exception": false,
     "start_time": "2024-03-18T12:15:55.227996",
     "status": "completed"
    },
    "tags": []
   },
   "outputs": [],
   "source": [
    "# This Python 3 environment comes with many helpful analytics libraries installed\n",
    "# It is defined by the kaggle/python Docker image: https://github.com/kaggle/docker-python\n",
    "# For example, here's several helpful packages to load\n",
    "\n",
    "import numpy as np # linear algebra\n",
    "import pandas as pd # data processing, CSV file I/O (e.g. pd.read_csv)\n",
    "\n",
    "# Input data files are available in the read-only \"../input/\" directory\n",
    "# For example, running this (by clicking run or pressing Shift+Enter) will list all files under the input directory\n",
    "\n",
    "import os\n",
    "for dirname, _, filenames in os.walk('/kaggle/input'):\n",
    "    for filename in filenames:\n",
    "        print(os.path.join(dirname, filename))\n",
    "\n",
    "# You can write up to 20GB to the current directory (/kaggle/working/) that gets preserved as output when you create a version using \"Save & Run All\" \n",
    "# You can also write temporary files to /kaggle/temp/, but they won't be saved outside of the current session"
   ]
  },
  {
   "cell_type": "code",
   "execution_count": 2,
   "id": "ffbf5d4f",
   "metadata": {
    "execution": {
     "iopub.execute_input": "2024-03-18T12:15:55.956044Z",
     "iopub.status.busy": "2024-03-18T12:15:55.955595Z",
     "iopub.status.idle": "2024-03-18T12:15:55.963278Z",
     "shell.execute_reply": "2024-03-18T12:15:55.962442Z"
    },
    "papermill": {
     "duration": 0.018011,
     "end_time": "2024-03-18T12:15:55.965191",
     "exception": false,
     "start_time": "2024-03-18T12:15:55.947180",
     "status": "completed"
    },
    "tags": []
   },
   "outputs": [],
   "source": [
    "%config Completer.use_jedi = False"
   ]
  },
  {
   "cell_type": "markdown",
   "id": "f5f05d69",
   "metadata": {
    "papermill": {
     "duration": 0.00715,
     "end_time": "2024-03-18T12:15:55.979697",
     "exception": false,
     "start_time": "2024-03-18T12:15:55.972547",
     "status": "completed"
    },
    "tags": []
   },
   "source": [
    "### LearningRateScheduler callback 객체에 입력된 scheduler 함수 선언\n",
    "* epoch 증가 시 LR이 exponetially decay 되도록 설정."
   ]
  },
  {
   "cell_type": "code",
   "execution_count": 3,
   "id": "76f6bbde",
   "metadata": {
    "execution": {
     "iopub.execute_input": "2024-03-18T12:15:55.995656Z",
     "iopub.status.busy": "2024-03-18T12:15:55.995335Z",
     "iopub.status.idle": "2024-03-18T12:16:07.810541Z",
     "shell.execute_reply": "2024-03-18T12:16:07.809735Z"
    },
    "papermill": {
     "duration": 11.825778,
     "end_time": "2024-03-18T12:16:07.812839",
     "exception": false,
     "start_time": "2024-03-18T12:15:55.987061",
     "status": "completed"
    },
    "tags": []
   },
   "outputs": [
    {
     "name": "stderr",
     "output_type": "stream",
     "text": [
      "2024-03-18 12:15:57.759472: E external/local_xla/xla/stream_executor/cuda/cuda_dnn.cc:9261] Unable to register cuDNN factory: Attempting to register factory for plugin cuDNN when one has already been registered\n",
      "2024-03-18 12:15:57.759589: E external/local_xla/xla/stream_executor/cuda/cuda_fft.cc:607] Unable to register cuFFT factory: Attempting to register factory for plugin cuFFT when one has already been registered\n",
      "2024-03-18 12:15:57.887550: E external/local_xla/xla/stream_executor/cuda/cuda_blas.cc:1515] Unable to register cuBLAS factory: Attempting to register factory for plugin cuBLAS when one has already been registered\n"
     ]
    }
   ],
   "source": [
    "# learning rate를 동적으로 만들어주는 샘플 함수\n",
    "\n",
    "import tensorflow as tf\n",
    "import numpy as np\n",
    "\n",
    "def scheduler_exp(epoch, lr):\n",
    "    if epoch < 1:\n",
    "        return lr\n",
    "    else:\n",
    "        return lr * np.exp(-1.0)"
   ]
  },
  {
   "cell_type": "markdown",
   "id": "d95e1902",
   "metadata": {
    "papermill": {
     "duration": 0.007371,
     "end_time": "2024-03-18T12:16:07.828466",
     "exception": false,
     "start_time": "2024-03-18T12:16:07.821095",
     "status": "completed"
    },
    "tags": []
   },
   "source": [
    "### LearningRateScheduler로 Learning Rate를 epochs시마다 변경하기\n",
    "* LearningRateScheduler 객체 생성 시 인자로 scheduler 함수 입력하여 생성\n",
    "* model.fit() callbacks 인자로 LearningRateScheduler 객체 입력"
   ]
  },
  {
   "cell_type": "code",
   "execution_count": 4,
   "id": "4a42ae3d",
   "metadata": {
    "execution": {
     "iopub.execute_input": "2024-03-18T12:16:07.845268Z",
     "iopub.status.busy": "2024-03-18T12:16:07.844624Z",
     "iopub.status.idle": "2024-03-18T12:16:07.852486Z",
     "shell.execute_reply": "2024-03-18T12:16:07.851618Z"
    },
    "papermill": {
     "duration": 0.018779,
     "end_time": "2024-03-18T12:16:07.854605",
     "exception": false,
     "start_time": "2024-03-18T12:16:07.835826",
     "status": "completed"
    },
    "tags": []
   },
   "outputs": [
    {
     "data": {
      "text/plain": [
       "array([[0.],\n",
       "       [0.],\n",
       "       [0.],\n",
       "       [0.],\n",
       "       [0.]])"
      ]
     },
     "execution_count": 4,
     "metadata": {},
     "output_type": "execute_result"
    }
   ],
   "source": [
    "np.arange(100).reshape(5, 20)\n",
    "\n",
    "np.zeros((5,1))"
   ]
  },
  {
   "cell_type": "code",
   "execution_count": 5,
   "id": "8be953cb",
   "metadata": {
    "execution": {
     "iopub.execute_input": "2024-03-18T12:16:07.872439Z",
     "iopub.status.busy": "2024-03-18T12:16:07.871861Z",
     "iopub.status.idle": "2024-03-18T12:16:10.144662Z",
     "shell.execute_reply": "2024-03-18T12:16:10.143854Z"
    },
    "papermill": {
     "duration": 2.283699,
     "end_time": "2024-03-18T12:16:10.146872",
     "exception": false,
     "start_time": "2024-03-18T12:16:07.863173",
     "status": "completed"
    },
    "tags": []
   },
   "outputs": [
    {
     "name": "stdout",
     "output_type": "stream",
     "text": [
      "{'name': 'SGD', 'learning_rate': 0.009999999776482582, 'weight_decay': None, 'clipnorm': None, 'global_clipnorm': None, 'clipvalue': None, 'use_ema': False, 'ema_momentum': 0.99, 'ema_overwrite_frequency': None, 'loss_scale_factor': None, 'gradient_accumulation_steps': None, 'momentum': 0.0, 'nesterov': False}\n",
      "\n",
      "Epoch 1: LearningRateScheduler setting learning rate to 0.009999999776482582.\n",
      "Epoch 1/15\n",
      "\u001b[1m1/1\u001b[0m \u001b[32m━━━━━━━━━━━━━━━━━━━━\u001b[0m\u001b[37m\u001b[0m \u001b[1m1s\u001b[0m 1s/step - loss: 2779.2200 - learning_rate: 0.0100\n",
      "\n",
      "Epoch 2: LearningRateScheduler setting learning rate to 0.003678794329486961.\n",
      "Epoch 2/15\n",
      "\u001b[1m1/1\u001b[0m \u001b[32m━━━━━━━━━━━━━━━━━━━━\u001b[0m\u001b[37m\u001b[0m \u001b[1m0s\u001b[0m 23ms/step - loss: 46862404.0000 - learning_rate: 0.0037\n",
      "\n",
      "Epoch 3: LearningRateScheduler setting learning rate to 0.0013533527735202998.\n",
      "Epoch 3/15\n",
      "\u001b[1m1/1\u001b[0m \u001b[32m━━━━━━━━━━━━━━━━━━━━\u001b[0m\u001b[37m\u001b[0m \u001b[1m0s\u001b[0m 23ms/step - loss: 104394563584.0000 - learning_rate: 0.0014\n",
      "\n",
      "Epoch 4: LearningRateScheduler setting learning rate to 0.0004978706704056293.\n",
      "Epoch 4/15\n",
      "\u001b[1m1/1\u001b[0m \u001b[32m━━━━━━━━━━━━━━━━━━━━\u001b[0m\u001b[37m\u001b[0m \u001b[1m0s\u001b[0m 22ms/step - loss: 29223408369664.0000 - learning_rate: 4.9787e-04\n",
      "\n",
      "Epoch 5: LearningRateScheduler setting learning rate to 0.00018315638425888496.\n",
      "Epoch 5/15\n",
      "\u001b[1m1/1\u001b[0m \u001b[32m━━━━━━━━━━━━━━━━━━━━\u001b[0m\u001b[37m\u001b[0m \u001b[1m0s\u001b[0m 23ms/step - loss: 891396101767168.0000 - learning_rate: 1.8316e-04\n",
      "\n",
      "Epoch 6: LearningRateScheduler setting learning rate to 6.737946889238222e-05.\n",
      "Epoch 6/15\n",
      "\u001b[1m1/1\u001b[0m \u001b[32m━━━━━━━━━━━━━━━━━━━━\u001b[0m\u001b[37m\u001b[0m \u001b[1m0s\u001b[0m 23ms/step - loss: 1746272499269632.0000 - learning_rate: 6.7379e-05\n",
      "\n",
      "Epoch 7: LearningRateScheduler setting learning rate to 2.478752219214495e-05.\n",
      "Epoch 7/15\n",
      "\u001b[1m1/1\u001b[0m \u001b[32m━━━━━━━━━━━━━━━━━━━━\u001b[0m\u001b[37m\u001b[0m \u001b[1m0s\u001b[0m 22ms/step - loss: 23993337774080.0000 - learning_rate: 2.4788e-05\n",
      "\n",
      "Epoch 8: LearningRateScheduler setting learning rate to 9.11881951963788e-06.\n",
      "Epoch 8/15\n"
     ]
    },
    {
     "name": "stderr",
     "output_type": "stream",
     "text": [
      "WARNING: All log messages before absl::InitializeLog() is called are written to STDERR\n",
      "I0000 00:00:1710764169.693763      72 device_compiler.h:186] Compiled cluster using XLA!  This line is logged at most once for the lifetime of the process.\n",
      "W0000 00:00:1710764169.709128      72 graph_launch.cc:671] Fallback to op-by-op mode because memset node breaks graph update\n"
     ]
    },
    {
     "name": "stdout",
     "output_type": "stream",
     "text": [
      "\u001b[1m1/1\u001b[0m \u001b[32m━━━━━━━━━━━━━━━━━━━━\u001b[0m\u001b[37m\u001b[0m \u001b[1m0s\u001b[0m 25ms/step - loss: 10939809136640.0000 - learning_rate: 9.1188e-06\n",
      "\n",
      "Epoch 9: LearningRateScheduler setting learning rate to 3.3546261977665306e-06.\n",
      "Epoch 9/15\n",
      "\u001b[1m1/1\u001b[0m \u001b[32m━━━━━━━━━━━━━━━━━━━━\u001b[0m\u001b[37m\u001b[0m \u001b[1m0s\u001b[0m 23ms/step - loss: 8481963245568.0000 - learning_rate: 3.3546e-06\n",
      "\n",
      "Epoch 10: LearningRateScheduler setting learning rate to 1.2340980071972147e-06.\n",
      "Epoch 10/15\n",
      "\u001b[1m1/1\u001b[0m \u001b[32m━━━━━━━━━━━━━━━━━━━━\u001b[0m\u001b[37m\u001b[0m \u001b[1m0s\u001b[0m 22ms/step - loss: 7752762523648.0000 - learning_rate: 1.2341e-06\n",
      "\n",
      "Epoch 11: LearningRateScheduler setting learning rate to 4.53999290682683e-07.\n",
      "Epoch 11/15\n",
      "\u001b[1m1/1\u001b[0m \u001b[32m━━━━━━━━━━━━━━━━━━━━\u001b[0m\u001b[37m\u001b[0m \u001b[1m0s\u001b[0m 27ms/step - loss: 7504084860928.0000 - learning_rate: 4.5400e-07\n",
      "\n",
      "Epoch 12: LearningRateScheduler setting learning rate to 1.6701700564713763e-07.\n",
      "Epoch 12/15\n",
      "\u001b[1m1/1\u001b[0m \u001b[32m━━━━━━━━━━━━━━━━━━━━\u001b[0m\u001b[37m\u001b[0m \u001b[1m0s\u001b[0m 25ms/step - loss: 7415080157184.0000 - learning_rate: 1.6702e-07\n",
      "\n",
      "Epoch 13: LearningRateScheduler setting learning rate to 6.144212299791123e-08.\n",
      "Epoch 13/15\n",
      "\u001b[1m1/1\u001b[0m \u001b[32m━━━━━━━━━━━━━━━━━━━━\u001b[0m\u001b[37m\u001b[0m \u001b[1m0s\u001b[0m 29ms/step - loss: 7382662905856.0000 - learning_rate: 6.1442e-08\n",
      "\n",
      "Epoch 14: LearningRateScheduler setting learning rate to 2.2603293690026108e-08.\n",
      "Epoch 14/15\n",
      "\u001b[1m1/1\u001b[0m \u001b[32m━━━━━━━━━━━━━━━━━━━━\u001b[0m\u001b[37m\u001b[0m \u001b[1m0s\u001b[0m 34ms/step - loss: 7370781491200.0000 - learning_rate: 2.2603e-08\n",
      "\n",
      "Epoch 15: LearningRateScheduler setting learning rate to 8.315286966388352e-09.\n",
      "Epoch 15/15\n",
      "\u001b[1m1/1\u001b[0m \u001b[32m━━━━━━━━━━━━━━━━━━━━\u001b[0m\u001b[37m\u001b[0m \u001b[1m0s\u001b[0m 24ms/step - loss: 7366417842176.0000 - learning_rate: 8.3153e-09\n"
     ]
    }
   ],
   "source": [
    "from tensorflow.keras.models import Sequential\n",
    "from tensorflow.keras.layers import Dense\n",
    "from tensorflow.keras.optimizers import SGD\n",
    "\n",
    "from tensorflow.keras.callbacks import LearningRateScheduler\n",
    "\n",
    "\n",
    "def scheduler_exp(epoch, lr):\n",
    "    if epoch < 1:\n",
    "        return lr\n",
    "    else:\n",
    "        return lr * np.exp(-1.0)\n",
    "\n",
    "\n",
    "# 테스트용 임시 모델 생성\n",
    "model = Sequential([Dense(10)])\n",
    "model.compile(optimizer=SGD(), loss='mse')\n",
    "\n",
    "# optimzer의 learning rate 찾기\n",
    "print(model.optimizer.get_config())\n",
    "\n",
    "# LearningRateScheduler 객체에 인자로 scheduler_exp 함수 등록\n",
    "lr_scheduler = LearningRateScheduler(scheduler_exp, verbose=1)\n",
    "\n",
    "history = model.fit(np.arange(100).reshape(5, 20), np.zeros((5,1)),\n",
    "                   epochs=15, callbacks=[lr_scheduler], verbose=1)"
   ]
  },
  {
   "cell_type": "markdown",
   "id": "7aaadc72",
   "metadata": {
    "papermill": {
     "duration": 0.012353,
     "end_time": "2024-03-18T12:16:10.173373",
     "exception": false,
     "start_time": "2024-03-18T12:16:10.161020",
     "status": "completed"
    },
    "tags": []
   },
   "source": [
    "### scheduler_exp 함수 결과를 시각화"
   ]
  },
  {
   "cell_type": "code",
   "execution_count": 6,
   "id": "b83247af",
   "metadata": {
    "execution": {
     "iopub.execute_input": "2024-03-18T12:16:10.201146Z",
     "iopub.status.busy": "2024-03-18T12:16:10.200325Z",
     "iopub.status.idle": "2024-03-18T12:16:11.041727Z",
     "shell.execute_reply": "2024-03-18T12:16:11.040937Z"
    },
    "papermill": {
     "duration": 0.857253,
     "end_time": "2024-03-18T12:16:11.043877",
     "exception": false,
     "start_time": "2024-03-18T12:16:10.186624",
     "status": "completed"
    },
    "tags": []
   },
   "outputs": [
    {
     "name": "stdout",
     "output_type": "stream",
     "text": [
      "\n",
      "Epoch 1: LearningRateScheduler setting learning rate to 0.01.\n",
      "Epoch 1/15\n",
      "\u001b[1m1/1\u001b[0m \u001b[32m━━━━━━━━━━━━━━━━━━━━\u001b[0m\u001b[37m\u001b[0m \u001b[1m0s\u001b[0m 364ms/step - loss: 6359.7222 - learning_rate: 0.0100\n",
      "\n",
      "Epoch 2: LearningRateScheduler setting learning rate to 0.003678794411714424.\n",
      "Epoch 2/15\n",
      "\u001b[1m1/1\u001b[0m \u001b[32m━━━━━━━━━━━━━━━━━━━━\u001b[0m\u001b[37m\u001b[0m \u001b[1m0s\u001b[0m 25ms/step - loss: 107381864.0000 - learning_rate: 0.0037\n",
      "\n",
      "Epoch 3: LearningRateScheduler setting learning rate to 0.0013533528323661274.\n",
      "Epoch 3/15\n",
      "\u001b[1m1/1\u001b[0m \u001b[32m━━━━━━━━━━━━━━━━━━━━\u001b[0m\u001b[37m\u001b[0m \u001b[1m0s\u001b[0m 25ms/step - loss: 239212806144.0000 - learning_rate: 0.0014\n",
      "\n",
      "Epoch 4: LearningRateScheduler setting learning rate to 0.0004978706836786397.\n",
      "Epoch 4/15\n",
      "\u001b[1m1/1\u001b[0m \u001b[32m━━━━━━━━━━━━━━━━━━━━\u001b[0m\u001b[37m\u001b[0m \u001b[1m0s\u001b[0m 24ms/step - loss: 66963367788544.0000 - learning_rate: 4.9787e-04\n",
      "\n",
      "Epoch 5: LearningRateScheduler setting learning rate to 0.00018315638888734192.\n",
      "Epoch 5/15\n",
      "\u001b[1m1/1\u001b[0m \u001b[32m━━━━━━━━━━━━━━━━━━━━\u001b[0m\u001b[37m\u001b[0m \u001b[1m0s\u001b[0m 24ms/step - loss: 2042571421384704.0000 - learning_rate: 1.8316e-04\n",
      "\n",
      "Epoch 6: LearningRateScheduler setting learning rate to 6.737946999085473e-05.\n",
      "Epoch 6/15\n",
      "\u001b[1m1/1\u001b[0m \u001b[32m━━━━━━━━━━━━━━━━━━━━\u001b[0m\u001b[37m\u001b[0m \u001b[1m0s\u001b[0m 27ms/step - loss: 4001460505280512.0000 - learning_rate: 6.7379e-05\n",
      "\n",
      "Epoch 7: LearningRateScheduler setting learning rate to 2.4787521766663612e-05.\n",
      "Epoch 7/15\n",
      "\u001b[1m1/1\u001b[0m \u001b[32m━━━━━━━━━━━━━━━━━━━━\u001b[0m\u001b[37m\u001b[0m \u001b[1m0s\u001b[0m 27ms/step - loss: 54979029106688.0000 - learning_rate: 2.4788e-05\n",
      "\n",
      "Epoch 8: LearningRateScheduler setting learning rate to 9.118819655545175e-06.\n",
      "Epoch 8/15\n"
     ]
    },
    {
     "name": "stderr",
     "output_type": "stream",
     "text": [
      "W0000 00:00:1710764170.614231      71 graph_launch.cc:671] Fallback to op-by-op mode because memset node breaks graph update\n"
     ]
    },
    {
     "name": "stdout",
     "output_type": "stream",
     "text": [
      "\u001b[1m1/1\u001b[0m \u001b[32m━━━━━━━━━━━━━━━━━━━━\u001b[0m\u001b[37m\u001b[0m \u001b[1m0s\u001b[0m 26ms/step - loss: 25067792629760.0000 - learning_rate: 9.1188e-06\n",
      "\n",
      "Epoch 9: LearningRateScheduler setting learning rate to 3.3546262790251236e-06.\n",
      "Epoch 9/15\n",
      "\u001b[1m1/1\u001b[0m \u001b[32m━━━━━━━━━━━━━━━━━━━━\u001b[0m\u001b[37m\u001b[0m \u001b[1m0s\u001b[0m 25ms/step - loss: 19435815436288.0000 - learning_rate: 3.3546e-06\n",
      "\n",
      "Epoch 10: LearningRateScheduler setting learning rate to 1.2340980408667975e-06.\n",
      "Epoch 10/15\n",
      "\u001b[1m1/1\u001b[0m \u001b[32m━━━━━━━━━━━━━━━━━━━━\u001b[0m\u001b[37m\u001b[0m \u001b[1m0s\u001b[0m 27ms/step - loss: 17764905385984.0000 - learning_rate: 1.2341e-06\n",
      "\n",
      "Epoch 11: LearningRateScheduler setting learning rate to 4.539992976248494e-07.\n",
      "Epoch 11/15\n",
      "\u001b[1m1/1\u001b[0m \u001b[32m━━━━━━━━━━━━━━━━━━━━\u001b[0m\u001b[37m\u001b[0m \u001b[1m0s\u001b[0m 24ms/step - loss: 17195076681728.0000 - learning_rate: 4.5400e-07\n",
      "\n",
      "Epoch 12: LearningRateScheduler setting learning rate to 1.6701700790245693e-07.\n",
      "Epoch 12/15\n",
      "\u001b[1m1/1\u001b[0m \u001b[32m━━━━━━━━━━━━━━━━━━━━\u001b[0m\u001b[37m\u001b[0m \u001b[1m0s\u001b[0m 24ms/step - loss: 16991125504000.0000 - learning_rate: 1.6702e-07\n",
      "\n",
      "Epoch 13: LearningRateScheduler setting learning rate to 6.144212353328224e-08.\n",
      "Epoch 13/15\n",
      "\u001b[1m1/1\u001b[0m \u001b[32m━━━━━━━━━━━━━━━━━━━━\u001b[0m\u001b[37m\u001b[0m \u001b[1m0s\u001b[0m 23ms/step - loss: 16916849623040.0000 - learning_rate: 6.1442e-08\n",
      "\n",
      "Epoch 14: LearningRateScheduler setting learning rate to 2.2603294069810598e-08.\n",
      "Epoch 14/15\n",
      "\u001b[1m1/1\u001b[0m \u001b[32m━━━━━━━━━━━━━━━━━━━━\u001b[0m\u001b[37m\u001b[0m \u001b[1m0s\u001b[0m 27ms/step - loss: 16889622298624.0000 - learning_rate: 2.2603e-08\n",
      "\n",
      "Epoch 15: LearningRateScheduler setting learning rate to 8.3152871910357e-09.\n",
      "Epoch 15/15\n",
      "\u001b[1m1/1\u001b[0m \u001b[32m━━━━━━━━━━━━━━━━━━━━\u001b[0m\u001b[37m\u001b[0m \u001b[1m0s\u001b[0m 24ms/step - loss: 16879620980736.0000 - learning_rate: 8.3153e-09\n"
     ]
    }
   ],
   "source": [
    "def scheduler_exp(epoch):\n",
    "    initial_lr = 0.01\n",
    "    if epoch < 1:\n",
    "        return initial_lr\n",
    "    else:\n",
    "        return initial_lr * np.exp(-1.0)**epoch\n",
    "    \n",
    "model = Sequential([Dense(10)])\n",
    "model.compile(optimizer=SGD(), loss='mse')\n",
    "\n",
    "# LearningRateScheduler 객체에 인자로 scheduler_exp 함수 등록\n",
    "lr_scheduler = LearningRateScheduler(scheduler_exp, verbose=1)\n",
    "history = model.fit(np.arange(100).reshape(5,20), np.zeros((5,1)),\n",
    "                   epochs=15, callbacks=[lr_scheduler], verbose=1)"
   ]
  },
  {
   "cell_type": "code",
   "execution_count": 7,
   "id": "a14474ff",
   "metadata": {
    "execution": {
     "iopub.execute_input": "2024-03-18T12:16:11.083094Z",
     "iopub.status.busy": "2024-03-18T12:16:11.082690Z",
     "iopub.status.idle": "2024-03-18T12:16:11.090520Z",
     "shell.execute_reply": "2024-03-18T12:16:11.089583Z"
    },
    "papermill": {
     "duration": 0.030153,
     "end_time": "2024-03-18T12:16:11.092782",
     "exception": false,
     "start_time": "2024-03-18T12:16:11.062629",
     "status": "completed"
    },
    "tags": []
   },
   "outputs": [
    {
     "data": {
      "text/plain": [
       "[0.01,\n",
       " 0.003678794411714424,\n",
       " 0.0013533528323661274,\n",
       " 0.0004978706836786397,\n",
       " 0.00018315638888734192,\n",
       " 6.737946999085473e-05,\n",
       " 2.4787521766663612e-05,\n",
       " 9.118819655545175e-06,\n",
       " 3.3546262790251236e-06,\n",
       " 1.2340980408667975e-06,\n",
       " 4.539992976248494e-07,\n",
       " 1.6701700790245693e-07,\n",
       " 6.144212353328224e-08,\n",
       " 2.2603294069810598e-08,\n",
       " 8.3152871910357e-09,\n",
       " 3.0590232050182664e-09,\n",
       " 1.1253517471925945e-09,\n",
       " 4.1399377187851794e-10,\n",
       " 1.5229979744712678e-10,\n",
       " 5.602796437537287e-11,\n",
       " 2.0611536224385655e-11,\n",
       " 7.582560427911936e-12,\n",
       " 2.789468092868936e-12,\n",
       " 1.0261879631701935e-12,\n",
       " 3.7751345442791145e-13,\n",
       " 1.3887943864964086e-13,\n",
       " 5.10908902806335e-14,\n",
       " 1.8795288165390926e-14,\n",
       " 6.9144001069402386e-15,\n",
       " 2.5436656473769363e-15]"
      ]
     },
     "execution_count": 7,
     "metadata": {},
     "output_type": "execute_result"
    }
   ],
   "source": [
    "epoch_list = range(30)\n",
    "lr_list = [scheduler_exp(epoch) for epoch in epoch_list]\n",
    "\n",
    "lr_list"
   ]
  },
  {
   "cell_type": "code",
   "execution_count": 8,
   "id": "eb601525",
   "metadata": {
    "execution": {
     "iopub.execute_input": "2024-03-18T12:16:11.132601Z",
     "iopub.status.busy": "2024-03-18T12:16:11.132245Z",
     "iopub.status.idle": "2024-03-18T12:16:11.139831Z",
     "shell.execute_reply": "2024-03-18T12:16:11.138962Z"
    },
    "papermill": {
     "duration": 0.029496,
     "end_time": "2024-03-18T12:16:11.141801",
     "exception": false,
     "start_time": "2024-03-18T12:16:11.112305",
     "status": "completed"
    },
    "tags": []
   },
   "outputs": [],
   "source": [
    "import matplotlib.pyplot as plt\n",
    "%matplotlib inline\n",
    "\n",
    "def plot_scheduler(epochs_list, lr_list, title=None):\n",
    "    plt.figure(figsize=(6,4))\n",
    "    plt.plot(epoch_list,lr_list)\n",
    "    plt.xlabel('epochs')\n",
    "    plt.ylabel('learning rate')\n",
    "    plt.title(title)"
   ]
  },
  {
   "cell_type": "code",
   "execution_count": 9,
   "id": "dc4ddbec",
   "metadata": {
    "execution": {
     "iopub.execute_input": "2024-03-18T12:16:11.181843Z",
     "iopub.status.busy": "2024-03-18T12:16:11.181503Z",
     "iopub.status.idle": "2024-03-18T12:16:11.525969Z",
     "shell.execute_reply": "2024-03-18T12:16:11.524967Z"
    },
    "papermill": {
     "duration": 0.367422,
     "end_time": "2024-03-18T12:16:11.528120",
     "exception": false,
     "start_time": "2024-03-18T12:16:11.160698",
     "status": "completed"
    },
    "tags": []
   },
   "outputs": [
    {
     "data": {
      "image/png": "[encoded data removed]",
      "text/plain": [
       "<Figure size 600x400 with 1 Axes>"
      ]
     },
     "metadata": {},
     "output_type": "display_data"
    }
   ],
   "source": [
    "plot_scheduler(epoch_list, lr_list, title='exponentially decay')"
   ]
  },
  {
   "cell_type": "markdown",
   "id": "992e8ebb",
   "metadata": {
    "papermill": {
     "duration": 0.017654,
     "end_time": "2024-03-18T12:16:11.564053",
     "exception": false,
     "start_time": "2024-03-18T12:16:11.546399",
     "status": "completed"
    },
    "tags": []
   },
   "source": [
    "### 또 다른 함수(step_decay)로 LearningRateScheduler 객체 생성하여 LR 조절"
   ]
  },
  {
   "cell_type": "code",
   "execution_count": 10,
   "id": "4048aadb",
   "metadata": {
    "execution": {
     "iopub.execute_input": "2024-03-18T12:16:11.602188Z",
     "iopub.status.busy": "2024-03-18T12:16:11.601288Z",
     "iopub.status.idle": "2024-03-18T12:16:11.841072Z",
     "shell.execute_reply": "2024-03-18T12:16:11.839967Z"
    },
    "papermill": {
     "duration": 0.2612,
     "end_time": "2024-03-18T12:16:11.843150",
     "exception": false,
     "start_time": "2024-03-18T12:16:11.581950",
     "status": "completed"
    },
    "tags": []
   },
   "outputs": [
    {
     "name": "stdout",
     "output_type": "stream",
     "text": [
      "0 0.1\n",
      "1 0.1\n",
      "2 0.1\n",
      "3 0.1\n",
      "4 0.1\n",
      "5 0.05\n",
      "6 0.05\n",
      "7 0.05\n",
      "8 0.05\n",
      "9 0.05\n",
      "10 0.025\n",
      "11 0.025\n",
      "12 0.025\n",
      "13 0.025\n",
      "14 0.025\n",
      "15 0.0125\n",
      "16 0.0125\n",
      "17 0.0125\n",
      "18 0.0125\n",
      "19 0.0125\n",
      "20 0.00625\n",
      "21 0.00625\n",
      "22 0.00625\n",
      "23 0.00625\n",
      "24 0.00625\n",
      "25 0.003125\n",
      "26 0.003125\n",
      "27 0.003125\n",
      "28 0.003125\n",
      "29 0.003125\n"
     ]
    },
    {
     "data": {
      "image/png": "[encoded data removed]",
      "text/plain": [
       "<Figure size 600x400 with 1 Axes>"
      ]
     },
     "metadata": {},
     "output_type": "display_data"
    }
   ],
   "source": [
    "import tensorflow as tf\n",
    "\n",
    "def step_decay(epoch):\n",
    "    initial_lr = 0.1\n",
    "    drop = 0.5\n",
    "    epochs_drop = 5.0\n",
    "    lr = initial_lr * (drop ** np.floor((epoch)/epochs_drop))\n",
    "    print(epoch, lr)\n",
    "    return lr\n",
    "\n",
    "lr_list = [step_decay(epoch) for epoch in epoch_list]\n",
    "plot_scheduler(epoch_list, lr_list, title='step decay')"
   ]
  },
  {
   "cell_type": "code",
   "execution_count": 11,
   "id": "99d855a6",
   "metadata": {
    "execution": {
     "iopub.execute_input": "2024-03-18T12:16:11.881376Z",
     "iopub.status.busy": "2024-03-18T12:16:11.881037Z",
     "iopub.status.idle": "2024-03-18T12:16:12.691982Z",
     "shell.execute_reply": "2024-03-18T12:16:12.691182Z"
    },
    "papermill": {
     "duration": 0.83233,
     "end_time": "2024-03-18T12:16:12.693889",
     "exception": false,
     "start_time": "2024-03-18T12:16:11.861559",
     "status": "completed"
    },
    "tags": []
   },
   "outputs": [
    {
     "name": "stdout",
     "output_type": "stream",
     "text": [
      "초기 learning_rate:  0.009999999776482582\n",
      "0 0.1\n",
      "\n",
      "Epoch 1: LearningRateScheduler setting learning rate to 0.1.\n",
      "Epoch 1/15\n",
      "\u001b[1m1/1\u001b[0m \u001b[32m━━━━━━━━━━━━━━━━━━━━\u001b[0m\u001b[37m\u001b[0m \u001b[1m0s\u001b[0m 380ms/step - loss: 4480.3887 - learning_rate: 0.1000\n",
      "1 0.1\n",
      "\n",
      "Epoch 2: LearningRateScheduler setting learning rate to 0.1.\n",
      "Epoch 2/15\n",
      "\u001b[1m1/1\u001b[0m \u001b[32m━━━━━━━━━━━━━━━━━━━━\u001b[0m\u001b[37m\u001b[0m \u001b[1m0s\u001b[0m 22ms/step - loss: 7661446144.0000 - learning_rate: 0.1000\n",
      "2 0.1\n",
      "\n",
      "Epoch 3: LearningRateScheduler setting learning rate to 0.1.\n",
      "Epoch 3/15\n",
      "\u001b[1m1/1\u001b[0m \u001b[32m━━━━━━━━━━━━━━━━━━━━\u001b[0m\u001b[37m\u001b[0m \u001b[1m0s\u001b[0m 22ms/step - loss: 13131085118439424.0000 - learning_rate: 0.1000\n",
      "3 0.1\n",
      "\n",
      "Epoch 4: LearningRateScheduler setting learning rate to 0.1.\n",
      "Epoch 4/15\n",
      "\u001b[1m1/1\u001b[0m \u001b[32m━━━━━━━━━━━━━━━━━━━━\u001b[0m\u001b[37m\u001b[0m \u001b[1m0s\u001b[0m 22ms/step - loss: 22505597475278515339264.0000 - learning_rate: 0.1000\n",
      "4 0.1\n",
      "\n",
      "Epoch 5: LearningRateScheduler setting learning rate to 0.1.\n",
      "Epoch 5/15\n",
      "\u001b[1m1/1\u001b[0m \u001b[32m━━━━━━━━━━━━━━━━━━━━\u001b[0m\u001b[37m\u001b[0m \u001b[1m0s\u001b[0m 21ms/step - loss: 38572735695711893286941622272.0000 - learning_rate: 0.1000\n",
      "5 0.05\n",
      "\n",
      "Epoch 6: LearningRateScheduler setting learning rate to 0.05.\n",
      "Epoch 6/15\n",
      "\u001b[1m1/1\u001b[0m \u001b[32m━━━━━━━━━━━━━━━━━━━━\u001b[0m\u001b[37m\u001b[0m \u001b[1m0s\u001b[0m 22ms/step - loss: 66110489344301834039250567584284672.0000 - learning_rate: 0.0500\n",
      "6 0.05\n",
      "\n",
      "Epoch 7: LearningRateScheduler setting learning rate to 0.05.\n",
      "Epoch 7/15\n",
      "\u001b[1m1/1\u001b[0m \u001b[32m━━━━━━━━━━━━━━━━━━━━\u001b[0m\u001b[37m\u001b[0m \u001b[1m0s\u001b[0m 22ms/step - loss: inf - learning_rate: 0.0500\n",
      "7 0.05\n",
      "\n",
      "Epoch 8: LearningRateScheduler setting learning rate to 0.05.\n",
      "Epoch 8/15\n",
      "\u001b[1m1/1\u001b[0m \u001b[32m━━━━━━━━━━━━━━━━━━━━\u001b[0m\u001b[37m\u001b[0m \u001b[1m0s\u001b[0m 22ms/step - loss: inf - learning_rate: 0.0500\n",
      "8 0.05\n",
      "\n",
      "Epoch 9: LearningRateScheduler setting learning rate to 0.05.\n",
      "Epoch 9/15\n"
     ]
    },
    {
     "name": "stderr",
     "output_type": "stream",
     "text": [
      "W0000 00:00:1710764172.312299      71 graph_launch.cc:671] Fallback to op-by-op mode because memset node breaks graph update\n"
     ]
    },
    {
     "name": "stdout",
     "output_type": "stream",
     "text": [
      "\u001b[1m1/1\u001b[0m \u001b[32m━━━━━━━━━━━━━━━━━━━━\u001b[0m\u001b[37m\u001b[0m \u001b[1m0s\u001b[0m 23ms/step - loss: inf - learning_rate: 0.0500\n",
      "9 0.05\n",
      "\n",
      "Epoch 10: LearningRateScheduler setting learning rate to 0.05.\n",
      "Epoch 10/15\n",
      "\u001b[1m1/1\u001b[0m \u001b[32m━━━━━━━━━━━━━━━━━━━━\u001b[0m\u001b[37m\u001b[0m \u001b[1m0s\u001b[0m 22ms/step - loss: inf - learning_rate: 0.0500\n",
      "10 0.025\n",
      "\n",
      "Epoch 11: LearningRateScheduler setting learning rate to 0.025.\n",
      "Epoch 11/15\n",
      "\u001b[1m1/1\u001b[0m \u001b[32m━━━━━━━━━━━━━━━━━━━━\u001b[0m\u001b[37m\u001b[0m \u001b[1m0s\u001b[0m 22ms/step - loss: inf - learning_rate: 0.0250\n",
      "11 0.025\n",
      "\n",
      "Epoch 12: LearningRateScheduler setting learning rate to 0.025.\n",
      "Epoch 12/15\n",
      "\u001b[1m1/1\u001b[0m \u001b[32m━━━━━━━━━━━━━━━━━━━━\u001b[0m\u001b[37m\u001b[0m \u001b[1m0s\u001b[0m 22ms/step - loss: inf - learning_rate: 0.0250\n",
      "12 0.025\n",
      "\n",
      "Epoch 13: LearningRateScheduler setting learning rate to 0.025.\n",
      "Epoch 13/15\n",
      "\u001b[1m1/1\u001b[0m \u001b[32m━━━━━━━━━━━━━━━━━━━━\u001b[0m\u001b[37m\u001b[0m \u001b[1m0s\u001b[0m 22ms/step - loss: inf - learning_rate: 0.0250\n",
      "13 0.025\n",
      "\n",
      "Epoch 14: LearningRateScheduler setting learning rate to 0.025.\n",
      "Epoch 14/15\n",
      "\u001b[1m1/1\u001b[0m \u001b[32m━━━━━━━━━━━━━━━━━━━━\u001b[0m\u001b[37m\u001b[0m \u001b[1m0s\u001b[0m 22ms/step - loss: inf - learning_rate: 0.0250\n",
      "14 0.025\n",
      "\n",
      "Epoch 15: LearningRateScheduler setting learning rate to 0.025.\n",
      "Epoch 15/15\n",
      "\u001b[1m1/1\u001b[0m \u001b[32m━━━━━━━━━━━━━━━━━━━━\u001b[0m\u001b[37m\u001b[0m \u001b[1m0s\u001b[0m 22ms/step - loss: nan - learning_rate: 0.0250\n"
     ]
    }
   ],
   "source": [
    "model = Sequential([Dense(10)])\n",
    "model.compile(optimizer=SGD(), loss='mse')\n",
    "print('초기 learning_rate: ', model.optimizer.get_config().get('learning_rate'))\n",
    "\n",
    "lr_scheduler = LearningRateScheduler(step_decay, verbose=1)\n",
    "history = model.fit(np.arange(100).reshape(5, 20), np.zeros((5, 1)),\n",
    "                   epochs=15, callbacks=[lr_scheduler], verbose=1)"
   ]
  },
  {
   "cell_type": "code",
   "execution_count": 12,
   "id": "c80153de",
   "metadata": {
    "execution": {
     "iopub.execute_input": "2024-03-18T12:16:12.742041Z",
     "iopub.status.busy": "2024-03-18T12:16:12.741644Z",
     "iopub.status.idle": "2024-03-18T12:16:12.746660Z",
     "shell.execute_reply": "2024-03-18T12:16:12.745704Z"
    },
    "papermill": {
     "duration": 0.031446,
     "end_time": "2024-03-18T12:16:12.748676",
     "exception": false,
     "start_time": "2024-03-18T12:16:12.717230",
     "status": "completed"
    },
    "tags": []
   },
   "outputs": [
    {
     "name": "stdout",
     "output_type": "stream",
     "text": [
      "2.15.0\n"
     ]
    }
   ],
   "source": [
    "import tensorflow as tf\n",
    "\n",
    "print(tf.__version__)"
   ]
  },
  {
   "cell_type": "markdown",
   "id": "7204f9b1",
   "metadata": {
    "papermill": {
     "duration": 0.022766,
     "end_time": "2024-03-18T12:16:12.794562",
     "exception": false,
     "start_time": "2024-03-18T12:16:12.771796",
     "status": "completed"
    },
    "tags": []
   },
   "source": [
    "### Cosine Decay 적용하기\n",
    "* Tensorflow 2.x은 cosine decay를 tf.keras.optimizers.schedules에서 제공한다.\n",
    "* tf.keras.experimental.CosineDecay는 callback이 아니라 optimizer의 LearningRateSchedule이며, model.compile()의 optimizer인자의 learning_rate로 값 부여\n",
    "* initial_learning_rate는 초기 learning rate 값\n",
    "* decay steps는 몇 step에 결쳐 learning rate를 감소시키는지 해딩 과정의 수\n",
    "* alpha는 최소 learning rate이고\n",
    "* 최소 learning rate = alpha * initial_learning_rate이다."
   ]
  },
  {
   "cell_type": "code",
   "execution_count": 13,
   "id": "1a91aefc",
   "metadata": {
    "execution": {
     "iopub.execute_input": "2024-03-18T12:16:12.842027Z",
     "iopub.status.busy": "2024-03-18T12:16:12.841637Z",
     "iopub.status.idle": "2024-03-18T12:16:12.850266Z",
     "shell.execute_reply": "2024-03-18T12:16:12.849398Z"
    },
    "papermill": {
     "duration": 0.035097,
     "end_time": "2024-03-18T12:16:12.852166",
     "exception": false,
     "start_time": "2024-03-18T12:16:12.817069",
     "status": "completed"
    },
    "tags": []
   },
   "outputs": [
    {
     "data": {
      "text/plain": [
       "keras.src.optimizers.schedules.learning_rate_schedule.CosineDecay"
      ]
     },
     "execution_count": 13,
     "metadata": {},
     "output_type": "execute_result"
    }
   ],
   "source": [
    "from tensorflow.keras.optimizers.schedules import CosineDecay\n",
    "\n",
    "cosine_decay = CosineDecay(initial_learning_rate=1e-2, decay_steps=30, alpha=1e-2)\n",
    "\n",
    "type(cosine_decay)"
   ]
  },
  {
   "cell_type": "code",
   "execution_count": 14,
   "id": "60b2eb62",
   "metadata": {
    "execution": {
     "iopub.execute_input": "2024-03-18T12:16:12.899900Z",
     "iopub.status.busy": "2024-03-18T12:16:12.899588Z",
     "iopub.status.idle": "2024-03-18T12:16:13.767335Z",
     "shell.execute_reply": "2024-03-18T12:16:13.766336Z"
    },
    "papermill": {
     "duration": 0.894165,
     "end_time": "2024-03-18T12:16:13.769506",
     "exception": false,
     "start_time": "2024-03-18T12:16:12.875341",
     "status": "completed"
    },
    "tags": []
   },
   "outputs": [
    {
     "data": {
      "image/png": "[encoded data removed]",
      "text/plain": [
       "<Figure size 600x400 with 1 Axes>"
      ]
     },
     "metadata": {},
     "output_type": "display_data"
    }
   ],
   "source": [
    "from tensorflow.keras.optimizers.schedules import CosineDecay\n",
    "\n",
    "import matplotlib.pyplot as plt\n",
    "%matplotlib inline\n",
    "\n",
    "def plot_scheduler(epochs_list, lr_list, title=None):\n",
    "    plt.figure(figsize=(6,4))\n",
    "    plt.plot(epochs_list, lr_list)\n",
    "    plt.xlabel('epochs')\n",
    "    plt.ylabel('learning_rate')\n",
    "    plt.title(title)\n",
    "    \n",
    "cosine_decay = CosineDecay(initial_learning_rate=1e-2, decay_steps=30,alpha=1e-2)\n",
    "\n",
    "epochs_list = [i for i in range(0, 30)]\n",
    "lr_list = cosine_decay(epochs_list)\n",
    "\n",
    "plot_scheduler(epochs_list, lr_list, 'Cosine Decay')"
   ]
  },
  {
   "cell_type": "markdown",
   "id": "ab7cb129",
   "metadata": {
    "papermill": {
     "duration": 0.024583,
     "end_time": "2024-03-18T12:16:13.818249",
     "exception": false,
     "start_time": "2024-03-18T12:16:13.793666",
     "status": "completed"
    },
    "tags": []
   },
   "source": [
    "### CosineDecay를 사용하기 위해선 optimizer의 learning rate인자로 입력되어야 한다.\n",
    "* CosineDecay의 경우 callback이 아니므로 fit이 아닌 compile 단게에서 사용되어야 한다."
   ]
  },
  {
   "cell_type": "code",
   "execution_count": 15,
   "id": "23b89ac2",
   "metadata": {
    "execution": {
     "iopub.execute_input": "2024-03-18T12:16:13.868267Z",
     "iopub.status.busy": "2024-03-18T12:16:13.867513Z",
     "iopub.status.idle": "2024-03-18T12:16:15.238196Z",
     "shell.execute_reply": "2024-03-18T12:16:15.237305Z"
    },
    "papermill": {
     "duration": 1.397824,
     "end_time": "2024-03-18T12:16:15.240169",
     "exception": false,
     "start_time": "2024-03-18T12:16:13.842345",
     "status": "completed"
    },
    "tags": []
   },
   "outputs": [
    {
     "name": "stdout",
     "output_type": "stream",
     "text": [
      "Epoch 1/15\n",
      "\u001b[1m1/1\u001b[0m \u001b[32m━━━━━━━━━━━━━━━━━━━━\u001b[0m\u001b[37m\u001b[0m \u001b[1m1s\u001b[0m 979ms/step - loss: 4443.4844\n",
      "Epoch 2/15\n",
      "\u001b[1m1/1\u001b[0m \u001b[32m━━━━━━━━━━━━━━━━━━━━\u001b[0m\u001b[37m\u001b[0m \u001b[1m0s\u001b[0m 23ms/step - loss: 3354.9009\n",
      "Epoch 3/15\n",
      "\u001b[1m1/1\u001b[0m \u001b[32m━━━━━━━━━━━━━━━━━━━━\u001b[0m\u001b[37m\u001b[0m \u001b[1m0s\u001b[0m 21ms/step - loss: 2497.6116\n",
      "Epoch 4/15\n",
      "\u001b[1m1/1\u001b[0m \u001b[32m━━━━━━━━━━━━━━━━━━━━\u001b[0m\u001b[37m\u001b[0m \u001b[1m0s\u001b[0m 21ms/step - loss: 1856.5375\n",
      "Epoch 5/15\n",
      "\u001b[1m1/1\u001b[0m \u001b[32m━━━━━━━━━━━━━━━━━━━━\u001b[0m\u001b[37m\u001b[0m \u001b[1m0s\u001b[0m 22ms/step - loss: 1374.5742\n",
      "Epoch 6/15\n",
      "\u001b[1m1/1\u001b[0m \u001b[32m━━━━━━━━━━━━━━━━━━━━\u001b[0m\u001b[37m\u001b[0m \u001b[1m0s\u001b[0m 22ms/step - loss: 1009.4174\n",
      "Epoch 7/15\n",
      "\u001b[1m1/1\u001b[0m \u001b[32m━━━━━━━━━━━━━━━━━━━━\u001b[0m\u001b[37m\u001b[0m \u001b[1m0s\u001b[0m 23ms/step - loss: 745.3406\n",
      "Epoch 8/15\n",
      "\u001b[1m1/1\u001b[0m \u001b[32m━━━━━━━━━━━━━━━━━━━━\u001b[0m\u001b[37m\u001b[0m \u001b[1m0s\u001b[0m 22ms/step - loss: 566.2536\n",
      "Epoch 9/15\n",
      "\u001b[1m1/1\u001b[0m \u001b[32m━━━━━━━━━━━━━━━━━━━━\u001b[0m\u001b[37m\u001b[0m \u001b[1m0s\u001b[0m 21ms/step - loss: 449.2372\n",
      "Epoch 10/15\n"
     ]
    },
    {
     "name": "stderr",
     "output_type": "stream",
     "text": [
      "W0000 00:00:1710764174.897322      72 graph_launch.cc:671] Fallback to op-by-op mode because memset node breaks graph update\n"
     ]
    },
    {
     "name": "stdout",
     "output_type": "stream",
     "text": [
      "\u001b[1m1/1\u001b[0m \u001b[32m━━━━━━━━━━━━━━━━━━━━\u001b[0m\u001b[37m\u001b[0m \u001b[1m0s\u001b[0m 22ms/step - loss: 370.6284\n",
      "Epoch 11/15\n",
      "\u001b[1m1/1\u001b[0m \u001b[32m━━━━━━━━━━━━━━━━━━━━\u001b[0m\u001b[37m\u001b[0m \u001b[1m0s\u001b[0m 21ms/step - loss: 312.5311\n",
      "Epoch 12/15\n",
      "\u001b[1m1/1\u001b[0m \u001b[32m━━━━━━━━━━━━━━━━━━━━\u001b[0m\u001b[37m\u001b[0m \u001b[1m0s\u001b[0m 21ms/step - loss: 264.2219\n",
      "Epoch 13/15\n",
      "\u001b[1m1/1\u001b[0m \u001b[32m━━━━━━━━━━━━━━━━━━━━\u001b[0m\u001b[37m\u001b[0m \u001b[1m0s\u001b[0m 21ms/step - loss: 220.7915\n",
      "Epoch 14/15\n",
      "\u001b[1m1/1\u001b[0m \u001b[32m━━━━━━━━━━━━━━━━━━━━\u001b[0m\u001b[37m\u001b[0m \u001b[1m0s\u001b[0m 21ms/step - loss: 181.1340\n",
      "Epoch 15/15\n",
      "\u001b[1m1/1\u001b[0m \u001b[32m━━━━━━━━━━━━━━━━━━━━\u001b[0m\u001b[37m\u001b[0m \u001b[1m0s\u001b[0m 21ms/step - loss: 146.0359\n"
     ]
    }
   ],
   "source": [
    "# keras는 epoch 단위로 learning rate를 뽑아낸다.\n",
    "# 하지만 cosine decay를 사용하게 되면 step 단위로 learning rate를 뽑아내서 learning rate를 확인하기 어렵다.\n",
    "\n",
    "from tensorflow.keras.models import Sequential\n",
    "from tensorflow.keras.layers import Dense\n",
    "from tensorflow.keras.optimizers import Adam\n",
    "\n",
    "test_model = Sequential([Dense(units=10)])\n",
    "test_model.compile(optimizer=Adam(learning_rate=cosine_decay), loss='mse')\n",
    "history = test_model.fit(np.arange(100).reshape(5,20), np.zeros((5,1)), epochs=15, verbose=1)"
   ]
  },
  {
   "cell_type": "code",
   "execution_count": 16,
   "id": "132fda88",
   "metadata": {
    "execution": {
     "iopub.execute_input": "2024-03-18T12:16:15.296180Z",
     "iopub.status.busy": "2024-03-18T12:16:15.295699Z",
     "iopub.status.idle": "2024-03-18T12:16:15.534685Z",
     "shell.execute_reply": "2024-03-18T12:16:15.533756Z"
    },
    "papermill": {
     "duration": 0.269179,
     "end_time": "2024-03-18T12:16:15.536803",
     "exception": false,
     "start_time": "2024-03-18T12:16:15.267624",
     "status": "completed"
    },
    "tags": []
   },
   "outputs": [
    {
     "data": {
      "image/png": "[encoded data removed]",
      "text/plain": [
       "<Figure size 600x400 with 1 Axes>"
      ]
     },
     "metadata": {},
     "output_type": "display_data"
    }
   ],
   "source": [
    "# cosine decay 원리\n",
    "\n",
    "decay_steps = 30\n",
    "alpha = 0.0\n",
    "initial_learning_rate = 0.01\n",
    "\n",
    "def decayed_learning_rate(step):\n",
    "    step = min(step, decay_steps)\n",
    "    cosine_decay = 0.5 * (1 + np.cos(np.pi * step / decay_steps))\n",
    "    decayed = (1 - alpha) * cosine_decay + alpha\n",
    "    return initial_learning_rate * decayed\n",
    "\n",
    "steps_list = range(0,30)\n",
    "lr_list = [decayed_learning_rate(step) for step in steps_list]\n",
    "\n",
    "plot_scheduler(steps_list, lr_list, title='cosine_decay')"
   ]
  },
  {
   "cell_type": "markdown",
   "id": "fcbaf35b",
   "metadata": {
    "papermill": {
     "duration": 0.027882,
     "end_time": "2024-03-18T12:16:15.592957",
     "exception": false,
     "start_time": "2024-03-18T12:16:15.565075",
     "status": "completed"
    },
    "tags": []
   },
   "source": [
    "### CosineDecayRestart 적용하기\n",
    "* tf.keras.optimizers.schedules.ConsineDecayRestart를 통해 사용할 수 있다.\n",
    "* 기존 cosine함수 모양으로 감소하는 것에서 추가로 일정한 주기에 따라 cosine함수 모양과 같이 learning rate를 조절해가면서 학습시킨다.\n",
    "* CosineDecay와 마찬가지로 callback이 아니므로 optimizer의 learning rate를 시용해야 한다.\n",
    "* initial_learning_rate는 최초 learning_rate, first_decay_steps는 최초 decay_step 수\n",
    "* t_mul는 전체 steps 수를 감안해서 얼마나 cosine annealing을 반복할 지 결정하는 계수이다.\n",
    "* 만약 1이면 전체 steps/first_decay_steps, 2면 분모를 이전 값 대비 2배로 증가시킴. 결국 이전 cosine 감소하는 부분이 몇 epoch에 걸쳐 감소했는지 값 * t_mul이다.\n",
    "* m_mul은 warm restart 수행시마다 적용될 초기 learning rate. 결국 초기 이전 learning_rate * m_mul이란 뜻이다. 따라서 cosine 함수를 진행할수록 learning rate의 시작값은 점점 작아지게 된다.\n",
    "* alpha는 이전에 CosineDeacy와 같이 최소 learning rate를 결정해준다. 최소 learning rate는 initial_learning_rate * alpha로 설정한다."
   ]
  },
  {
   "cell_type": "code",
   "execution_count": 17,
   "id": "ff33dc56",
   "metadata": {
    "execution": {
     "iopub.execute_input": "2024-03-18T12:16:15.649870Z",
     "iopub.status.busy": "2024-03-18T12:16:15.649501Z",
     "iopub.status.idle": "2024-03-18T12:16:16.518299Z",
     "shell.execute_reply": "2024-03-18T12:16:16.517268Z"
    },
    "papermill": {
     "duration": 0.899718,
     "end_time": "2024-03-18T12:16:16.520340",
     "exception": false,
     "start_time": "2024-03-18T12:16:15.620622",
     "status": "completed"
    },
    "tags": []
   },
   "outputs": [
    {
     "name": "stdout",
     "output_type": "stream",
     "text": [
      "tf.Tensor(\n",
      "[9.9999998e-03 9.7552817e-03 9.0450849e-03 7.9389261e-03 6.5450845e-03\n",
      " 4.9999994e-03 3.4549141e-03 2.0610737e-03 9.5491466e-04 2.4471758e-04\n",
      " 8.9999996e-03 8.7797539e-03 8.1405761e-03 7.1450337e-03 5.8905766e-03\n",
      " 4.4999993e-03 3.1094225e-03 1.8549655e-03 8.5942401e-04 2.2024583e-04\n",
      " 8.0999993e-03 7.9017784e-03 7.3265182e-03 6.4305305e-03 5.3015170e-03\n",
      " 4.0499992e-03 2.7984821e-03 1.6694688e-03 7.7348156e-04 1.9822051e-04\n",
      " 7.2899992e-03 7.1116006e-03 6.5938658e-03 5.7874769e-03 4.7713653e-03\n",
      " 3.6449991e-03 2.5186338e-03 1.5025219e-03 6.9613336e-04 1.7839845e-04\n",
      " 6.5609990e-03 6.4004404e-03 5.9344810e-03 5.2087270e-03 4.2942287e-03\n",
      " 3.2804993e-03 2.2667705e-03 1.3522718e-03 6.2651804e-04 1.6055861e-04\n",
      " 5.9048990e-03 5.7603959e-03 5.3410325e-03 4.6878546e-03 3.8648059e-03\n",
      " 2.9524493e-03 2.0400933e-03 1.2170445e-03 5.6386628e-04 1.4450274e-04\n",
      " 5.3144088e-03 5.1843566e-03 4.8069293e-03 4.2190687e-03 3.4783252e-03\n",
      " 2.6572042e-03 1.8360839e-03 1.0953400e-03 5.0747959e-04 1.3005246e-04\n",
      " 4.7829677e-03 4.6659205e-03 4.3262360e-03 3.7971619e-03 3.1304923e-03\n",
      " 2.3914836e-03 1.6524754e-03 9.8580599e-04 4.5673162e-04 1.1704721e-04\n",
      " 4.3046712e-03 4.1993274e-03 3.8936127e-03 3.4174456e-03 2.8174461e-03\n",
      " 2.1523354e-03 1.4872248e-03 8.8722538e-04 4.1105846e-04 1.0534364e-04\n",
      " 3.8742039e-03 3.7793946e-03 3.5042511e-03 3.0757010e-03 2.5357017e-03\n",
      " 1.9371017e-03 1.3385023e-03 7.9850276e-04 3.6995261e-04 9.4809278e-05\n",
      " 3.4867835e-03 3.4014552e-03 3.1538259e-03 2.7681307e-03 2.2821315e-03\n",
      " 1.7433916e-03 1.2046521e-03 7.1865250e-04 3.3295734e-04 8.5328349e-05\n",
      " 3.1381049e-03 3.0613095e-03 2.8384433e-03 2.4913177e-03 2.0539181e-03\n",
      " 1.5690523e-03 1.0841868e-03 6.4678717e-04 2.9966159e-04 7.6795513e-05], shape=(120,), dtype=float32)\n"
     ]
    },
    {
     "data": {
      "image/png": "[encoded data removed]",
      "text/plain": [
       "<Figure size 600x400 with 1 Axes>"
      ]
     },
     "metadata": {},
     "output_type": "display_data"
    }
   ],
   "source": [
    "from tensorflow.keras.optimizers.schedules import CosineDecayRestarts\n",
    "\n",
    "cosine_decay_restart = CosineDecayRestarts(initial_learning_rate=0.01, first_decay_steps=10, t_mul=1, m_mul=0.9, alpha=0)\n",
    "\n",
    "steps_list = range(0,120)\n",
    "lr_list = cosine_decay_restart(steps_list)\n",
    "\n",
    "plot_scheduler(steps_list, lr_list, 'Cosine Decay Restarts')\n",
    "\n",
    "print(lr_list)"
   ]
  },
  {
   "cell_type": "code",
   "execution_count": 18,
   "id": "ba1f60ca",
   "metadata": {
    "execution": {
     "iopub.execute_input": "2024-03-18T12:16:16.578797Z",
     "iopub.status.busy": "2024-03-18T12:16:16.578198Z",
     "iopub.status.idle": "2024-03-18T12:16:17.784140Z",
     "shell.execute_reply": "2024-03-18T12:16:17.783269Z"
    },
    "papermill": {
     "duration": 1.237143,
     "end_time": "2024-03-18T12:16:17.786105",
     "exception": false,
     "start_time": "2024-03-18T12:16:16.548962",
     "status": "completed"
    },
    "tags": []
   },
   "outputs": [
    {
     "name": "stdout",
     "output_type": "stream",
     "text": [
      "Epoch 1/15\n",
      "\u001b[1m1/1\u001b[0m \u001b[32m━━━━━━━━━━━━━━━━━━━━\u001b[0m\u001b[37m\u001b[0m \u001b[1m1s\u001b[0m 813ms/step - loss: 2120.5747\n",
      "Epoch 2/15\n",
      "\u001b[1m1/1\u001b[0m \u001b[32m━━━━━━━━━━━━━━━━━━━━\u001b[0m\u001b[37m\u001b[0m \u001b[1m0s\u001b[0m 21ms/step - loss: 1376.6927\n",
      "Epoch 3/15\n",
      "\u001b[1m1/1\u001b[0m \u001b[32m━━━━━━━━━━━━━━━━━━━━\u001b[0m\u001b[37m\u001b[0m \u001b[1m0s\u001b[0m 23ms/step - loss: 859.6696\n",
      "Epoch 4/15\n",
      "\u001b[1m1/1\u001b[0m \u001b[32m━━━━━━━━━━━━━━━━━━━━\u001b[0m\u001b[37m\u001b[0m \u001b[1m0s\u001b[0m 22ms/step - loss: 550.4191\n",
      "Epoch 5/15\n",
      "\u001b[1m1/1\u001b[0m \u001b[32m━━━━━━━━━━━━━━━━━━━━\u001b[0m\u001b[37m\u001b[0m \u001b[1m0s\u001b[0m 21ms/step - loss: 382.6563\n",
      "Epoch 6/15\n",
      "\u001b[1m1/1\u001b[0m \u001b[32m━━━━━━━━━━━━━━━━━━━━\u001b[0m\u001b[37m\u001b[0m \u001b[1m0s\u001b[0m 21ms/step - loss: 292.1299\n",
      "Epoch 7/15\n",
      "\u001b[1m1/1\u001b[0m \u001b[32m━━━━━━━━━━━━━━━━━━━━\u001b[0m\u001b[37m\u001b[0m \u001b[1m0s\u001b[0m 21ms/step - loss: 241.4432\n",
      "Epoch 8/15\n",
      "\u001b[1m1/1\u001b[0m \u001b[32m━━━━━━━━━━━━━━━━━━━━\u001b[0m\u001b[37m\u001b[0m \u001b[1m0s\u001b[0m 21ms/step - loss: 211.8315\n",
      "Epoch 9/15\n",
      "\u001b[1m1/1\u001b[0m \u001b[32m━━━━━━━━━━━━━━━━━━━━\u001b[0m\u001b[37m\u001b[0m \u001b[1m0s\u001b[0m 22ms/step - loss: 194.8219\n",
      "Epoch 10/15\n"
     ]
    },
    {
     "name": "stderr",
     "output_type": "stream",
     "text": [
      "W0000 00:00:1710764177.439886      72 graph_launch.cc:671] Fallback to op-by-op mode because memset node breaks graph update\n"
     ]
    },
    {
     "name": "stdout",
     "output_type": "stream",
     "text": [
      "\u001b[1m1/1\u001b[0m \u001b[32m━━━━━━━━━━━━━━━━━━━━\u001b[0m\u001b[37m\u001b[0m \u001b[1m0s\u001b[0m 22ms/step - loss: 186.5927\n",
      "Epoch 11/15\n",
      "\u001b[1m1/1\u001b[0m \u001b[32m━━━━━━━━━━━━━━━━━━━━\u001b[0m\u001b[37m\u001b[0m \u001b[1m0s\u001b[0m 23ms/step - loss: 184.3132\n",
      "Epoch 12/15\n",
      "\u001b[1m1/1\u001b[0m \u001b[32m━━━━━━━━━━━━━━━━━━━━\u001b[0m\u001b[37m\u001b[0m \u001b[1m0s\u001b[0m 22ms/step - loss: 113.8282\n",
      "Epoch 13/15\n",
      "\u001b[1m1/1\u001b[0m \u001b[32m━━━━━━━━━━━━━━━━━━━━\u001b[0m\u001b[37m\u001b[0m \u001b[1m0s\u001b[0m 22ms/step - loss: 77.2548\n",
      "Epoch 14/15\n",
      "\u001b[1m1/1\u001b[0m \u001b[32m━━━━━━━━━━━━━━━━━━━━\u001b[0m\u001b[37m\u001b[0m \u001b[1m0s\u001b[0m 23ms/step - loss: 65.5287\n",
      "Epoch 15/15\n",
      "\u001b[1m1/1\u001b[0m \u001b[32m━━━━━━━━━━━━━━━━━━━━\u001b[0m\u001b[37m\u001b[0m \u001b[1m0s\u001b[0m 21ms/step - loss: 66.1762\n"
     ]
    }
   ],
   "source": [
    "model = Sequential([Dense(10)])\n",
    "model.compile(optimizer=Adam(learning_rate=cosine_decay_restart), loss='mse')\n",
    "\n",
    "history = model.fit(np.arange(100).reshape(5,20), np.zeros((5,1)), epochs=15, verbose=1)"
   ]
  },
  {
   "cell_type": "markdown",
   "id": "1a2c6215",
   "metadata": {
    "papermill": {
     "duration": 0.081892,
     "end_time": "2024-03-18T12:16:17.900491",
     "exception": false,
     "start_time": "2024-03-18T12:16:17.818599",
     "status": "completed"
    },
    "tags": []
   },
   "source": [
    "### Ramp Up and Step Down Decay\n",
    "* Ramp up으로 warm up 수행 후 Step 형식으로 decay허는 방식\n",
    "* Kaggle의 Chris Deotte가 제안한 방식"
   ]
  },
  {
   "cell_type": "code",
   "execution_count": 19,
   "id": "91934ae1",
   "metadata": {
    "execution": {
     "iopub.execute_input": "2024-03-18T12:16:17.967445Z",
     "iopub.status.busy": "2024-03-18T12:16:17.966770Z",
     "iopub.status.idle": "2024-03-18T12:16:18.232107Z",
     "shell.execute_reply": "2024-03-18T12:16:18.231005Z"
    },
    "papermill": {
     "duration": 0.301134,
     "end_time": "2024-03-18T12:16:18.234735",
     "exception": false,
     "start_time": "2024-03-18T12:16:17.933601",
     "status": "completed"
    },
    "tags": []
   },
   "outputs": [
    {
     "name": "stdout",
     "output_type": "stream",
     "text": [
      "epoch: 0 lr: 1e-05\n",
      "epoch: 1 lr: 0.0020080000000000002\n",
      "epoch: 2 lr: 0.004006\n",
      "epoch: 3 lr: 0.006004000000000001\n",
      "epoch: 4 lr: 0.008002\n",
      "epoch: 5 lr: 0.01\n",
      "epoch: 6 lr: 0.01\n",
      "epoch: 7 lr: 0.01\n",
      "epoch: 8 lr: 0.01\n",
      "epoch: 9 lr: 0.01\n",
      "epoch: 10 lr: 0.01\n",
      "epoch: 11 lr: 0.01\n",
      "epoch: 12 lr: 0.01\n",
      "epoch: 13 lr: 0.01\n",
      "epoch: 14 lr: 0.01\n",
      "epoch: 15 lr: 0.01\n",
      "epoch: 16 lr: 0.01\n",
      "epoch: 17 lr: 0.0075\n",
      "epoch: 18 lr: 0.0075\n",
      "epoch: 19 lr: 0.005625\n",
      "epoch: 20 lr: 0.005625\n",
      "epoch: 21 lr: 0.00421875\n",
      "epoch: 22 lr: 0.00421875\n",
      "epoch: 23 lr: 0.0031640625\n",
      "epoch: 24 lr: 0.0031640625\n",
      "epoch: 25 lr: 0.002373046875\n",
      "epoch: 26 lr: 0.002373046875\n",
      "epoch: 27 lr: 0.00177978515625\n",
      "epoch: 28 lr: 0.00177978515625\n",
      "epoch: 29 lr: 0.0013348388671875\n"
     ]
    },
    {
     "data": {
      "image/png": "[encoded data removed]",
      "text/plain": [
       "<Figure size 600x400 with 1 Axes>"
      ]
     },
     "metadata": {},
     "output_type": "display_data"
    }
   ],
   "source": [
    "def lrfn(epoch):\n",
    "    LR_START = 1e-5  # 초기 learning rate\n",
    "    LR_MAX = 1e-2\n",
    "    LR_RAMPUP_EPOCHS = 5  # ramup epoch 크기만큼 learning rate를 올리기를 반복한다.\n",
    "    LR_SUSTAIN_EPOCHS = 10\n",
    "    LR_STEP_DECAY = 0.75\n",
    "    \n",
    "    def calc_fn(epoch):\n",
    "        if epoch < LR_RAMPUP_EPOCHS:\n",
    "            lr = ((LR_MAX-LR_START) / LR_RAMPUP_EPOCHS) *epoch + LR_START\n",
    "        elif epoch < LR_RAMPUP_EPOCHS + LR_SUSTAIN_EPOCHS:\n",
    "            lr = LR_MAX\n",
    "        else:\n",
    "            lr = LR_MAX * LR_STEP_DECAY**((epoch - LR_RAMPUP_EPOCHS - LR_SUSTAIN_EPOCHS)//2)\n",
    "        \n",
    "        print('epoch:', epoch, 'lr:', lr)\n",
    "        \n",
    "        return lr\n",
    "    \n",
    "    return calc_fn(epoch)\n",
    "\n",
    "\n",
    "lr_list = [lrfn(epoch) for epoch  in epochs_list]\n",
    "\n",
    "plot_scheduler(epochs_list, lr_list, title='WarmUp')"
   ]
  },
  {
   "cell_type": "code",
   "execution_count": 20,
   "id": "bc8e91f0",
   "metadata": {
    "execution": {
     "iopub.execute_input": "2024-03-18T12:16:18.313158Z",
     "iopub.status.busy": "2024-03-18T12:16:18.312649Z",
     "iopub.status.idle": "2024-03-18T12:16:19.491260Z",
     "shell.execute_reply": "2024-03-18T12:16:19.490497Z"
    },
    "papermill": {
     "duration": 1.21998,
     "end_time": "2024-03-18T12:16:19.493321",
     "exception": false,
     "start_time": "2024-03-18T12:16:18.273341",
     "status": "completed"
    },
    "tags": []
   },
   "outputs": [
    {
     "name": "stdout",
     "output_type": "stream",
     "text": [
      "epoch: 0 lr: 1e-05\n",
      "Epoch 1/30\n",
      "\u001b[1m1/1\u001b[0m \u001b[32m━━━━━━━━━━━━━━━━━━━━\u001b[0m\u001b[37m\u001b[0m \u001b[1m0s\u001b[0m 368ms/step - loss: 3574.6121 - learning_rate: 1.0000e-05\n",
      "epoch: 1 lr: 0.0020080000000000002\n",
      "Epoch 2/30\n",
      "\u001b[1m1/1\u001b[0m \u001b[32m━━━━━━━━━━━━━━━━━━━━\u001b[0m\u001b[37m\u001b[0m \u001b[1m0s\u001b[0m 22ms/step - loss: 2701.8718 - learning_rate: 0.0020\n",
      "epoch: 2 lr: 0.004006\n",
      "Epoch 3/30\n",
      "\u001b[1m1/1\u001b[0m \u001b[32m━━━━━━━━━━━━━━━━━━━━\u001b[0m\u001b[37m\u001b[0m \u001b[1m0s\u001b[0m 21ms/step - loss: 1723835.3750 - learning_rate: 0.0040\n",
      "epoch: 3 lr: 0.006004000000000001\n",
      "Epoch 4/30\n",
      "\u001b[1m1/1\u001b[0m \u001b[32m━━━━━━━━━━━━━━━━━━━━\u001b[0m\u001b[37m\u001b[0m \u001b[1m0s\u001b[0m 22ms/step - loss: 4569403392.0000 - learning_rate: 0.0060\n",
      "epoch: 4 lr: 0.008002\n",
      "Epoch 5/30\n",
      "\u001b[1m1/1\u001b[0m \u001b[32m━━━━━━━━━━━━━━━━━━━━\u001b[0m\u001b[37m\u001b[0m \u001b[1m0s\u001b[0m 21ms/step - loss: 27560125661184.0000 - learning_rate: 0.0080\n",
      "epoch: 5 lr: 0.01\n",
      "Epoch 6/30\n",
      "\u001b[1m1/1\u001b[0m \u001b[32m━━━━━━━━━━━━━━━━━━━━\u001b[0m\u001b[37m\u001b[0m \u001b[1m0s\u001b[0m 23ms/step - loss: 297171158032187392.0000 - learning_rate: 0.0100\n",
      "epoch: 6 lr: 0.01\n",
      "Epoch 7/30\n",
      "\u001b[1m1/1\u001b[0m \u001b[32m━━━━━━━━━━━━━━━━━━━━\u001b[0m\u001b[37m\u001b[0m \u001b[1m0s\u001b[0m 24ms/step - loss: 5023479968705403682816.0000 - learning_rate: 0.0100\n",
      "epoch: 7 lr: 0.01\n",
      "Epoch 8/30\n",
      "\u001b[1m1/1\u001b[0m \u001b[32m━━━━━━━━━━━━━━━━━━━━\u001b[0m\u001b[37m\u001b[0m \u001b[1m0s\u001b[0m 22ms/step - loss: 84918571772397866838917120.0000 - learning_rate: 0.0100\n",
      "epoch: 8 lr: 0.01\n",
      "Epoch 9/30\n"
     ]
    },
    {
     "name": "stderr",
     "output_type": "stream",
     "text": [
      "W0000 00:00:1710764178.737931      71 graph_launch.cc:671] Fallback to op-by-op mode because memset node breaks graph update\n"
     ]
    },
    {
     "name": "stdout",
     "output_type": "stream",
     "text": [
      "\u001b[1m1/1\u001b[0m \u001b[32m━━━━━━━━━━━━━━━━━━━━\u001b[0m\u001b[37m\u001b[0m \u001b[1m0s\u001b[0m 23ms/step - loss: 1435491967510153894795681988608.0000 - learning_rate: 0.0100\n",
      "epoch: 9 lr: 0.01\n",
      "Epoch 10/30\n",
      "\u001b[1m1/1\u001b[0m \u001b[32m━━━━━━━━━━━━━━━━━━━━\u001b[0m\u001b[37m\u001b[0m \u001b[1m0s\u001b[0m 22ms/step - loss: 24266031325429824167277238687891456.0000 - learning_rate: 0.0100\n",
      "epoch: 10 lr: 0.01\n",
      "Epoch 11/30\n",
      "\u001b[1m1/1\u001b[0m \u001b[32m━━━━━━━━━━━━━━━━━━━━\u001b[0m\u001b[37m\u001b[0m \u001b[1m0s\u001b[0m 21ms/step - loss: inf - learning_rate: 0.0100\n",
      "epoch: 11 lr: 0.01\n",
      "Epoch 12/30\n",
      "\u001b[1m1/1\u001b[0m \u001b[32m━━━━━━━━━━━━━━━━━━━━\u001b[0m\u001b[37m\u001b[0m \u001b[1m0s\u001b[0m 23ms/step - loss: inf - learning_rate: 0.0100\n",
      "epoch: 12 lr: 0.01\n",
      "Epoch 13/30\n",
      "\u001b[1m1/1\u001b[0m \u001b[32m━━━━━━━━━━━━━━━━━━━━\u001b[0m\u001b[37m\u001b[0m \u001b[1m0s\u001b[0m 22ms/step - loss: inf - learning_rate: 0.0100\n",
      "epoch: 13 lr: 0.01\n",
      "Epoch 14/30\n",
      "\u001b[1m1/1\u001b[0m \u001b[32m━━━━━━━━━━━━━━━━━━━━\u001b[0m\u001b[37m\u001b[0m \u001b[1m0s\u001b[0m 22ms/step - loss: inf - learning_rate: 0.0100\n",
      "epoch: 14 lr: 0.01\n",
      "Epoch 15/30\n",
      "\u001b[1m1/1\u001b[0m \u001b[32m━━━━━━━━━━━━━━━━━━━━\u001b[0m\u001b[37m\u001b[0m \u001b[1m0s\u001b[0m 22ms/step - loss: inf - learning_rate: 0.0100\n",
      "epoch: 15 lr: 0.01\n",
      "Epoch 16/30\n",
      "\u001b[1m1/1\u001b[0m \u001b[32m━━━━━━━━━━━━━━━━━━━━\u001b[0m\u001b[37m\u001b[0m \u001b[1m0s\u001b[0m 22ms/step - loss: inf - learning_rate: 0.0100\n",
      "epoch: 16 lr: 0.01\n",
      "Epoch 17/30\n",
      "\u001b[1m1/1\u001b[0m \u001b[32m━━━━━━━━━━━━━━━━━━━━\u001b[0m\u001b[37m\u001b[0m \u001b[1m0s\u001b[0m 21ms/step - loss: inf - learning_rate: 0.0100\n",
      "epoch: 17 lr: 0.0075\n",
      "Epoch 18/30\n",
      "\u001b[1m1/1\u001b[0m \u001b[32m━━━━━━━━━━━━━━━━━━━━\u001b[0m\u001b[37m\u001b[0m \u001b[1m0s\u001b[0m 21ms/step - loss: inf - learning_rate: 0.0075\n",
      "epoch: 18 lr: 0.0075\n",
      "Epoch 19/30\n",
      "\u001b[1m1/1\u001b[0m \u001b[32m━━━━━━━━━━━━━━━━━━━━\u001b[0m\u001b[37m\u001b[0m \u001b[1m0s\u001b[0m 22ms/step - loss: inf - learning_rate: 0.0075\n",
      "epoch: 19 lr: 0.005625\n",
      "Epoch 20/30\n",
      "\u001b[1m1/1\u001b[0m \u001b[32m━━━━━━━━━━━━━━━━━━━━\u001b[0m\u001b[37m\u001b[0m \u001b[1m0s\u001b[0m 22ms/step - loss: inf - learning_rate: 0.0056\n",
      "epoch: 20 lr: 0.005625\n",
      "Epoch 21/30\n",
      "\u001b[1m1/1\u001b[0m \u001b[32m━━━━━━━━━━━━━━━━━━━━\u001b[0m\u001b[37m\u001b[0m \u001b[1m0s\u001b[0m 21ms/step - loss: nan - learning_rate: 0.0056\n",
      "epoch: 21 lr: 0.00421875\n",
      "Epoch 22/30\n",
      "\u001b[1m1/1\u001b[0m \u001b[32m━━━━━━━━━━━━━━━━━━━━\u001b[0m\u001b[37m\u001b[0m \u001b[1m0s\u001b[0m 21ms/step - loss: nan - learning_rate: 0.0042\n",
      "epoch: 22 lr: 0.00421875\n",
      "Epoch 23/30\n",
      "\u001b[1m1/1\u001b[0m \u001b[32m━━━━━━━━━━━━━━━━━━━━\u001b[0m\u001b[37m\u001b[0m \u001b[1m0s\u001b[0m 21ms/step - loss: nan - learning_rate: 0.0042\n",
      "epoch: 23 lr: 0.0031640625\n",
      "Epoch 24/30\n",
      "\u001b[1m1/1\u001b[0m \u001b[32m━━━━━━━━━━━━━━━━━━━━\u001b[0m\u001b[37m\u001b[0m \u001b[1m0s\u001b[0m 21ms/step - loss: nan - learning_rate: 0.0032\n",
      "epoch: 24 lr: 0.0031640625\n",
      "Epoch 25/30\n",
      "\u001b[1m1/1\u001b[0m \u001b[32m━━━━━━━━━━━━━━━━━━━━\u001b[0m\u001b[37m\u001b[0m \u001b[1m0s\u001b[0m 21ms/step - loss: nan - learning_rate: 0.0032\n",
      "epoch: 25 lr: 0.002373046875\n",
      "Epoch 26/30\n",
      "\u001b[1m1/1\u001b[0m \u001b[32m━━━━━━━━━━━━━━━━━━━━\u001b[0m\u001b[37m\u001b[0m \u001b[1m0s\u001b[0m 21ms/step - loss: nan - learning_rate: 0.0024\n",
      "epoch: 26 lr: 0.002373046875\n",
      "Epoch 27/30\n",
      "\u001b[1m1/1\u001b[0m \u001b[32m━━━━━━━━━━━━━━━━━━━━\u001b[0m\u001b[37m\u001b[0m \u001b[1m0s\u001b[0m 23ms/step - loss: nan - learning_rate: 0.0024\n",
      "epoch: 27 lr: 0.00177978515625\n",
      "Epoch 28/30\n",
      "\u001b[1m1/1\u001b[0m \u001b[32m━━━━━━━━━━━━━━━━━━━━\u001b[0m\u001b[37m\u001b[0m \u001b[1m0s\u001b[0m 21ms/step - loss: nan - learning_rate: 0.0018\n",
      "epoch: 28 lr: 0.00177978515625\n",
      "Epoch 29/30\n",
      "\u001b[1m1/1\u001b[0m \u001b[32m━━━━━━━━━━━━━━━━━━━━\u001b[0m\u001b[37m\u001b[0m \u001b[1m0s\u001b[0m 21ms/step - loss: nan - learning_rate: 0.0018\n",
      "epoch: 29 lr: 0.0013348388671875\n",
      "Epoch 30/30\n",
      "\u001b[1m1/1\u001b[0m \u001b[32m━━━━━━━━━━━━━━━━━━━━\u001b[0m\u001b[37m\u001b[0m \u001b[1m0s\u001b[0m 21ms/step - loss: nan - learning_rate: 0.0013\n"
     ]
    }
   ],
   "source": [
    "model = Sequential([Dense(10)])\n",
    "model.compile(tf.keras.optimizers.SGD(), loss='mse')\n",
    "\n",
    "lr_scheduler = tf.keras.callbacks.LearningRateScheduler(lrfn)\n",
    "history = model.fit(np.arange(100).reshape(5, 20), np.zeros((5,1)),\n",
    "                    epochs=30, callbacks=[lr_scheduler], verbose=1)"
   ]
  },
  {
   "cell_type": "code",
   "execution_count": null,
   "id": "15d4d24c",
   "metadata": {
    "papermill": {
     "duration": 0.039653,
     "end_time": "2024-03-18T12:16:19.573225",
     "exception": false,
     "start_time": "2024-03-18T12:16:19.533572",
     "status": "completed"
    },
    "tags": []
   },
   "outputs": [],
   "source": []
  }
 ],
 "metadata": {
  "kaggle": {
   "accelerator": "gpu",
   "dataSources": [],
   "dockerImageVersionId": 30665,
   "isGpuEnabled": true,
   "isInternetEnabled": true,
   "language": "python",
   "sourceType": "notebook"
  },
  "kernelspec": {
   "display_name": "Python 3",
   "language": "python",
   "name": "python3"
  },
  "language_info": {
   "codemirror_mode": {
    "name": "ipython",
    "version": 3
   },
   "file_extension": ".py",
   "mimetype": "text/x-python",
   "name": "python",
   "nbconvert_exporter": "python",
   "pygments_lexer": "ipython3",
   "version": "3.10.13"
  },
  "papermill": {
   "default_parameters": {},
   "duration": 28.99096,
   "end_time": "2024-03-18T12:16:21.536955",
   "environment_variables": {},
   "exception": null,
   "input_path": "__notebook__.ipynb",
   "output_path": "__notebook__.ipynb",
   "parameters": {},
   "start_time": "2024-03-18T12:15:52.545995",
   "version": "2.5.0"
  }
 },
 "nbformat": 4,
 "nbformat_minor": 5
}
