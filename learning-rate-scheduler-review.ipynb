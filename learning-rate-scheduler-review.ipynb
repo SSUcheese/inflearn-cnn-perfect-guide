{
 "cells": [
  {
   "cell_type": "code",
   "execution_count": 1,
   "id": "9b3f83b3",
   "metadata": {
    "_cell_guid": "b1076dfc-b9ad-4769-8c92-a6c4dae69d19",
    "_uuid": "8f2839f25d086af736a60e9eeb907d3b93b6e0e5",
    "execution": {
     "iopub.execute_input": "2024-03-15T12:07:07.319388Z",
     "iopub.status.busy": "2024-03-15T12:07:07.319036Z",
     "iopub.status.idle": "2024-03-15T12:07:08.050484Z",
     "shell.execute_reply": "2024-03-15T12:07:08.049737Z"
    },
    "papermill": {
     "duration": 0.739802,
     "end_time": "2024-03-15T12:07:08.052848",
     "exception": false,
     "start_time": "2024-03-15T12:07:07.313046",
     "status": "completed"
    },
    "tags": []
   },
   "outputs": [],
   "source": [
    "# This Python 3 environment comes with many helpful analytics libraries installed\n",
    "# It is defined by the kaggle/python Docker image: https://github.com/kaggle/docker-python\n",
    "# For example, here's several helpful packages to load\n",
    "\n",
    "import numpy as np # linear algebra\n",
    "import pandas as pd # data processing, CSV file I/O (e.g. pd.read_csv)\n",
    "\n",
    "# Input data files are available in the read-only \"../input/\" directory\n",
    "# For example, running this (by clicking run or pressing Shift+Enter) will list all files under the input directory\n",
    "\n",
    "import os\n",
    "for dirname, _, filenames in os.walk('/kaggle/input'):\n",
    "    for filename in filenames:\n",
    "        print(os.path.join(dirname, filename))\n",
    "\n",
    "# You can write up to 20GB to the current directory (/kaggle/working/) that gets preserved as output when you create a version using \"Save & Run All\" \n",
    "# You can also write temporary files to /kaggle/temp/, but they won't be saved outside of the current session"
   ]
  },
  {
   "cell_type": "markdown",
   "id": "0ede80cc",
   "metadata": {
    "papermill": {
     "duration": 0.004114,
     "end_time": "2024-03-15T12:07:08.061674",
     "exception": false,
     "start_time": "2024-03-15T12:07:08.057560",
     "status": "completed"
    },
    "tags": []
   },
   "source": [
    "### LearningRateScheduler callback 객체에 입력된 scheduler 함수 선언\n",
    "* epoch 증가 시 LR이 exponetially decay 되도록 설정."
   ]
  },
  {
   "cell_type": "code",
   "execution_count": 2,
   "id": "0aa66be8",
   "metadata": {
    "execution": {
     "iopub.execute_input": "2024-03-15T12:07:08.071311Z",
     "iopub.status.busy": "2024-03-15T12:07:08.070966Z",
     "iopub.status.idle": "2024-03-15T12:07:19.777784Z",
     "shell.execute_reply": "2024-03-15T12:07:19.776969Z"
    },
    "papermill": {
     "duration": 11.714272,
     "end_time": "2024-03-15T12:07:19.780144",
     "exception": false,
     "start_time": "2024-03-15T12:07:08.065872",
     "status": "completed"
    },
    "tags": []
   },
   "outputs": [
    {
     "name": "stderr",
     "output_type": "stream",
     "text": [
      "2024-03-15 12:07:09.849966: E external/local_xla/xla/stream_executor/cuda/cuda_dnn.cc:9261] Unable to register cuDNN factory: Attempting to register factory for plugin cuDNN when one has already been registered\n",
      "2024-03-15 12:07:09.850086: E external/local_xla/xla/stream_executor/cuda/cuda_fft.cc:607] Unable to register cuFFT factory: Attempting to register factory for plugin cuFFT when one has already been registered\n",
      "2024-03-15 12:07:09.991530: E external/local_xla/xla/stream_executor/cuda/cuda_blas.cc:1515] Unable to register cuBLAS factory: Attempting to register factory for plugin cuBLAS when one has already been registered\n"
     ]
    }
   ],
   "source": [
    "# learning rate를 동적으로 만들어주는 샘플 함수\n",
    "\n",
    "import tensorflow as tf\n",
    "import numpy as np\n",
    "\n",
    "def scheduler_exp(epoch, lr):\n",
    "    if epoch < 1:\n",
    "        return lr\n",
    "    else:\n",
    "        return lr * np.exp(-1.0)"
   ]
  },
  {
   "cell_type": "markdown",
   "id": "9bda8199",
   "metadata": {
    "papermill": {
     "duration": 0.00422,
     "end_time": "2024-03-15T12:07:19.789139",
     "exception": false,
     "start_time": "2024-03-15T12:07:19.784919",
     "status": "completed"
    },
    "tags": []
   },
   "source": [
    "### LearningRateScheduler로 Learning Rate를 epochs시마다 변경하기\n",
    "* LearningRateScheduler 객체 생성 시 인자로 scheduler 함수 입력하여 생성\n",
    "* model.fit() callbacks 인자로 LearningRateScheduler 객체 입력"
   ]
  },
  {
   "cell_type": "code",
   "execution_count": 3,
   "id": "27f54782",
   "metadata": {
    "execution": {
     "iopub.execute_input": "2024-03-15T12:07:19.799215Z",
     "iopub.status.busy": "2024-03-15T12:07:19.798691Z",
     "iopub.status.idle": "2024-03-15T12:07:19.806274Z",
     "shell.execute_reply": "2024-03-15T12:07:19.805373Z"
    },
    "papermill": {
     "duration": 0.014855,
     "end_time": "2024-03-15T12:07:19.808322",
     "exception": false,
     "start_time": "2024-03-15T12:07:19.793467",
     "status": "completed"
    },
    "tags": []
   },
   "outputs": [
    {
     "data": {
      "text/plain": [
       "array([[0.],\n",
       "       [0.],\n",
       "       [0.],\n",
       "       [0.],\n",
       "       [0.]])"
      ]
     },
     "execution_count": 3,
     "metadata": {},
     "output_type": "execute_result"
    }
   ],
   "source": [
    "np.arange(100).reshape(5, 20)\n",
    "\n",
    "np.zeros((5,1))"
   ]
  },
  {
   "cell_type": "code",
   "execution_count": 4,
   "id": "ea05118a",
   "metadata": {
    "execution": {
     "iopub.execute_input": "2024-03-15T12:07:19.818645Z",
     "iopub.status.busy": "2024-03-15T12:07:19.818382Z",
     "iopub.status.idle": "2024-03-15T12:07:22.056076Z",
     "shell.execute_reply": "2024-03-15T12:07:22.055233Z"
    },
    "papermill": {
     "duration": 2.245006,
     "end_time": "2024-03-15T12:07:22.057999",
     "exception": false,
     "start_time": "2024-03-15T12:07:19.812993",
     "status": "completed"
    },
    "tags": []
   },
   "outputs": [
    {
     "name": "stdout",
     "output_type": "stream",
     "text": [
      "{'name': 'SGD', 'learning_rate': 0.009999999776482582, 'weight_decay': None, 'clipnorm': None, 'global_clipnorm': None, 'clipvalue': None, 'use_ema': False, 'ema_momentum': 0.99, 'ema_overwrite_frequency': None, 'loss_scale_factor': None, 'gradient_accumulation_steps': None, 'momentum': 0.0, 'nesterov': False}\n",
      "\n",
      "Epoch 1: LearningRateScheduler setting learning rate to 0.009999999776482582.\n",
      "Epoch 1/15\n",
      "\u001b[1m1/1\u001b[0m \u001b[32m━━━━━━━━━━━━━━━━━━━━\u001b[0m\u001b[37m\u001b[0m \u001b[1m1s\u001b[0m 1s/step - loss: 5132.3955 - learning_rate: 0.0100\n",
      "\n",
      "Epoch 2: LearningRateScheduler setting learning rate to 0.003678794329486961.\n",
      "Epoch 2/15\n",
      "\u001b[1m1/1\u001b[0m \u001b[32m━━━━━━━━━━━━━━━━━━━━\u001b[0m\u001b[37m\u001b[0m \u001b[1m0s\u001b[0m 22ms/step - loss: 86430736.0000 - learning_rate: 0.0037\n",
      "\n",
      "Epoch 3: LearningRateScheduler setting learning rate to 0.0013533527735202998.\n",
      "Epoch 3/15\n",
      "\u001b[1m1/1\u001b[0m \u001b[32m━━━━━━━━━━━━━━━━━━━━\u001b[0m\u001b[37m\u001b[0m \u001b[1m0s\u001b[0m 21ms/step - loss: 192540229632.0000 - learning_rate: 0.0014\n",
      "\n",
      "Epoch 4: LearningRateScheduler setting learning rate to 0.0004978706704056293.\n",
      "Epoch 4/15\n",
      "\u001b[1m1/1\u001b[0m \u001b[32m━━━━━━━━━━━━━━━━━━━━\u001b[0m\u001b[37m\u001b[0m \u001b[1m0s\u001b[0m 26ms/step - loss: 53898228269056.0000 - learning_rate: 4.9787e-04\n",
      "\n",
      "Epoch 5: LearningRateScheduler setting learning rate to 0.00018315638425888496.\n",
      "Epoch 5/15\n",
      "\u001b[1m1/1\u001b[0m \u001b[32m━━━━━━━━━━━━━━━━━━━━\u001b[0m\u001b[37m\u001b[0m \u001b[1m0s\u001b[0m 21ms/step - loss: 1644047982657536.0000 - learning_rate: 1.8316e-04\n",
      "\n",
      "Epoch 6: LearningRateScheduler setting learning rate to 6.737946889238222e-05.\n",
      "Epoch 6/15\n",
      "\u001b[1m1/1\u001b[0m \u001b[32m━━━━━━━━━━━━━━━━━━━━\u001b[0m\u001b[37m\u001b[0m \u001b[1m0s\u001b[0m 22ms/step - loss: 3220741482872832.0000 - learning_rate: 6.7379e-05\n",
      "\n",
      "Epoch 7: LearningRateScheduler setting learning rate to 2.478752219214495e-05.\n",
      "Epoch 7/15\n",
      "\u001b[1m1/1\u001b[0m \u001b[32m━━━━━━━━━━━━━━━━━━━━\u001b[0m\u001b[37m\u001b[0m \u001b[1m0s\u001b[0m 21ms/step - loss: 44252163735552.0000 - learning_rate: 2.4788e-05\n",
      "\n",
      "Epoch 8: LearningRateScheduler setting learning rate to 9.11881951963788e-06.\n",
      "Epoch 8/15\n",
      "\u001b[1m1/1\u001b[0m \u001b[32m━━━━━━━━━━━━━━━━━━━━\u001b[0m\u001b[37m\u001b[0m \u001b[1m0s\u001b[0m 21ms/step - loss: 20176862969856.0000 - learning_rate: 9.1188e-06\n"
     ]
    },
    {
     "name": "stderr",
     "output_type": "stream",
     "text": [
      "WARNING: All log messages before absl::InitializeLog() is called are written to STDERR\n",
      "I0000 00:00:1710504441.624672      72 device_compiler.h:186] Compiled cluster using XLA!  This line is logged at most once for the lifetime of the process.\n"
     ]
    },
    {
     "name": "stdout",
     "output_type": "stream",
     "text": [
      "\n",
      "Epoch 9: LearningRateScheduler setting learning rate to 3.3546261977665306e-06.\n",
      "Epoch 9/15\n",
      "\u001b[1m1/1\u001b[0m \u001b[32m━━━━━━━━━━━━━━━━━━━━\u001b[0m\u001b[37m\u001b[0m \u001b[1m0s\u001b[0m 22ms/step - loss: 15643727364096.0000 - learning_rate: 3.3546e-06\n",
      "\n",
      "Epoch 10: LearningRateScheduler setting learning rate to 1.2340980071972147e-06.\n",
      "Epoch 10/15\n",
      "\u001b[1m1/1\u001b[0m \u001b[32m━━━━━━━━━━━━━━━━━━━━\u001b[0m\u001b[37m\u001b[0m \u001b[1m0s\u001b[0m 21ms/step - loss: 14298823786496.0000 - learning_rate: 1.2341e-06\n",
      "\n",
      "Epoch 11: LearningRateScheduler setting learning rate to 4.53999290682683e-07.\n",
      "Epoch 11/15\n",
      "\u001b[1m1/1\u001b[0m \u001b[32m━━━━━━━━━━━━━━━━━━━━\u001b[0m\u001b[37m\u001b[0m \u001b[1m0s\u001b[0m 21ms/step - loss: 13840175595520.0000 - learning_rate: 4.5400e-07\n",
      "\n",
      "Epoch 12: LearningRateScheduler setting learning rate to 1.6701700564713763e-07.\n",
      "Epoch 12/15\n",
      "\u001b[1m1/1\u001b[0m \u001b[32m━━━━━━━━━━━━━━━━━━━━\u001b[0m\u001b[37m\u001b[0m \u001b[1m0s\u001b[0m 23ms/step - loss: 13676017876992.0000 - learning_rate: 1.6702e-07\n",
      "\n",
      "Epoch 13: LearningRateScheduler setting learning rate to 6.144212299791123e-08.\n",
      "Epoch 13/15\n",
      "\u001b[1m1/1\u001b[0m \u001b[32m━━━━━━━━━━━━━━━━━━━━\u001b[0m\u001b[37m\u001b[0m \u001b[1m0s\u001b[0m 60ms/step - loss: 13616231219200.0000 - learning_rate: 6.1442e-08\n",
      "\n",
      "Epoch 14: LearningRateScheduler setting learning rate to 2.2603293690026108e-08.\n",
      "Epoch 14/15\n",
      "\u001b[1m1/1\u001b[0m \u001b[32m━━━━━━━━━━━━━━━━━━━━\u001b[0m\u001b[37m\u001b[0m \u001b[1m0s\u001b[0m 27ms/step - loss: 13594317029376.0000 - learning_rate: 2.2603e-08\n",
      "\n",
      "Epoch 15: LearningRateScheduler setting learning rate to 8.315286966388352e-09.\n",
      "Epoch 15/15\n",
      "\u001b[1m1/1\u001b[0m \u001b[32m━━━━━━━━━━━━━━━━━━━━\u001b[0m\u001b[37m\u001b[0m \u001b[1m0s\u001b[0m 21ms/step - loss: 13586267111424.0000 - learning_rate: 8.3153e-09\n"
     ]
    }
   ],
   "source": [
    "from tensorflow.keras.models import Sequential\n",
    "from tensorflow.keras.layers import Dense\n",
    "from tensorflow.keras.optimizers import SGD\n",
    "\n",
    "from tensorflow.keras.callbacks import LearningRateScheduler\n",
    "\n",
    "\n",
    "def scheduler_exp(epoch, lr):\n",
    "    if epoch < 1:\n",
    "        return lr\n",
    "    else:\n",
    "        return lr * np.exp(-1.0)\n",
    "\n",
    "\n",
    "# 테스트용 임시 모델 생성\n",
    "model = Sequential([Dense(10)])\n",
    "model.compile(optimizer=SGD(), loss='mse')\n",
    "\n",
    "# optimzer의 learning rate 찾기\n",
    "print(model.optimizer.get_config())\n",
    "\n",
    "# LearningRateScheduler 객체에 인자로 scheduler_exp 함수 등록\n",
    "lr_scheduler = LearningRateScheduler(scheduler_exp, verbose=1)\n",
    "\n",
    "history = model.fit(np.arange(100).reshape(5, 20), np.zeros((5,1)),\n",
    "                   epochs=15, callbacks=[lr_scheduler], verbose=1)"
   ]
  },
  {
   "cell_type": "markdown",
   "id": "29b2a7ca",
   "metadata": {
    "papermill": {
     "duration": 0.00917,
     "end_time": "2024-03-15T12:07:22.076548",
     "exception": false,
     "start_time": "2024-03-15T12:07:22.067378",
     "status": "completed"
    },
    "tags": []
   },
   "source": [
    "### scheduler_exp 함수 결과를 시각화"
   ]
  },
  {
   "cell_type": "code",
   "execution_count": 5,
   "id": "e136f711",
   "metadata": {
    "execution": {
     "iopub.execute_input": "2024-03-15T12:07:22.099199Z",
     "iopub.status.busy": "2024-03-15T12:07:22.098890Z",
     "iopub.status.idle": "2024-03-15T12:07:22.877789Z",
     "shell.execute_reply": "2024-03-15T12:07:22.877023Z"
    },
    "papermill": {
     "duration": 0.791209,
     "end_time": "2024-03-15T12:07:22.879707",
     "exception": false,
     "start_time": "2024-03-15T12:07:22.088498",
     "status": "completed"
    },
    "tags": []
   },
   "outputs": [
    {
     "name": "stdout",
     "output_type": "stream",
     "text": [
      "\n",
      "Epoch 1: LearningRateScheduler setting learning rate to 0.01.\n",
      "Epoch 1/15\n",
      "\u001b[1m1/1\u001b[0m \u001b[32m━━━━━━━━━━━━━━━━━━━━\u001b[0m\u001b[37m\u001b[0m \u001b[1m0s\u001b[0m 374ms/step - loss: 3855.6301 - learning_rate: 0.0100\n",
      "\n",
      "Epoch 2: LearningRateScheduler setting learning rate to 0.003678794411714424.\n",
      "Epoch 2/15\n",
      "\u001b[1m1/1\u001b[0m \u001b[32m━━━━━━━━━━━━━━━━━━━━\u001b[0m\u001b[37m\u001b[0m \u001b[1m0s\u001b[0m 21ms/step - loss: 65091392.0000 - learning_rate: 0.0037\n",
      "\n",
      "Epoch 3: LearningRateScheduler setting learning rate to 0.0013533528323661274.\n",
      "Epoch 3/15\n",
      "\u001b[1m1/1\u001b[0m \u001b[32m━━━━━━━━━━━━━━━━━━━━\u001b[0m\u001b[37m\u001b[0m \u001b[1m0s\u001b[0m 21ms/step - loss: 145003003904.0000 - learning_rate: 0.0014\n",
      "\n",
      "Epoch 4: LearningRateScheduler setting learning rate to 0.0004978706836786397.\n",
      "Epoch 4/15\n",
      "\u001b[1m1/1\u001b[0m \u001b[32m━━━━━━━━━━━━━━━━━━━━\u001b[0m\u001b[37m\u001b[0m \u001b[1m0s\u001b[0m 20ms/step - loss: 40591018688512.0000 - learning_rate: 4.9787e-04\n",
      "\n",
      "Epoch 5: LearningRateScheduler setting learning rate to 0.00018315638888734192.\n",
      "Epoch 5/15\n",
      "\u001b[1m1/1\u001b[0m \u001b[32m━━━━━━━━━━━━━━━━━━━━\u001b[0m\u001b[37m\u001b[0m \u001b[1m0s\u001b[0m 21ms/step - loss: 1238140689842176.0000 - learning_rate: 1.8316e-04\n",
      "\n",
      "Epoch 6: LearningRateScheduler setting learning rate to 6.737946999085473e-05.\n",
      "Epoch 6/15\n",
      "\u001b[1m1/1\u001b[0m \u001b[32m━━━━━━━━━━━━━━━━━━━━\u001b[0m\u001b[37m\u001b[0m \u001b[1m0s\u001b[0m 20ms/step - loss: 2425556205305856.0000 - learning_rate: 6.7379e-05\n",
      "\n",
      "Epoch 7: LearningRateScheduler setting learning rate to 2.4787521766663612e-05.\n",
      "Epoch 7/15\n",
      "\u001b[1m1/1\u001b[0m \u001b[32m━━━━━━━━━━━━━━━━━━━━\u001b[0m\u001b[37m\u001b[0m \u001b[1m0s\u001b[0m 22ms/step - loss: 33326511423488.0000 - learning_rate: 2.4788e-05\n",
      "\n",
      "Epoch 8: LearningRateScheduler setting learning rate to 9.118819655545175e-06.\n",
      "Epoch 8/15\n",
      "\u001b[1m1/1\u001b[0m \u001b[32m━━━━━━━━━━━━━━━━━━━━\u001b[0m\u001b[37m\u001b[0m \u001b[1m0s\u001b[0m 22ms/step - loss: 15195289157632.0000 - learning_rate: 9.1188e-06\n",
      "\n",
      "Epoch 9: LearningRateScheduler setting learning rate to 3.3546262790251236e-06.\n",
      "Epoch 9/15\n",
      "\u001b[1m1/1\u001b[0m \u001b[32m━━━━━━━━━━━━━━━━━━━━\u001b[0m\u001b[37m\u001b[0m \u001b[1m0s\u001b[0m 21ms/step - loss: 11781362679808.0000 - learning_rate: 3.3546e-06\n",
      "\n",
      "Epoch 10: LearningRateScheduler setting learning rate to 1.2340980408667975e-06.\n",
      "Epoch 10/15\n",
      "\u001b[1m1/1\u001b[0m \u001b[32m━━━━━━━━━━━━━━━━━━━━\u001b[0m\u001b[37m\u001b[0m \u001b[1m0s\u001b[0m 21ms/step - loss: 10768511664128.0000 - learning_rate: 1.2341e-06\n",
      "\n",
      "Epoch 11: LearningRateScheduler setting learning rate to 4.539992976248494e-07.\n",
      "Epoch 11/15\n",
      "\u001b[1m1/1\u001b[0m \u001b[32m━━━━━━━━━━━━━━━━━━━━\u001b[0m\u001b[37m\u001b[0m \u001b[1m0s\u001b[0m 21ms/step - loss: 10423100243968.0000 - learning_rate: 4.5400e-07\n",
      "\n",
      "Epoch 12: LearningRateScheduler setting learning rate to 1.6701700790245693e-07.\n",
      "Epoch 12/15\n",
      "\u001b[1m1/1\u001b[0m \u001b[32m━━━━━━━━━━━━━━━━━━━━\u001b[0m\u001b[37m\u001b[0m \u001b[1m0s\u001b[0m 21ms/step - loss: 10299473133568.0000 - learning_rate: 1.6702e-07\n",
      "\n",
      "Epoch 13: LearningRateScheduler setting learning rate to 6.144212353328224e-08.\n",
      "Epoch 13/15\n",
      "\u001b[1m1/1\u001b[0m \u001b[32m━━━━━━━━━━━━━━━━━━━━\u001b[0m\u001b[37m\u001b[0m \u001b[1m0s\u001b[0m 20ms/step - loss: 10254447280128.0000 - learning_rate: 6.1442e-08\n",
      "\n",
      "Epoch 14: LearningRateScheduler setting learning rate to 2.2603294069810598e-08.\n",
      "Epoch 14/15\n",
      "\u001b[1m1/1\u001b[0m \u001b[32m━━━━━━━━━━━━━━━━━━━━\u001b[0m\u001b[37m\u001b[0m \u001b[1m0s\u001b[0m 20ms/step - loss: 10237944791040.0000 - learning_rate: 2.2603e-08\n",
      "\n",
      "Epoch 15: LearningRateScheduler setting learning rate to 8.3152871910357e-09.\n",
      "Epoch 15/15\n",
      "\u001b[1m1/1\u001b[0m \u001b[32m━━━━━━━━━━━━━━━━━━━━\u001b[0m\u001b[37m\u001b[0m \u001b[1m0s\u001b[0m 20ms/step - loss: 10231881924608.0000 - learning_rate: 8.3153e-09\n"
     ]
    }
   ],
   "source": [
    "def scheduler_exp(epoch):\n",
    "    initial_lr = 0.01\n",
    "    if epoch < 1:\n",
    "        return initial_lr\n",
    "    else:\n",
    "        return initial_lr * np.exp(-1.0)**epoch\n",
    "    \n",
    "model = Sequential([Dense(10)])\n",
    "model.compile(optimizer=SGD(), loss='mse')\n",
    "\n",
    "# LearningRateScheduler 객체에 인자로 scheduler_exp 함수 등록\n",
    "lr_scheduler = LearningRateScheduler(scheduler_exp, verbose=1)\n",
    "history = model.fit(np.arange(100).reshape(5,20), np.zeros((5,1)),\n",
    "                   epochs=15, callbacks=[lr_scheduler], verbose=1)"
   ]
  },
  {
   "cell_type": "code",
   "execution_count": 6,
   "id": "8dc98b55",
   "metadata": {
    "execution": {
     "iopub.execute_input": "2024-03-15T12:07:22.909052Z",
     "iopub.status.busy": "2024-03-15T12:07:22.908783Z",
     "iopub.status.idle": "2024-03-15T12:07:22.916835Z",
     "shell.execute_reply": "2024-03-15T12:07:22.915956Z"
    },
    "papermill": {
     "duration": 0.024877,
     "end_time": "2024-03-15T12:07:22.918726",
     "exception": false,
     "start_time": "2024-03-15T12:07:22.893849",
     "status": "completed"
    },
    "tags": []
   },
   "outputs": [
    {
     "data": {
      "text/plain": [
       "[0.01,\n",
       " 0.003678794411714424,\n",
       " 0.0013533528323661274,\n",
       " 0.0004978706836786397,\n",
       " 0.00018315638888734192,\n",
       " 6.737946999085473e-05,\n",
       " 2.4787521766663612e-05,\n",
       " 9.118819655545175e-06,\n",
       " 3.3546262790251236e-06,\n",
       " 1.2340980408667975e-06,\n",
       " 4.539992976248494e-07,\n",
       " 1.6701700790245693e-07,\n",
       " 6.144212353328224e-08,\n",
       " 2.2603294069810598e-08,\n",
       " 8.3152871910357e-09,\n",
       " 3.0590232050182664e-09,\n",
       " 1.1253517471925945e-09,\n",
       " 4.1399377187851794e-10,\n",
       " 1.5229979744712678e-10,\n",
       " 5.602796437537287e-11,\n",
       " 2.0611536224385655e-11,\n",
       " 7.582560427911936e-12,\n",
       " 2.789468092868936e-12,\n",
       " 1.0261879631701935e-12,\n",
       " 3.7751345442791145e-13,\n",
       " 1.3887943864964086e-13,\n",
       " 5.10908902806335e-14,\n",
       " 1.8795288165390926e-14,\n",
       " 6.9144001069402386e-15,\n",
       " 2.5436656473769363e-15]"
      ]
     },
     "execution_count": 6,
     "metadata": {},
     "output_type": "execute_result"
    }
   ],
   "source": [
    "epoch_list = range(30)\n",
    "lr_list = [scheduler_exp(epoch) for epoch in epoch_list]\n",
    "\n",
    "lr_list"
   ]
  },
  {
   "cell_type": "code",
   "execution_count": 7,
   "id": "c844fc5b",
   "metadata": {
    "execution": {
     "iopub.execute_input": "2024-03-15T12:07:22.948866Z",
     "iopub.status.busy": "2024-03-15T12:07:22.948578Z",
     "iopub.status.idle": "2024-03-15T12:07:22.955368Z",
     "shell.execute_reply": "2024-03-15T12:07:22.954634Z"
    },
    "papermill": {
     "duration": 0.023921,
     "end_time": "2024-03-15T12:07:22.957163",
     "exception": false,
     "start_time": "2024-03-15T12:07:22.933242",
     "status": "completed"
    },
    "tags": []
   },
   "outputs": [],
   "source": [
    "import matplotlib.pyplot as plt\n",
    "%matplotlib inline\n",
    "\n",
    "def plot_scheduler(epochs_list, lr_list, title=None):\n",
    "    plt.figure(figsize=(6,4))\n",
    "    plt.plot(epoch_list,lr_list)\n",
    "    plt.xlabel('epochs')\n",
    "    plt.ylabel('learning rate')\n",
    "    plt.title(title)"
   ]
  },
  {
   "cell_type": "code",
   "execution_count": 8,
   "id": "6cfb40d1",
   "metadata": {
    "execution": {
     "iopub.execute_input": "2024-03-15T12:07:22.986193Z",
     "iopub.status.busy": "2024-03-15T12:07:22.985928Z",
     "iopub.status.idle": "2024-03-15T12:07:23.299572Z",
     "shell.execute_reply": "2024-03-15T12:07:23.298655Z"
    },
    "papermill": {
     "duration": 0.330842,
     "end_time": "2024-03-15T12:07:23.301791",
     "exception": false,
     "start_time": "2024-03-15T12:07:22.970949",
     "status": "completed"
    },
    "tags": []
   },
   "outputs": [
    {
     "data": {
      "image/png": "[encoded data removed]",
      "text/plain": [
       "<Figure size 600x400 with 1 Axes>"
      ]
     },
     "metadata": {},
     "output_type": "display_data"
    }
   ],
   "source": [
    "plot_scheduler(epoch_list, lr_list, title='exponentially decay')"
   ]
  },
  {
   "cell_type": "markdown",
   "id": "2a318e27",
   "metadata": {
    "papermill": {
     "duration": 0.014043,
     "end_time": "2024-03-15T12:07:23.330381",
     "exception": false,
     "start_time": "2024-03-15T12:07:23.316338",
     "status": "completed"
    },
    "tags": []
   },
   "source": [
    "### 또 다른 함수(step_decay)로 LearningRateScheduler 객체 생성하여 LR 조절"
   ]
  },
  {
   "cell_type": "code",
   "execution_count": 9,
   "id": "c150e6cd",
   "metadata": {
    "execution": {
     "iopub.execute_input": "2024-03-15T12:07:23.360929Z",
     "iopub.status.busy": "2024-03-15T12:07:23.360578Z",
     "iopub.status.idle": "2024-03-15T12:07:23.653609Z",
     "shell.execute_reply": "2024-03-15T12:07:23.652674Z"
    },
    "papermill": {
     "duration": 0.310501,
     "end_time": "2024-03-15T12:07:23.655749",
     "exception": false,
     "start_time": "2024-03-15T12:07:23.345248",
     "status": "completed"
    },
    "tags": []
   },
   "outputs": [
    {
     "name": "stdout",
     "output_type": "stream",
     "text": [
      "0 0.1\n",
      "1 0.1\n",
      "2 0.1\n",
      "3 0.1\n",
      "4 0.1\n",
      "5 0.05\n",
      "6 0.05\n",
      "7 0.05\n",
      "8 0.05\n",
      "9 0.05\n",
      "10 0.025\n",
      "11 0.025\n",
      "12 0.025\n",
      "13 0.025\n",
      "14 0.025\n",
      "15 0.0125\n",
      "16 0.0125\n",
      "17 0.0125\n",
      "18 0.0125\n",
      "19 0.0125\n",
      "20 0.00625\n",
      "21 0.00625\n",
      "22 0.00625\n",
      "23 0.00625\n",
      "24 0.00625\n",
      "25 0.003125\n",
      "26 0.003125\n",
      "27 0.003125\n",
      "28 0.003125\n",
      "29 0.003125\n"
     ]
    },
    {
     "data": {
      "image/png": "[encoded data removed]",
      "text/plain": [
       "<Figure size 600x400 with 1 Axes>"
      ]
     },
     "metadata": {},
     "output_type": "display_data"
    }
   ],
   "source": [
    "import tensorflow as tf\n",
    "\n",
    "def step_decay(epoch):\n",
    "    initial_lr = 0.1\n",
    "    drop = 0.5\n",
    "    epochs_drop = 5.0\n",
    "    lr = initial_lr * (drop ** np.floor((epoch)/epochs_drop))\n",
    "    print(epoch, lr)\n",
    "    return lr\n",
    "\n",
    "lr_list = [step_decay(epoch) for epoch in epoch_list]\n",
    "plot_scheduler(epoch_list, lr_list, title='step decay')"
   ]
  },
  {
   "cell_type": "code",
   "execution_count": 10,
   "id": "daec6472",
   "metadata": {
    "execution": {
     "iopub.execute_input": "2024-03-15T12:07:23.688845Z",
     "iopub.status.busy": "2024-03-15T12:07:23.688256Z",
     "iopub.status.idle": "2024-03-15T12:07:24.500210Z",
     "shell.execute_reply": "2024-03-15T12:07:24.499313Z"
    },
    "papermill": {
     "duration": 0.831148,
     "end_time": "2024-03-15T12:07:24.502374",
     "exception": false,
     "start_time": "2024-03-15T12:07:23.671226",
     "status": "completed"
    },
    "tags": []
   },
   "outputs": [
    {
     "name": "stdout",
     "output_type": "stream",
     "text": [
      "초기 learning_rate:  0.009999999776482582\n",
      "0 0.1\n",
      "\n",
      "Epoch 1: LearningRateScheduler setting learning rate to 0.1.\n",
      "Epoch 1/15\n",
      "\u001b[1m1/1\u001b[0m \u001b[32m━━━━━━━━━━━━━━━━━━━━\u001b[0m\u001b[37m\u001b[0m \u001b[1m0s\u001b[0m 390ms/step - loss: 4423.4307 - learning_rate: 0.1000\n",
      "1 0.1\n",
      "\n",
      "Epoch 2: LearningRateScheduler setting learning rate to 0.1.\n",
      "Epoch 2/15\n",
      "\u001b[1m1/1\u001b[0m \u001b[32m━━━━━━━━━━━━━━━━━━━━\u001b[0m\u001b[37m\u001b[0m \u001b[1m0s\u001b[0m 22ms/step - loss: 7559795712.0000 - learning_rate: 0.1000\n",
      "2 0.1\n",
      "\n",
      "Epoch 3: LearningRateScheduler setting learning rate to 0.1.\n",
      "Epoch 3/15\n",
      "\u001b[1m1/1\u001b[0m \u001b[32m━━━━━━━━━━━━━━━━━━━━\u001b[0m\u001b[37m\u001b[0m \u001b[1m0s\u001b[0m 22ms/step - loss: 12956862991302656.0000 - learning_rate: 0.1000\n",
      "3 0.1\n",
      "\n",
      "Epoch 4: LearningRateScheduler setting learning rate to 0.1.\n",
      "Epoch 4/15\n",
      "\u001b[1m1/1\u001b[0m \u001b[32m━━━━━━━━━━━━━━━━━━━━\u001b[0m\u001b[37m\u001b[0m \u001b[1m0s\u001b[0m 21ms/step - loss: 22206995309184969342976.0000 - learning_rate: 0.1000\n",
      "4 0.1\n",
      "\n",
      "Epoch 5: LearningRateScheduler setting learning rate to 0.1.\n",
      "Epoch 5/15\n",
      "\u001b[1m1/1\u001b[0m \u001b[32m━━━━━━━━━━━━━━━━━━━━\u001b[0m\u001b[37m\u001b[0m \u001b[1m0s\u001b[0m 22ms/step - loss: 38060958672863861226197745664.0000 - learning_rate: 0.1000\n",
      "5 0.05\n",
      "\n",
      "Epoch 6: LearningRateScheduler setting learning rate to 0.05.\n",
      "Epoch 6/15\n",
      "\u001b[1m1/1\u001b[0m \u001b[32m━━━━━━━━━━━━━━━━━━━━\u001b[0m\u001b[37m\u001b[0m \u001b[1m0s\u001b[0m 21ms/step - loss: 65233334550065784991668044124127232.0000 - learning_rate: 0.0500\n",
      "6 0.05\n",
      "\n",
      "Epoch 7: LearningRateScheduler setting learning rate to 0.05.\n",
      "Epoch 7/15\n",
      "\u001b[1m1/1\u001b[0m \u001b[32m━━━━━━━━━━━━━━━━━━━━\u001b[0m\u001b[37m\u001b[0m \u001b[1m0s\u001b[0m 21ms/step - loss: inf - learning_rate: 0.0500\n",
      "7 0.05\n",
      "\n",
      "Epoch 8: LearningRateScheduler setting learning rate to 0.05.\n",
      "Epoch 8/15\n",
      "\u001b[1m1/1\u001b[0m \u001b[32m━━━━━━━━━━━━━━━━━━━━\u001b[0m\u001b[37m\u001b[0m \u001b[1m0s\u001b[0m 21ms/step - loss: inf - learning_rate: 0.0500\n",
      "8 0.05\n",
      "\n",
      "Epoch 9: LearningRateScheduler setting learning rate to 0.05.\n",
      "Epoch 9/15\n",
      "\u001b[1m1/1\u001b[0m \u001b[32m━━━━━━━━━━━━━━━━━━━━\u001b[0m\u001b[37m\u001b[0m \u001b[1m0s\u001b[0m 21ms/step - loss: inf - learning_rate: 0.0500\n",
      "9 0.05\n",
      "\n",
      "Epoch 10: LearningRateScheduler setting learning rate to 0.05.\n",
      "Epoch 10/15\n",
      "\u001b[1m1/1\u001b[0m \u001b[32m━━━━━━━━━━━━━━━━━━━━\u001b[0m\u001b[37m\u001b[0m \u001b[1m0s\u001b[0m 21ms/step - loss: inf - learning_rate: 0.0500\n",
      "10 0.025\n",
      "\n",
      "Epoch 11: LearningRateScheduler setting learning rate to 0.025.\n",
      "Epoch 11/15\n",
      "\u001b[1m1/1\u001b[0m \u001b[32m━━━━━━━━━━━━━━━━━━━━\u001b[0m\u001b[37m\u001b[0m \u001b[1m0s\u001b[0m 22ms/step - loss: inf - learning_rate: 0.0250\n",
      "11 0.025\n",
      "\n",
      "Epoch 12: LearningRateScheduler setting learning rate to 0.025.\n",
      "Epoch 12/15\n",
      "\u001b[1m1/1\u001b[0m \u001b[32m━━━━━━━━━━━━━━━━━━━━\u001b[0m\u001b[37m\u001b[0m \u001b[1m0s\u001b[0m 21ms/step - loss: inf - learning_rate: 0.0250\n",
      "12 0.025\n",
      "\n",
      "Epoch 13: LearningRateScheduler setting learning rate to 0.025.\n",
      "Epoch 13/15\n",
      "\u001b[1m1/1\u001b[0m \u001b[32m━━━━━━━━━━━━━━━━━━━━\u001b[0m\u001b[37m\u001b[0m \u001b[1m0s\u001b[0m 21ms/step - loss: inf - learning_rate: 0.0250\n",
      "13 0.025\n",
      "\n",
      "Epoch 14: LearningRateScheduler setting learning rate to 0.025.\n",
      "Epoch 14/15\n",
      "\u001b[1m1/1\u001b[0m \u001b[32m━━━━━━━━━━━━━━━━━━━━\u001b[0m\u001b[37m\u001b[0m \u001b[1m0s\u001b[0m 21ms/step - loss: inf - learning_rate: 0.0250\n",
      "14 0.025\n",
      "\n",
      "Epoch 15: LearningRateScheduler setting learning rate to 0.025.\n",
      "Epoch 15/15\n",
      "\u001b[1m1/1\u001b[0m \u001b[32m━━━━━━━━━━━━━━━━━━━━\u001b[0m\u001b[37m\u001b[0m \u001b[1m0s\u001b[0m 21ms/step - loss: nan - learning_rate: 0.0250\n"
     ]
    }
   ],
   "source": [
    "model = Sequential([Dense(10)])\n",
    "model.compile(optimizer=SGD(), loss='mse')\n",
    "print('초기 learning_rate: ', model.optimizer.get_config().get('learning_rate'))\n",
    "\n",
    "lr_scheduler = LearningRateScheduler(step_decay, verbose=1)\n",
    "history = model.fit(np.arange(100).reshape(5, 20), np.zeros((5, 1)),\n",
    "                   epochs=15, callbacks=[lr_scheduler], verbose=1)"
   ]
  },
  {
   "cell_type": "code",
   "execution_count": null,
   "id": "92b40aa2",
   "metadata": {
    "papermill": {
     "duration": 0.019661,
     "end_time": "2024-03-15T12:07:24.541764",
     "exception": false,
     "start_time": "2024-03-15T12:07:24.522103",
     "status": "completed"
    },
    "tags": []
   },
   "outputs": [],
   "source": []
  }
 ],
 "metadata": {
  "kaggle": {
   "accelerator": "gpu",
   "dataSources": [],
   "dockerImageVersionId": 30665,
   "isGpuEnabled": true,
   "isInternetEnabled": true,
   "language": "python",
   "sourceType": "notebook"
  },
  "kernelspec": {
   "display_name": "Python 3",
   "language": "python",
   "name": "python3"
  },
  "language_info": {
   "codemirror_mode": {
    "name": "ipython",
    "version": 3
   },
   "file_extension": ".py",
   "mimetype": "text/x-python",
   "name": "python",
   "nbconvert_exporter": "python",
   "pygments_lexer": "ipython3",
   "version": "3.10.13"
  },
  "papermill": {
   "default_parameters": {},
   "duration": 21.642013,
   "end_time": "2024-03-15T12:07:26.283831",
   "environment_variables": {},
   "exception": null,
   "input_path": "__notebook__.ipynb",
   "output_path": "__notebook__.ipynb",
   "parameters": {},
   "start_time": "2024-03-15T12:07:04.641818",
   "version": "2.5.0"
  }
 },
 "nbformat": 4,
 "nbformat_minor": 5
}
